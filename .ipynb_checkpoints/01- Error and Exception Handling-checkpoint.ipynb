{
 "cells": [
  {
   "cell_type": "markdown",
   "id": "6555b528",
   "metadata": {},
   "source": [
    "# Error and Exception Handling"
   ]
  },
  {
   "cell_type": "code",
   "execution_count": 1,
   "id": "858fbb92",
   "metadata": {},
   "outputs": [],
   "source": [
    "# 9/0\n",
    "# print ('hello')"
   ]
  },
  {
   "cell_type": "markdown",
   "id": "8b8e7aae",
   "metadata": {},
   "source": [
    "### Try Except Block"
   ]
  },
  {
   "cell_type": "code",
   "execution_count": 2,
   "id": "fe27092b",
   "metadata": {},
   "outputs": [],
   "source": [
    "try:\n",
    "    result = 9/1\n",
    "except:\n",
    "    print ('Something went wrong')"
   ]
  },
  {
   "cell_type": "markdown",
   "id": "a91e9a19",
   "metadata": {},
   "source": [
    "### Try Except Else Block"
   ]
  },
  {
   "cell_type": "code",
   "execution_count": 3,
   "id": "542f72e8",
   "metadata": {},
   "outputs": [
    {
     "name": "stdout",
     "output_type": "stream",
     "text": [
      "Every thing is Ok\n",
      "9.0\n"
     ]
    }
   ],
   "source": [
    "try:\n",
    "    result = 9/1\n",
    "except:\n",
    "    print ('Something went wrong')\n",
    "else :\n",
    "    print ('Every thing is Ok')\n",
    "    print (result)"
   ]
  },
  {
   "cell_type": "code",
   "execution_count": 4,
   "id": "9de3e5d6",
   "metadata": {},
   "outputs": [
    {
     "name": "stdout",
     "output_type": "stream",
     "text": [
      "Something went wrong\n"
     ]
    }
   ],
   "source": [
    "try:\n",
    "    result = 9/0\n",
    "except:\n",
    "    print ('Something went wrong')\n",
    "else :\n",
    "    print ('Every thing is Ok')\n",
    "    print (result)"
   ]
  },
  {
   "cell_type": "code",
   "execution_count": 5,
   "id": "c2a16adc",
   "metadata": {},
   "outputs": [],
   "source": [
    "# result = 9/0 #ZeroDivisionError                         "
   ]
  },
  {
   "cell_type": "code",
   "execution_count": 6,
   "id": "5c6083c0",
   "metadata": {
    "scrolled": true
   },
   "outputs": [],
   "source": [
    "# result = 9/'5' #TypeError"
   ]
  },
  {
   "cell_type": "code",
   "execution_count": 7,
   "id": "e7683c71",
   "metadata": {},
   "outputs": [
    {
     "name": "stdout",
     "output_type": "stream",
     "text": [
      "TypeError happened\n"
     ]
    }
   ],
   "source": [
    "try:\n",
    "    result = 9/'4'\n",
    "except ZeroDivisionError:\n",
    "    print ('ZeroDivisionError happened')\n",
    "except TypeError:\n",
    "    print ('TypeError happened')\n",
    "else :\n",
    "    print ('Every thing is Ok')\n",
    "    print (result)"
   ]
  },
  {
   "cell_type": "code",
   "execution_count": 8,
   "id": "b749b1cc",
   "metadata": {},
   "outputs": [
    {
     "name": "stdout",
     "output_type": "stream",
     "text": [
      "Enter a number: 2\n"
     ]
    }
   ],
   "source": [
    "num = int (input ('Enter a number: '))"
   ]
  },
  {
   "cell_type": "code",
   "execution_count": 9,
   "id": "d8049b93",
   "metadata": {},
   "outputs": [
    {
     "data": {
      "text/plain": [
       "2"
      ]
     },
     "execution_count": 9,
     "metadata": {},
     "output_type": "execute_result"
    }
   ],
   "source": [
    "num"
   ]
  },
  {
   "cell_type": "code",
   "execution_count": 10,
   "id": "8ff52bea",
   "metadata": {},
   "outputs": [
    {
     "data": {
      "text/plain": [
       "int"
      ]
     },
     "execution_count": 10,
     "metadata": {},
     "output_type": "execute_result"
    }
   ],
   "source": [
    "type (num)"
   ]
  },
  {
   "cell_type": "markdown",
   "id": "b3a6efdc",
   "metadata": {},
   "source": [
    "### Try Except Else Finally Block"
   ]
  },
  {
   "cell_type": "code",
   "execution_count": 11,
   "id": "71a0a8e2",
   "metadata": {},
   "outputs": [
    {
     "name": "stdout",
     "output_type": "stream",
     "text": [
      "Every thing is Ok\n",
      "2.25\n",
      "This will be printed anyway!!!\n"
     ]
    }
   ],
   "source": [
    "try:\n",
    "    result = 9/4\n",
    "except ZeroDivisionError:\n",
    "    print ('ZeroDivisionError happened')\n",
    "except TypeError:\n",
    "    print ('TypeError happened')\n",
    "else :\n",
    "    print ('Every thing is Ok')\n",
    "    print (result)\n",
    "finally :\n",
    "    print ('This will be printed anyway!!!')"
   ]
  },
  {
   "cell_type": "code",
   "execution_count": null,
   "id": "595c47b2",
   "metadata": {},
   "outputs": [],
   "source": []
  }
 ],
 "metadata": {
  "kernelspec": {
   "display_name": "Python 3 (ipykernel)",
   "language": "python",
   "name": "python3"
  },
  "language_info": {
   "codemirror_mode": {
    "name": "ipython",
    "version": 3
   },
   "file_extension": ".py",
   "mimetype": "text/x-python",
   "name": "python",
   "nbconvert_exporter": "python",
   "pygments_lexer": "ipython3",
   "version": "3.9.7"
  }
 },
 "nbformat": 4,
 "nbformat_minor": 5
}
