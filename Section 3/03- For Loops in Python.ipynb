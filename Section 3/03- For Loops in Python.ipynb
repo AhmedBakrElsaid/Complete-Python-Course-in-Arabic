{
 "cells": [
  {
   "cell_type": "markdown",
   "id": "81e1324a",
   "metadata": {},
   "source": [
    "<a href='https://www.youtube.com/playlist?list=PLMDrOnfT8EAgCPrFfF8OgMQOTtMUk78AJ'><img src='../course_img.png'/></a>"
   ]
  },
  {
   "cell_type": "markdown",
   "id": "9dca0104",
   "metadata": {},
   "source": [
    "# For Loops in Python"
   ]
  },
  {
   "cell_type": "markdown",
   "id": "78e7846f",
   "metadata": {},
   "source": [
    "#### For loop work with any iterable like strings, lists, tuples and dictionaries"
   ]
  },
  {
   "cell_type": "code",
   "execution_count": 1,
   "id": "68121520",
   "metadata": {},
   "outputs": [],
   "source": [
    "name = 'Asem'\n",
    "mylist = [4,6,8,7,2,3]\n",
    "mytuple = (1,4,8,9,3,5)\n",
    "anydict = {'k1': 'Value1', 'k2': 'Value2', 'k3': 'Value3'} "
   ]
  },
  {
   "cell_type": "markdown",
   "id": "27390372",
   "metadata": {},
   "source": [
    "#### Example 1: Simple for loop with Strings"
   ]
  },
  {
   "cell_type": "code",
   "execution_count": 2,
   "id": "a94bbc55",
   "metadata": {},
   "outputs": [
    {
     "name": "stdout",
     "output_type": "stream",
     "text": [
      "A\n",
      "s\n",
      "e\n",
      "m\n"
     ]
    }
   ],
   "source": [
    "for char in name:\n",
    "    #any code i want to run or excute\n",
    "    print (char)"
   ]
  },
  {
   "cell_type": "markdown",
   "id": "6727acb1",
   "metadata": {},
   "source": [
    "#### Example 2: Simple for Lists"
   ]
  },
  {
   "cell_type": "code",
   "execution_count": 3,
   "id": "cbba52f1",
   "metadata": {},
   "outputs": [],
   "source": [
    "mylist = [4,6,8,7,2,3]"
   ]
  },
  {
   "cell_type": "code",
   "execution_count": 4,
   "id": "7c368664",
   "metadata": {},
   "outputs": [
    {
     "name": "stdout",
     "output_type": "stream",
     "text": [
      "4\n",
      "6\n",
      "8\n",
      "7\n",
      "2\n",
      "3\n"
     ]
    }
   ],
   "source": [
    "for num in mylist:\n",
    "    print (num)"
   ]
  },
  {
   "cell_type": "code",
   "execution_count": 5,
   "id": "e297de8d",
   "metadata": {},
   "outputs": [],
   "source": [
    "mylist = [9,4,6,1,8,7,2,3]"
   ]
  },
  {
   "cell_type": "code",
   "execution_count": 6,
   "id": "6b45cc82",
   "metadata": {},
   "outputs": [
    {
     "data": {
      "text/plain": [
       "1"
      ]
     },
     "execution_count": 6,
     "metadata": {},
     "output_type": "execute_result"
    }
   ],
   "source": [
    "15 % 2"
   ]
  },
  {
   "cell_type": "code",
   "execution_count": 7,
   "id": "8d6f17ec",
   "metadata": {},
   "outputs": [
    {
     "data": {
      "text/plain": [
       "0"
      ]
     },
     "execution_count": 7,
     "metadata": {},
     "output_type": "execute_result"
    }
   ],
   "source": [
    "4 % 2"
   ]
  },
  {
   "cell_type": "markdown",
   "id": "25ae96a2",
   "metadata": {},
   "source": [
    "#### Example 3: for loop to get even numbers"
   ]
  },
  {
   "cell_type": "code",
   "execution_count": 8,
   "id": "9cd7903e",
   "metadata": {},
   "outputs": [
    {
     "name": "stdout",
     "output_type": "stream",
     "text": [
      "4\n",
      "6\n",
      "8\n",
      "2\n"
     ]
    }
   ],
   "source": [
    "for x in mylist:\n",
    "    if x % 2 == 0:\n",
    "        print (x)"
   ]
  },
  {
   "cell_type": "markdown",
   "id": "2de5721e",
   "metadata": {},
   "source": [
    "#### Example 4: for loop to get odd numbers"
   ]
  },
  {
   "cell_type": "code",
   "execution_count": 9,
   "id": "85ff286e",
   "metadata": {},
   "outputs": [
    {
     "name": "stdout",
     "output_type": "stream",
     "text": [
      "9\n",
      "1\n",
      "7\n",
      "3\n"
     ]
    }
   ],
   "source": [
    "for x in mylist:\n",
    "    if x % 2 == 1:\n",
    "        print (x)"
   ]
  },
  {
   "cell_type": "markdown",
   "id": "e600482e",
   "metadata": {},
   "source": [
    "#### Example 5: for loop to get list sum"
   ]
  },
  {
   "cell_type": "code",
   "execution_count": 10,
   "id": "6f597222",
   "metadata": {},
   "outputs": [],
   "source": [
    "mylist = [4,6,8,7,2,3]"
   ]
  },
  {
   "cell_type": "code",
   "execution_count": 11,
   "id": "009d5b9a",
   "metadata": {},
   "outputs": [
    {
     "name": "stdout",
     "output_type": "stream",
     "text": [
      "current num is: 4\n",
      "current sum is: 4\n",
      "*******\n",
      "current num is: 6\n",
      "current sum is: 10\n",
      "*******\n",
      "current num is: 8\n",
      "current sum is: 18\n",
      "*******\n",
      "current num is: 7\n",
      "current sum is: 25\n",
      "*******\n",
      "current num is: 2\n",
      "current sum is: 27\n",
      "*******\n",
      "current num is: 3\n",
      "current sum is: 30\n",
      "*******\n",
      "-----------\n",
      "30\n"
     ]
    }
   ],
   "source": [
    "list_sum = 0\n",
    "\n",
    "for num in mylist:\n",
    "    print (f'current num is: {num}')\n",
    "    list_sum = list_sum + num\n",
    "    print (f'current sum is: {list_sum}')\n",
    "    print ('*******')\n",
    "    \n",
    "print ('-----------')\n",
    "print (list_sum)\n"
   ]
  },
  {
   "cell_type": "code",
   "execution_count": 12,
   "id": "16d1c93c",
   "metadata": {},
   "outputs": [
    {
     "name": "stdout",
     "output_type": "stream",
     "text": [
      "current num is: 4\n",
      "current sum is: 4\n",
      "*******\n",
      "current num is: 6\n",
      "current sum is: 10\n",
      "*******\n",
      "current num is: 8\n",
      "current sum is: 18\n",
      "*******\n",
      "current num is: 7\n",
      "current sum is: 25\n",
      "*******\n",
      "current num is: 2\n",
      "current sum is: 27\n",
      "*******\n",
      "current num is: 3\n",
      "current sum is: 30\n",
      "*******\n",
      "-----------\n",
      "30\n"
     ]
    }
   ],
   "source": [
    "list_sum = 0\n",
    "\n",
    "for num in mylist:\n",
    "    print (f'current num is: {num}')\n",
    "    list_sum += num\n",
    "    print (f'current sum is: {list_sum}')\n",
    "    print ('*******')\n",
    "    \n",
    "print ('-----------')\n",
    "print (list_sum)"
   ]
  },
  {
   "cell_type": "markdown",
   "id": "3c5f05e3",
   "metadata": {},
   "source": [
    "#### Example 6: Using underscore ( _ ) if you are not going to use the variable in the for loop "
   ]
  },
  {
   "cell_type": "code",
   "execution_count": 13,
   "id": "272e1f5e",
   "metadata": {},
   "outputs": [
    {
     "name": "stdout",
     "output_type": "stream",
     "text": [
      "Hello\n",
      "Hello\n",
      "Hello\n",
      "Hello\n",
      "Hello\n",
      "Hello\n"
     ]
    },
    {
     "data": {
      "text/plain": [
       "6"
      ]
     },
     "execution_count": 13,
     "metadata": {},
     "output_type": "execute_result"
    }
   ],
   "source": [
    "for _ in mylist:\n",
    "    print ('Hello')\n",
    "len (mylist)"
   ]
  },
  {
   "cell_type": "markdown",
   "id": "24cba535",
   "metadata": {},
   "source": [
    "#### Example 7: for loop with tuple"
   ]
  },
  {
   "cell_type": "code",
   "execution_count": 14,
   "id": "8623c604",
   "metadata": {},
   "outputs": [
    {
     "name": "stdout",
     "output_type": "stream",
     "text": [
      "30\n"
     ]
    }
   ],
   "source": [
    "tuple_sum = 0\n",
    "mytuple = (1,4,8,9,3,5)\n",
    "for num in mytuple:\n",
    "    tuple_sum += num\n",
    "print (tuple_sum)"
   ]
  },
  {
   "cell_type": "markdown",
   "id": "989f45d5",
   "metadata": {},
   "source": [
    "#### Example 8: for loop with tuples inside list"
   ]
  },
  {
   "cell_type": "code",
   "execution_count": 15,
   "id": "fa72bcec",
   "metadata": {},
   "outputs": [
    {
     "name": "stdout",
     "output_type": "stream",
     "text": [
      "(1, 3)\n",
      "(5, 8)\n",
      "(4, 8)\n"
     ]
    }
   ],
   "source": [
    "list1 = [(1,3),(5,8),(4,8)] \n",
    "for item in list1:\n",
    "    print (item)\n"
   ]
  },
  {
   "cell_type": "code",
   "execution_count": 16,
   "id": "bc767537",
   "metadata": {},
   "outputs": [
    {
     "name": "stdout",
     "output_type": "stream",
     "text": [
      "4\n",
      "13\n",
      "12\n"
     ]
    }
   ],
   "source": [
    "for (a,b) in list1:\n",
    "    print (a + b)"
   ]
  },
  {
   "cell_type": "markdown",
   "id": "d249091e",
   "metadata": {},
   "source": [
    "#### Example 9: for loop with dictionaries"
   ]
  },
  {
   "cell_type": "code",
   "execution_count": 17,
   "id": "7685dc55",
   "metadata": {},
   "outputs": [],
   "source": [
    "anydict = {'k1': 'Value1', 'k2': 'Value2', 'k3': 'Value3'} "
   ]
  },
  {
   "cell_type": "code",
   "execution_count": 18,
   "id": "ec82560f",
   "metadata": {},
   "outputs": [
    {
     "name": "stdout",
     "output_type": "stream",
     "text": [
      "k1\n",
      "k2\n",
      "k3\n"
     ]
    }
   ],
   "source": [
    "for item in anydict :\n",
    "    print (item)"
   ]
  },
  {
   "cell_type": "markdown",
   "id": "7fb0cfec",
   "metadata": {},
   "source": [
    "#### Example 10: Using for to loop through keys and values in a dictionaries"
   ]
  },
  {
   "cell_type": "code",
   "execution_count": 19,
   "id": "4c0c5f92",
   "metadata": {},
   "outputs": [
    {
     "data": {
      "text/plain": [
       "dict_items([('k1', 'Value1'), ('k2', 'Value2'), ('k3', 'Value3')])"
      ]
     },
     "execution_count": 19,
     "metadata": {},
     "output_type": "execute_result"
    }
   ],
   "source": [
    "anydict.items ()"
   ]
  },
  {
   "cell_type": "code",
   "execution_count": 20,
   "id": "2ff3bac0",
   "metadata": {},
   "outputs": [
    {
     "name": "stdout",
     "output_type": "stream",
     "text": [
      "Value1\n",
      "Value2\n",
      "Value3\n"
     ]
    }
   ],
   "source": [
    "for (k,v) in anydict.items () :\n",
    "    print (v)"
   ]
  }
 ],
 "metadata": {
  "kernelspec": {
   "display_name": "Python 3 (ipykernel)",
   "language": "python",
   "name": "python3"
  },
  "language_info": {
   "codemirror_mode": {
    "name": "ipython",
    "version": 3
   },
   "file_extension": ".py",
   "mimetype": "text/x-python",
   "name": "python",
   "nbconvert_exporter": "python",
   "pygments_lexer": "ipython3",
   "version": "3.9.7"
  }
 },
 "nbformat": 4,
 "nbformat_minor": 5
}
