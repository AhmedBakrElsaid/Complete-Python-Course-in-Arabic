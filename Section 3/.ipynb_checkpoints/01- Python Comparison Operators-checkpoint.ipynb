{
 "cells": [
  {
   "cell_type": "markdown",
   "id": "db951dbf",
   "metadata": {},
   "source": [
    "<a href='https://www.youtube.com/playlist?list=PLMDrOnfT8EAgCPrFfF8OgMQOTtMUk78AJ'><img src='../course_img.png'/></a>"
   ]
  },
  {
   "cell_type": "markdown",
   "id": "e802c086",
   "metadata": {},
   "source": [
    "# Python Comparison Operators "
   ]
  },
  {
   "cell_type": "code",
   "execution_count": 1,
   "id": "7a78297a",
   "metadata": {},
   "outputs": [],
   "source": [
    "# 2 = 2 "
   ]
  },
  {
   "cell_type": "markdown",
   "id": "da699940",
   "metadata": {},
   "source": [
    "### Assignment Operator (=)"
   ]
  },
  {
   "cell_type": "code",
   "execution_count": 2,
   "id": "8b62d00c",
   "metadata": {},
   "outputs": [],
   "source": [
    "dusifhud = 2"
   ]
  },
  {
   "cell_type": "markdown",
   "id": "ab56d4f5",
   "metadata": {},
   "source": [
    "### Comparison Operators"
   ]
  },
  {
   "cell_type": "markdown",
   "id": "f58f88c3",
   "metadata": {},
   "source": [
    "#### 1- Equal (==)"
   ]
  },
  {
   "cell_type": "code",
   "execution_count": 3,
   "id": "d52caac8",
   "metadata": {},
   "outputs": [
    {
     "data": {
      "text/plain": [
       "True"
      ]
     },
     "execution_count": 3,
     "metadata": {},
     "output_type": "execute_result"
    }
   ],
   "source": [
    "2 == 2"
   ]
  },
  {
   "cell_type": "code",
   "execution_count": 4,
   "id": "8d9cc7c5",
   "metadata": {},
   "outputs": [
    {
     "data": {
      "text/plain": [
       "False"
      ]
     },
     "execution_count": 4,
     "metadata": {},
     "output_type": "execute_result"
    }
   ],
   "source": [
    "3 == 2"
   ]
  },
  {
   "cell_type": "markdown",
   "id": "167fba24",
   "metadata": {},
   "source": [
    "#### 2- Not Equal (!=)"
   ]
  },
  {
   "cell_type": "code",
   "execution_count": 5,
   "id": "ccde790f",
   "metadata": {},
   "outputs": [
    {
     "data": {
      "text/plain": [
       "False"
      ]
     },
     "execution_count": 5,
     "metadata": {},
     "output_type": "execute_result"
    }
   ],
   "source": [
    "3 != 3"
   ]
  },
  {
   "cell_type": "code",
   "execution_count": 6,
   "id": "d1666107",
   "metadata": {},
   "outputs": [
    {
     "data": {
      "text/plain": [
       "True"
      ]
     },
     "execution_count": 6,
     "metadata": {},
     "output_type": "execute_result"
    }
   ],
   "source": [
    "3 != 1"
   ]
  },
  {
   "cell_type": "code",
   "execution_count": 7,
   "id": "1269ccdf",
   "metadata": {},
   "outputs": [
    {
     "data": {
      "text/plain": [
       "True"
      ]
     },
     "execution_count": 7,
     "metadata": {},
     "output_type": "execute_result"
    }
   ],
   "source": [
    "'Asem' != 'Omar'"
   ]
  },
  {
   "cell_type": "markdown",
   "id": "013dc02f",
   "metadata": {},
   "source": [
    "#### 3- Greater than (>)"
   ]
  },
  {
   "cell_type": "code",
   "execution_count": 8,
   "id": "a391a5d2",
   "metadata": {},
   "outputs": [
    {
     "data": {
      "text/plain": [
       "True"
      ]
     },
     "execution_count": 8,
     "metadata": {},
     "output_type": "execute_result"
    }
   ],
   "source": [
    "3 > 2"
   ]
  },
  {
   "cell_type": "code",
   "execution_count": 9,
   "id": "dfa129b8",
   "metadata": {},
   "outputs": [
    {
     "data": {
      "text/plain": [
       "False"
      ]
     },
     "execution_count": 9,
     "metadata": {},
     "output_type": "execute_result"
    }
   ],
   "source": [
    "2 > 5"
   ]
  },
  {
   "cell_type": "markdown",
   "id": "7ab916ba",
   "metadata": {},
   "source": [
    "#### 4- Less than (<)"
   ]
  },
  {
   "cell_type": "code",
   "execution_count": 10,
   "id": "16e8b63d",
   "metadata": {},
   "outputs": [
    {
     "data": {
      "text/plain": [
       "True"
      ]
     },
     "execution_count": 10,
     "metadata": {},
     "output_type": "execute_result"
    }
   ],
   "source": [
    "2 < 5"
   ]
  },
  {
   "cell_type": "code",
   "execution_count": 11,
   "id": "aec5b225",
   "metadata": {},
   "outputs": [
    {
     "data": {
      "text/plain": [
       "False"
      ]
     },
     "execution_count": 11,
     "metadata": {},
     "output_type": "execute_result"
    }
   ],
   "source": [
    "3 < 2"
   ]
  },
  {
   "cell_type": "markdown",
   "id": "b04612d6",
   "metadata": {},
   "source": [
    "#### 5- Greater than or Equal to (>=)"
   ]
  },
  {
   "cell_type": "code",
   "execution_count": 12,
   "id": "24332d13",
   "metadata": {},
   "outputs": [
    {
     "data": {
      "text/plain": [
       "False"
      ]
     },
     "execution_count": 12,
     "metadata": {},
     "output_type": "execute_result"
    }
   ],
   "source": [
    "3 > 3"
   ]
  },
  {
   "cell_type": "code",
   "execution_count": 13,
   "id": "0f519d08",
   "metadata": {},
   "outputs": [
    {
     "data": {
      "text/plain": [
       "True"
      ]
     },
     "execution_count": 13,
     "metadata": {},
     "output_type": "execute_result"
    }
   ],
   "source": [
    "3 >= 3"
   ]
  },
  {
   "cell_type": "markdown",
   "id": "992ad148",
   "metadata": {},
   "source": [
    "#### 6- Less than or Equal to (<=)"
   ]
  },
  {
   "cell_type": "code",
   "execution_count": 14,
   "id": "29a7bedf",
   "metadata": {},
   "outputs": [
    {
     "data": {
      "text/plain": [
       "True"
      ]
     },
     "execution_count": 14,
     "metadata": {},
     "output_type": "execute_result"
    }
   ],
   "source": [
    "2 <= 6"
   ]
  },
  {
   "cell_type": "code",
   "execution_count": 15,
   "id": "16ac0171",
   "metadata": {},
   "outputs": [
    {
     "data": {
      "text/plain": [
       "True"
      ]
     },
     "execution_count": 15,
     "metadata": {},
     "output_type": "execute_result"
    }
   ],
   "source": [
    "2 <= 2"
   ]
  },
  {
   "cell_type": "code",
   "execution_count": 16,
   "id": "d5e58184",
   "metadata": {},
   "outputs": [
    {
     "data": {
      "text/plain": [
       "False"
      ]
     },
     "execution_count": 16,
     "metadata": {},
     "output_type": "execute_result"
    }
   ],
   "source": [
    "2 <= 1"
   ]
  },
  {
   "cell_type": "markdown",
   "id": "0c5579d3",
   "metadata": {},
   "source": [
    "### Chained Comparison Operators"
   ]
  },
  {
   "cell_type": "code",
   "execution_count": 17,
   "id": "98386799",
   "metadata": {},
   "outputs": [
    {
     "data": {
      "text/plain": [
       "False"
      ]
     },
     "execution_count": 17,
     "metadata": {},
     "output_type": "execute_result"
    }
   ],
   "source": [
    "2 < 3 > 5"
   ]
  },
  {
   "cell_type": "markdown",
   "id": "303e608c",
   "metadata": {},
   "source": [
    "#### 1- \"and\" keyword (and)"
   ]
  },
  {
   "cell_type": "code",
   "execution_count": 18,
   "id": "16b8f3e7",
   "metadata": {},
   "outputs": [
    {
     "data": {
      "text/plain": [
       "False"
      ]
     },
     "execution_count": 18,
     "metadata": {},
     "output_type": "execute_result"
    }
   ],
   "source": [
    "(2 > 5) and (4 < 5)\n",
    "# True + True   => True \n",
    "# True + False  => False\n",
    "# False + True  => False\n",
    "# False + False => False"
   ]
  },
  {
   "cell_type": "code",
   "execution_count": 19,
   "id": "ea1a4157",
   "metadata": {},
   "outputs": [
    {
     "data": {
      "text/plain": [
       "True"
      ]
     },
     "execution_count": 19,
     "metadata": {},
     "output_type": "execute_result"
    }
   ],
   "source": [
    "8 > 5 and 4 < 5 and 2 < 7"
   ]
  },
  {
   "cell_type": "markdown",
   "id": "bab82216",
   "metadata": {},
   "source": [
    "#### 2- \"or\" keyword (or)"
   ]
  },
  {
   "cell_type": "code",
   "execution_count": 20,
   "id": "6f99d630",
   "metadata": {},
   "outputs": [
    {
     "data": {
      "text/plain": [
       "True"
      ]
     },
     "execution_count": 20,
     "metadata": {},
     "output_type": "execute_result"
    }
   ],
   "source": [
    "(2 > 5) or (4 < 5)\n",
    "# True + True   => True \n",
    "# True + False  => True\n",
    "# False + True  => True\n",
    "# False + False => False"
   ]
  },
  {
   "cell_type": "code",
   "execution_count": 21,
   "id": "c68b772b",
   "metadata": {},
   "outputs": [
    {
     "data": {
      "text/plain": [
       "True"
      ]
     },
     "execution_count": 21,
     "metadata": {},
     "output_type": "execute_result"
    }
   ],
   "source": [
    "(2 < 5 and 7 > 6) or (4 < 3)"
   ]
  },
  {
   "cell_type": "code",
   "execution_count": 22,
   "id": "9314d2ca",
   "metadata": {},
   "outputs": [
    {
     "data": {
      "text/plain": [
       "False"
      ]
     },
     "execution_count": 22,
     "metadata": {},
     "output_type": "execute_result"
    }
   ],
   "source": [
    "my_num = 7\n",
    "(my_num < 5 and 7 > 6) or (4 < 3)"
   ]
  },
  {
   "cell_type": "code",
   "execution_count": null,
   "id": "a35e9b69",
   "metadata": {},
   "outputs": [],
   "source": []
  }
 ],
 "metadata": {
  "kernelspec": {
   "display_name": "Python 3 (ipykernel)",
   "language": "python",
   "name": "python3"
  },
  "language_info": {
   "codemirror_mode": {
    "name": "ipython",
    "version": 3
   },
   "file_extension": ".py",
   "mimetype": "text/x-python",
   "name": "python",
   "nbconvert_exporter": "python",
   "pygments_lexer": "ipython3",
   "version": "3.9.7"
  }
 },
 "nbformat": 4,
 "nbformat_minor": 5
}
