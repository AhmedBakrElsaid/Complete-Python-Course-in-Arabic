{
 "cells": [
  {
   "cell_type": "markdown",
   "id": "4f554053",
   "metadata": {},
   "source": [
    "<a href='https://www.youtube.com/playlist?list=PLMDrOnfT8EAgCPrFfF8OgMQOTtMUk78AJ'><img src='../course_img.png'/></a>"
   ]
  },
  {
   "cell_type": "markdown",
   "id": "8c162088",
   "metadata": {},
   "source": [
    "# Useful Operators in Python"
   ]
  },
  {
   "cell_type": "markdown",
   "id": "f095fe64",
   "metadata": {},
   "source": [
    "### range( )"
   ]
  },
  {
   "cell_type": "code",
   "execution_count": 1,
   "id": "dc2174d8",
   "metadata": {},
   "outputs": [
    {
     "data": {
      "text/plain": [
       "range(0, 10)"
      ]
     },
     "execution_count": 1,
     "metadata": {},
     "output_type": "execute_result"
    }
   ],
   "source": [
    "range (10)"
   ]
  },
  {
   "cell_type": "code",
   "execution_count": 2,
   "id": "b71978ef",
   "metadata": {},
   "outputs": [
    {
     "data": {
      "text/plain": [
       "[0, 1, 2, 3, 4, 5, 6, 7, 8, 9]"
      ]
     },
     "execution_count": 2,
     "metadata": {},
     "output_type": "execute_result"
    }
   ],
   "source": [
    "list (range (10))"
   ]
  },
  {
   "cell_type": "code",
   "execution_count": 3,
   "id": "185f16c9",
   "metadata": {},
   "outputs": [
    {
     "name": "stdout",
     "output_type": "stream",
     "text": [
      "0\n",
      "1\n",
      "2\n",
      "3\n",
      "4\n",
      "5\n",
      "6\n",
      "7\n",
      "8\n",
      "9\n"
     ]
    }
   ],
   "source": [
    "for num in range(10):\n",
    "    print (num)"
   ]
  },
  {
   "cell_type": "code",
   "execution_count": 5,
   "id": "05bf1674",
   "metadata": {},
   "outputs": [
    {
     "data": {
      "text/plain": [
       "[0, 1, 2, 3, 4, 5, 6, 7, 8, 9, 10, 11, 12, 13, 14, 15]"
      ]
     },
     "execution_count": 5,
     "metadata": {},
     "output_type": "execute_result"
    }
   ],
   "source": [
    "list (range (16))"
   ]
  },
  {
   "cell_type": "code",
   "execution_count": 6,
   "id": "6bdfe41c",
   "metadata": {},
   "outputs": [
    {
     "data": {
      "text/plain": [
       "[2, 3, 4, 5, 6, 7, 8, 9, 10, 11, 12, 13, 14, 15]"
      ]
     },
     "execution_count": 6,
     "metadata": {},
     "output_type": "execute_result"
    }
   ],
   "source": [
    "list (range (2,16))"
   ]
  },
  {
   "cell_type": "code",
   "execution_count": 8,
   "id": "8b47edeb",
   "metadata": {},
   "outputs": [
    {
     "data": {
      "text/plain": [
       "[2, 5, 8, 11, 14]"
      ]
     },
     "execution_count": 8,
     "metadata": {},
     "output_type": "execute_result"
    }
   ],
   "source": [
    "list (range (2,16,3))"
   ]
  },
  {
   "cell_type": "code",
   "execution_count": 9,
   "id": "aadfffd3",
   "metadata": {},
   "outputs": [
    {
     "data": {
      "text/plain": [
       "[0, 10, 20, 30, 40, 50, 60, 70, 80, 90, 100]"
      ]
     },
     "execution_count": 9,
     "metadata": {},
     "output_type": "execute_result"
    }
   ],
   "source": [
    "list (range (0,101,10))"
   ]
  },
  {
   "cell_type": "code",
   "execution_count": 10,
   "id": "ac2b072e",
   "metadata": {},
   "outputs": [
    {
     "name": "stdout",
     "output_type": "stream",
     "text": [
      "0\n",
      "10\n",
      "20\n",
      "30\n",
      "40\n",
      "50\n",
      "60\n",
      "70\n",
      "80\n",
      "90\n",
      "100\n"
     ]
    }
   ],
   "source": [
    "for num in range (0,101,10):\n",
    "    print (num)"
   ]
  },
  {
   "cell_type": "markdown",
   "id": "4088c3ab",
   "metadata": {},
   "source": [
    "### enumerate( )"
   ]
  },
  {
   "cell_type": "code",
   "execution_count": 12,
   "id": "cb6be069",
   "metadata": {},
   "outputs": [
    {
     "name": "stdout",
     "output_type": "stream",
     "text": [
      "the index is: 0 and current character is: A\n",
      "the index is: 1 and current character is: s\n",
      "the index is: 2 and current character is: e\n",
      "the index is: 3 and current character is: m\n",
      "the index is: 4 and current character is:  \n",
      "the index is: 5 and current character is: S\n",
      "the index is: 6 and current character is: a\n",
      "the index is: 7 and current character is: a\n",
      "the index is: 8 and current character is: f\n",
      "the index is: 9 and current character is: a\n",
      "the index is: 10 and current character is: n\n"
     ]
    }
   ],
   "source": [
    "name = 'Asem Saafan'\n",
    "index = 0\n",
    "for char in name :\n",
    "    print (f'the index is: {index} and current character is: {char}')\n",
    "    index += 1"
   ]
  },
  {
   "cell_type": "code",
   "execution_count": 15,
   "id": "5aa70848",
   "metadata": {},
   "outputs": [
    {
     "data": {
      "text/plain": [
       "<enumerate at 0x1a0b860c180>"
      ]
     },
     "execution_count": 15,
     "metadata": {},
     "output_type": "execute_result"
    }
   ],
   "source": [
    "enumerate(name)"
   ]
  },
  {
   "cell_type": "code",
   "execution_count": 16,
   "id": "9a0337cd",
   "metadata": {},
   "outputs": [
    {
     "data": {
      "text/plain": [
       "[(0, 'A'),\n",
       " (1, 's'),\n",
       " (2, 'e'),\n",
       " (3, 'm'),\n",
       " (4, ' '),\n",
       " (5, 'S'),\n",
       " (6, 'a'),\n",
       " (7, 'a'),\n",
       " (8, 'f'),\n",
       " (9, 'a'),\n",
       " (10, 'n')]"
      ]
     },
     "execution_count": 16,
     "metadata": {},
     "output_type": "execute_result"
    }
   ],
   "source": [
    "list (enumerate(name))"
   ]
  },
  {
   "cell_type": "code",
   "execution_count": 17,
   "id": "eb4a4f8d",
   "metadata": {},
   "outputs": [
    {
     "name": "stdout",
     "output_type": "stream",
     "text": [
      "the index is: 0 and current character is: A\n",
      "the index is: 1 and current character is: s\n",
      "the index is: 2 and current character is: e\n",
      "the index is: 3 and current character is: m\n",
      "the index is: 4 and current character is:  \n",
      "the index is: 5 and current character is: S\n",
      "the index is: 6 and current character is: a\n",
      "the index is: 7 and current character is: a\n",
      "the index is: 8 and current character is: f\n",
      "the index is: 9 and current character is: a\n",
      "the index is: 10 and current character is: n\n"
     ]
    }
   ],
   "source": [
    "for (i , char) in enumerate(name):\n",
    "    print (f'the index is: {i} and current character is: {char}')"
   ]
  },
  {
   "cell_type": "markdown",
   "id": "2cda6ae5",
   "metadata": {},
   "source": [
    "### zip( )"
   ]
  },
  {
   "cell_type": "code",
   "execution_count": 21,
   "id": "b11e2b36",
   "metadata": {},
   "outputs": [],
   "source": [
    "first_names = ['Asem' , 'Ahmed' , 'Ibrahim', 'Omar', 'Islam']\n",
    "last_names = ['Saafan' , 'Mohamed', 'Khaled', 'Abd-elnaser']"
   ]
  },
  {
   "cell_type": "code",
   "execution_count": 19,
   "id": "a0e64eba",
   "metadata": {},
   "outputs": [
    {
     "data": {
      "text/plain": [
       "<zip at 0x1a0b860cfc0>"
      ]
     },
     "execution_count": 19,
     "metadata": {},
     "output_type": "execute_result"
    }
   ],
   "source": [
    "zip ( first_names,last_names )"
   ]
  },
  {
   "cell_type": "code",
   "execution_count": 22,
   "id": "578cc823",
   "metadata": {},
   "outputs": [
    {
     "data": {
      "text/plain": [
       "[('Asem', 'Saafan'),\n",
       " ('Ahmed', 'Mohamed'),\n",
       " ('Ibrahim', 'Khaled'),\n",
       " ('Omar', 'Abd-elnaser')]"
      ]
     },
     "execution_count": 22,
     "metadata": {},
     "output_type": "execute_result"
    }
   ],
   "source": [
    "list ( zip ( first_names,last_names ) )"
   ]
  },
  {
   "cell_type": "code",
   "execution_count": 23,
   "id": "76f7b0b7",
   "metadata": {},
   "outputs": [
    {
     "name": "stdout",
     "output_type": "stream",
     "text": [
      "the fullname is: Asem Saafan\n",
      "the fullname is: Ahmed Mohamed\n",
      "the fullname is: Ibrahim Khaled\n",
      "the fullname is: Omar Abd-elnaser\n"
     ]
    }
   ],
   "source": [
    "for first_name, last_name in zip ( first_names,last_names ):\n",
    "    print (f'the fullname is: {first_name} {last_name}')"
   ]
  },
  {
   "cell_type": "markdown",
   "id": "c1be4e61",
   "metadata": {},
   "source": [
    "### in operator"
   ]
  },
  {
   "cell_type": "code",
   "execution_count": 24,
   "id": "5b4a9b66",
   "metadata": {},
   "outputs": [],
   "source": [
    "first_names = ['Asem' , 'Ahmed' , 'Ibrahim', 'Omar', 'Islam']"
   ]
  },
  {
   "cell_type": "code",
   "execution_count": 25,
   "id": "d8dc69d0",
   "metadata": {},
   "outputs": [
    {
     "data": {
      "text/plain": [
       "True"
      ]
     },
     "execution_count": 25,
     "metadata": {},
     "output_type": "execute_result"
    }
   ],
   "source": [
    "'Asem' in first_names"
   ]
  },
  {
   "cell_type": "code",
   "execution_count": 26,
   "id": "c66684fe",
   "metadata": {},
   "outputs": [
    {
     "data": {
      "text/plain": [
       "False"
      ]
     },
     "execution_count": 26,
     "metadata": {},
     "output_type": "execute_result"
    }
   ],
   "source": [
    "'Asedm' in first_names"
   ]
  },
  {
   "cell_type": "code",
   "execution_count": 27,
   "id": "9065abe0",
   "metadata": {},
   "outputs": [
    {
     "data": {
      "text/plain": [
       "True"
      ]
     },
     "execution_count": 27,
     "metadata": {},
     "output_type": "execute_result"
    }
   ],
   "source": [
    "'A' in 'A hemehufsd'"
   ]
  },
  {
   "cell_type": "code",
   "execution_count": 28,
   "id": "f3334057",
   "metadata": {},
   "outputs": [
    {
     "data": {
      "text/plain": [
       "False"
      ]
     },
     "execution_count": 28,
     "metadata": {},
     "output_type": "execute_result"
    }
   ],
   "source": [
    "'a' in 'A hemehufsd'"
   ]
  },
  {
   "cell_type": "markdown",
   "id": "7f264b09",
   "metadata": {},
   "source": [
    "### not in operator"
   ]
  },
  {
   "cell_type": "code",
   "execution_count": 29,
   "id": "a63198a6",
   "metadata": {},
   "outputs": [],
   "source": [
    "first_names = ['Asem' , 'Ahmed' , 'Ibrahim', 'Omar', 'Islam']"
   ]
  },
  {
   "cell_type": "code",
   "execution_count": 30,
   "id": "56ed3508",
   "metadata": {},
   "outputs": [
    {
     "data": {
      "text/plain": [
       "True"
      ]
     },
     "execution_count": 30,
     "metadata": {},
     "output_type": "execute_result"
    }
   ],
   "source": [
    "'a' not in 'A hemehufsd'"
   ]
  },
  {
   "cell_type": "markdown",
   "id": "15acabe6",
   "metadata": {},
   "source": [
    "### min and max methods"
   ]
  },
  {
   "cell_type": "code",
   "execution_count": 33,
   "id": "7345b90b",
   "metadata": {},
   "outputs": [],
   "source": [
    "numbers = [5,78,84,12,38,87,1,125,8884,5]"
   ]
  },
  {
   "cell_type": "code",
   "execution_count": 34,
   "id": "e4e051b6",
   "metadata": {},
   "outputs": [
    {
     "data": {
      "text/plain": [
       "1"
      ]
     },
     "execution_count": 34,
     "metadata": {},
     "output_type": "execute_result"
    }
   ],
   "source": [
    "min (numbers)"
   ]
  },
  {
   "cell_type": "code",
   "execution_count": 35,
   "id": "6c92c8d9",
   "metadata": {},
   "outputs": [
    {
     "data": {
      "text/plain": [
       "8884"
      ]
     },
     "execution_count": 35,
     "metadata": {},
     "output_type": "execute_result"
    }
   ],
   "source": [
    "max (numbers)"
   ]
  },
  {
   "cell_type": "markdown",
   "id": "12e32d91",
   "metadata": {},
   "source": [
    "### input()"
   ]
  },
  {
   "cell_type": "code",
   "execution_count": 36,
   "id": "09943890",
   "metadata": {},
   "outputs": [
    {
     "name": "stdout",
     "output_type": "stream",
     "text": [
      "Enter your first name: Asem\n"
     ]
    },
    {
     "data": {
      "text/plain": [
       "'Asem'"
      ]
     },
     "execution_count": 36,
     "metadata": {},
     "output_type": "execute_result"
    }
   ],
   "source": [
    "input ('Enter your first name: ')"
   ]
  },
  {
   "cell_type": "code",
   "execution_count": 37,
   "id": "266702a5",
   "metadata": {},
   "outputs": [
    {
     "name": "stdout",
     "output_type": "stream",
     "text": [
      "Enter your first name: Asem\n"
     ]
    }
   ],
   "source": [
    "first_name = input ('Enter your first name: ')"
   ]
  },
  {
   "cell_type": "code",
   "execution_count": 38,
   "id": "7b8cfefe",
   "metadata": {},
   "outputs": [
    {
     "data": {
      "text/plain": [
       "'Asem'"
      ]
     },
     "execution_count": 38,
     "metadata": {},
     "output_type": "execute_result"
    }
   ],
   "source": [
    "first_name"
   ]
  },
  {
   "cell_type": "code",
   "execution_count": null,
   "id": "4e9b57b7",
   "metadata": {},
   "outputs": [],
   "source": []
  }
 ],
 "metadata": {
  "kernelspec": {
   "display_name": "Python 3 (ipykernel)",
   "language": "python",
   "name": "python3"
  },
  "language_info": {
   "codemirror_mode": {
    "name": "ipython",
    "version": 3
   },
   "file_extension": ".py",
   "mimetype": "text/x-python",
   "name": "python",
   "nbconvert_exporter": "python",
   "pygments_lexer": "ipython3",
   "version": "3.9.7"
  }
 },
 "nbformat": 4,
 "nbformat_minor": 5
}
