{
 "cells": [
  {
   "cell_type": "markdown",
   "id": "783153d4",
   "metadata": {},
   "source": [
    "<a href='https://www.youtube.com/playlist?list=PLMDrOnfT8EAgCPrFfF8OgMQOTtMUk78AJ'><img src='../course_img.png'/></a>"
   ]
  },
  {
   "cell_type": "markdown",
   "id": "32eb51a3",
   "metadata": {},
   "source": [
    "# If, Elif and Else Statements in Python"
   ]
  },
  {
   "cell_type": "markdown",
   "id": "2fc7eee0",
   "metadata": {},
   "source": [
    "#### Simple If example"
   ]
  },
  {
   "cell_type": "code",
   "execution_count": 1,
   "id": "44106fd7",
   "metadata": {},
   "outputs": [
    {
     "name": "stdout",
     "output_type": "stream",
     "text": [
      "first if statement is TRUE\n"
     ]
    }
   ],
   "source": [
    "if True:\n",
    "    print ('first if statement is TRUE')"
   ]
  },
  {
   "cell_type": "code",
   "execution_count": 2,
   "id": "c443d489",
   "metadata": {},
   "outputs": [],
   "source": [
    "if False:\n",
    "    print ('first if statement is TRUE')"
   ]
  },
  {
   "cell_type": "code",
   "execution_count": 3,
   "id": "7cbaed9b",
   "metadata": {},
   "outputs": [],
   "source": [
    "age = 15\n",
    "\n",
    "if age >= 20:\n",
    "    print ('You Are Allowed')"
   ]
  },
  {
   "cell_type": "code",
   "execution_count": 4,
   "id": "bd31a6bc",
   "metadata": {},
   "outputs": [
    {
     "name": "stdout",
     "output_type": "stream",
     "text": [
      "You Are Allowed\n"
     ]
    }
   ],
   "source": [
    "age = 25\n",
    "\n",
    "if age >= 20:\n",
    "    print ('You Are Allowed')"
   ]
  },
  {
   "cell_type": "markdown",
   "id": "4c3f3098",
   "metadata": {},
   "source": [
    "#### IF ELSE Statments"
   ]
  },
  {
   "cell_type": "code",
   "execution_count": 5,
   "id": "fd084c8b",
   "metadata": {},
   "outputs": [
    {
     "name": "stdout",
     "output_type": "stream",
     "text": [
      "You are not allowed\n"
     ]
    }
   ],
   "source": [
    "age = 15\n",
    "\n",
    "if age >= 20:\n",
    "    print ('You Are allowed')\n",
    "else:\n",
    "    print ('You are not allowed')"
   ]
  },
  {
   "cell_type": "markdown",
   "id": "a13c8b5a",
   "metadata": {},
   "source": [
    "#### IF Elif Else"
   ]
  },
  {
   "cell_type": "code",
   "execution_count": 6,
   "id": "adf482ae",
   "metadata": {},
   "outputs": [
    {
     "name": "stdout",
     "output_type": "stream",
     "text": [
      "Failed\n"
     ]
    }
   ],
   "source": [
    "degree = 20\n",
    "\n",
    "if degree >= 85:\n",
    "    print ('Excellent')\n",
    "elif degree >= 75:\n",
    "    print ('Very Good')\n",
    "elif degree >= 65:\n",
    "    print ('Good')\n",
    "elif degree >= 50:\n",
    "    print ('Passed')\n",
    "else:\n",
    "    print ('Failed')"
   ]
  },
  {
   "cell_type": "markdown",
   "id": "ccc1d6c7",
   "metadata": {},
   "source": [
    "#### Nested If "
   ]
  },
  {
   "cell_type": "code",
   "execution_count": 7,
   "id": "4f4b770a",
   "metadata": {},
   "outputs": [
    {
     "name": "stdout",
     "output_type": "stream",
     "text": [
      "Name is Asem\n",
      "Asem has less than 20 years\n"
     ]
    }
   ],
   "source": [
    "name = 'Asem'\n",
    "age = 15\n",
    "\n",
    "if name == 'Asem':\n",
    "    print ('Name is Asem')\n",
    "    if age >= 20:\n",
    "        print ('Asem has 20 years or more years')\n",
    "    else :\n",
    "        print ('Asem has less than 20 years')\n",
    "else: \n",
    "    print ('Name not found')"
   ]
  },
  {
   "cell_type": "code",
   "execution_count": null,
   "id": "65cbba4f",
   "metadata": {},
   "outputs": [],
   "source": []
  }
 ],
 "metadata": {
  "kernelspec": {
   "display_name": "Python 3 (ipykernel)",
   "language": "python",
   "name": "python3"
  },
  "language_info": {
   "codemirror_mode": {
    "name": "ipython",
    "version": 3
   },
   "file_extension": ".py",
   "mimetype": "text/x-python",
   "name": "python",
   "nbconvert_exporter": "python",
   "pygments_lexer": "ipython3",
   "version": "3.9.7"
  }
 },
 "nbformat": 4,
 "nbformat_minor": 5
}
