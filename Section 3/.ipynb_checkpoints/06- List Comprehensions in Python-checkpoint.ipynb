{
 "cells": [
  {
   "cell_type": "markdown",
   "id": "9d0f93ad",
   "metadata": {},
   "source": [
    "<a href='https://www.youtube.com/playlist?list=PLMDrOnfT8EAgCPrFfF8OgMQOTtMUk78AJ'><img src='../course_img.png'/></a>"
   ]
  },
  {
   "cell_type": "markdown",
   "id": "3f3f12db",
   "metadata": {},
   "source": [
    "# List Comprehensions in Python"
   ]
  },
  {
   "cell_type": "markdown",
   "id": "e6c84381",
   "metadata": {},
   "source": [
    "#### 1- Basic Method of building list out of iterable item"
   ]
  },
  {
   "cell_type": "code",
   "execution_count": 1,
   "id": "a18a5a1a",
   "metadata": {},
   "outputs": [],
   "source": [
    "anytext = 'hello world'"
   ]
  },
  {
   "cell_type": "code",
   "execution_count": 2,
   "id": "e7992303",
   "metadata": {},
   "outputs": [
    {
     "data": {
      "text/plain": [
       "['h', 'e', 'l', 'l', 'o', ' ', 'w', 'o', 'r', 'l', 'd']"
      ]
     },
     "execution_count": 2,
     "metadata": {},
     "output_type": "execute_result"
    }
   ],
   "source": [
    "list1 = []\n",
    "for char in anytext :\n",
    "    list1.append (char)\n",
    "    \n",
    "list1"
   ]
  },
  {
   "cell_type": "markdown",
   "id": "9bce56c2",
   "metadata": {},
   "source": [
    "#### 2- Using list Comprehension"
   ]
  },
  {
   "cell_type": "code",
   "execution_count": 3,
   "id": "230ecaeb",
   "metadata": {},
   "outputs": [],
   "source": [
    "list2 = [ char for char in anytext]"
   ]
  },
  {
   "cell_type": "code",
   "execution_count": 4,
   "id": "2942fb88",
   "metadata": {},
   "outputs": [
    {
     "data": {
      "text/plain": [
       "['h', 'e', 'l', 'l', 'o', ' ', 'w', 'o', 'r', 'l', 'd']"
      ]
     },
     "execution_count": 4,
     "metadata": {},
     "output_type": "execute_result"
    }
   ],
   "source": [
    "list2"
   ]
  },
  {
   "cell_type": "code",
   "execution_count": 5,
   "id": "23d7236a",
   "metadata": {},
   "outputs": [
    {
     "data": {
      "text/plain": [
       "['hh', 'ee', 'll', 'll', 'oo', '  ', 'ww', 'oo', 'rr', 'll', 'dd']"
      ]
     },
     "execution_count": 5,
     "metadata": {},
     "output_type": "execute_result"
    }
   ],
   "source": [
    "list3 = [ char*2 for char in anytext]\n",
    "list3"
   ]
  },
  {
   "cell_type": "code",
   "execution_count": 6,
   "id": "d74f5244",
   "metadata": {},
   "outputs": [],
   "source": [
    "list_of_numbers = [1,2,3,4,5,6,7,8]"
   ]
  },
  {
   "cell_type": "code",
   "execution_count": 7,
   "id": "26f24b7d",
   "metadata": {},
   "outputs": [
    {
     "data": {
      "text/plain": [
       "[1, 4, 9, 16, 25, 36, 49, 64]"
      ]
     },
     "execution_count": 7,
     "metadata": {},
     "output_type": "execute_result"
    }
   ],
   "source": [
    "list_of_squared_numbers1 = [ num**2 for num in list_of_numbers ]\n",
    "list_of_squared_numbers1"
   ]
  },
  {
   "cell_type": "markdown",
   "id": "c79e6422",
   "metadata": {},
   "source": [
    "#### 3- Using range method with list comprehension"
   ]
  },
  {
   "cell_type": "code",
   "execution_count": 8,
   "id": "b9d80c60",
   "metadata": {},
   "outputs": [],
   "source": [
    "list_of_squared_numbers2 = [ num**2 for num in range(1,9) ]"
   ]
  },
  {
   "cell_type": "code",
   "execution_count": 9,
   "id": "ff3d567a",
   "metadata": {},
   "outputs": [
    {
     "data": {
      "text/plain": [
       "[1, 4, 9, 16, 25, 36, 49, 64]"
      ]
     },
     "execution_count": 9,
     "metadata": {},
     "output_type": "execute_result"
    }
   ],
   "source": [
    "list_of_squared_numbers2"
   ]
  },
  {
   "cell_type": "markdown",
   "id": "da5cec2e",
   "metadata": {},
   "source": [
    "#### 4- Using if statement with list comprehension"
   ]
  },
  {
   "cell_type": "code",
   "execution_count": 10,
   "id": "158840d2",
   "metadata": {},
   "outputs": [
    {
     "data": {
      "text/plain": [
       "[4, 16, 36, 64]"
      ]
     },
     "execution_count": 10,
     "metadata": {},
     "output_type": "execute_result"
    }
   ],
   "source": [
    "list_of_squared_numbers3 = [ num**2 for num in range(1,9) if num%2 ==0 ]\n",
    "list_of_squared_numbers3"
   ]
  },
  {
   "cell_type": "code",
   "execution_count": 11,
   "id": "5f6938f5",
   "metadata": {},
   "outputs": [],
   "source": [
    "list_of_numbers = [1,2,3,4,5,6,7,8]\n",
    "list1 = []\n",
    "\n",
    "for num in list_of_numbers:\n",
    "    if num%2 ==0:\n",
    "        list1.append (num**2)"
   ]
  },
  {
   "cell_type": "code",
   "execution_count": 12,
   "id": "8d15c4b5",
   "metadata": {},
   "outputs": [
    {
     "data": {
      "text/plain": [
       "[4, 16, 36, 64]"
      ]
     },
     "execution_count": 12,
     "metadata": {},
     "output_type": "execute_result"
    }
   ],
   "source": [
    "list1"
   ]
  },
  {
   "cell_type": "code",
   "execution_count": 13,
   "id": "20a7ff12",
   "metadata": {},
   "outputs": [
    {
     "data": {
      "text/plain": [
       "[32.0, 36.8, 86.4, 139.2, 60.8, 64.0]"
      ]
     },
     "execution_count": 13,
     "metadata": {},
     "output_type": "execute_result"
    }
   ],
   "source": [
    "# 1 mile = 1.6 km\n",
    "length_in_miles = [ 20,23,54,87,38,40]\n",
    "length_in_km = [ round ((item * 1.6),2) for item in length_in_miles ]\n",
    "length_in_km"
   ]
  },
  {
   "cell_type": "markdown",
   "id": "6492d4c7",
   "metadata": {},
   "source": [
    "#### 5- Nested List Comprehensions "
   ]
  },
  {
   "cell_type": "code",
   "execution_count": 14,
   "id": "976c2dc5",
   "metadata": {},
   "outputs": [
    {
     "data": {
      "text/plain": [
       "[2, 4, 6, 8, 10, 12, 14, 16]"
      ]
     },
     "execution_count": 14,
     "metadata": {},
     "output_type": "execute_result"
    }
   ],
   "source": [
    "list1 = [ num*2 for num in range(1,9) ]\n",
    "list1"
   ]
  },
  {
   "cell_type": "code",
   "execution_count": 15,
   "id": "a0577174",
   "metadata": {},
   "outputs": [
    {
     "data": {
      "text/plain": [
       "[5, 7, 9, 11, 13, 15, 17, 19]"
      ]
     },
     "execution_count": 15,
     "metadata": {},
     "output_type": "execute_result"
    }
   ],
   "source": [
    "list2 = [ item+3 for item in [ num*2 for num in range(1,9) ] ]\n",
    "list2"
   ]
  }
 ],
 "metadata": {
  "kernelspec": {
   "display_name": "Python 3 (ipykernel)",
   "language": "python",
   "name": "python3"
  },
  "language_info": {
   "codemirror_mode": {
    "name": "ipython",
    "version": 3
   },
   "file_extension": ".py",
   "mimetype": "text/x-python",
   "name": "python",
   "nbconvert_exporter": "python",
   "pygments_lexer": "ipython3",
   "version": "3.9.7"
  }
 },
 "nbformat": 4,
 "nbformat_minor": 5
}
