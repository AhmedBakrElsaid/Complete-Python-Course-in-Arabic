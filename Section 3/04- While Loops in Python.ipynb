{
 "cells": [
  {
   "cell_type": "markdown",
   "id": "708d0c2e",
   "metadata": {},
   "source": [
    "<a href='https://www.youtube.com/playlist?list=PLMDrOnfT8EAgCPrFfF8OgMQOTtMUk78AJ'><img src='../course_img.png'/></a>"
   ]
  },
  {
   "cell_type": "markdown",
   "id": "41438f35",
   "metadata": {},
   "source": [
    "# While Loops in Python"
   ]
  },
  {
   "cell_type": "markdown",
   "id": "1a8968eb",
   "metadata": {},
   "source": [
    "#### 1- Simple While Loop"
   ]
  },
  {
   "cell_type": "code",
   "execution_count": 1,
   "id": "8fca9121",
   "metadata": {},
   "outputs": [
    {
     "name": "stdout",
     "output_type": "stream",
     "text": [
      "Number is 5\n",
      "Number is 6\n",
      "Number is 7\n",
      "Number is 8\n",
      "Number is 9\n",
      "Number is 10\n",
      "Number is 11\n",
      "Number is 12\n",
      "Number is 13\n",
      "Number is 14\n",
      "-----\n",
      "While finished\n"
     ]
    }
   ],
   "source": [
    "num = 5\n",
    "\n",
    "while num < 15:\n",
    "    # Excute some code\n",
    "    print (f'Number is {num}')\n",
    "    num += 1  # num = num + 1\n",
    "print ('-----')\n",
    "print ('While finished')"
   ]
  },
  {
   "cell_type": "markdown",
   "id": "bf25e614",
   "metadata": {},
   "source": [
    "#### 2- Using while else "
   ]
  },
  {
   "cell_type": "code",
   "execution_count": 2,
   "id": "5712efdd",
   "metadata": {},
   "outputs": [
    {
     "name": "stdout",
     "output_type": "stream",
     "text": [
      "Number is larger than 15\n",
      "-----\n",
      "While finished\n"
     ]
    }
   ],
   "source": [
    "num = 20\n",
    "\n",
    "while num < 15:\n",
    "    # Excute some code\n",
    "    print (f'Number is {num}')\n",
    "    num += 1  # num = num + 1\n",
    "else:\n",
    "    print ('Number is larger than 15')\n",
    "    \n",
    "print ('-----')\n",
    "print ('While finished')"
   ]
  },
  {
   "cell_type": "markdown",
   "id": "945f05f0",
   "metadata": {},
   "source": [
    "#### 3- pass keyword"
   ]
  },
  {
   "cell_type": "code",
   "execution_count": 3,
   "id": "4aa83a34",
   "metadata": {},
   "outputs": [
    {
     "name": "stdout",
     "output_type": "stream",
     "text": [
      "For finished\n"
     ]
    }
   ],
   "source": [
    "my_list = [1,2,3,4]\n",
    "for num in my_list:\n",
    "    # excute \n",
    "    pass\n",
    "    \n",
    "print ('For finished')"
   ]
  },
  {
   "cell_type": "markdown",
   "id": "f2146e92",
   "metadata": {},
   "source": [
    "#### 4- break keyword"
   ]
  },
  {
   "cell_type": "code",
   "execution_count": 4,
   "id": "bcf8e914",
   "metadata": {},
   "outputs": [
    {
     "name": "stdout",
     "output_type": "stream",
     "text": [
      "Number is 5\n",
      "Number is 6\n",
      "Number is 7\n",
      "Number is 8\n",
      "Number is 9\n",
      "Number is 10\n",
      "Number is 11\n",
      "Number is 12\n",
      "Number is 13\n",
      "Number is 14\n"
     ]
    }
   ],
   "source": [
    "num = 5\n",
    "\n",
    "while num < 15:\n",
    "    # Excute some code\n",
    "    print (f'Number is {num}')\n",
    "    num += 1  # num = num + 1"
   ]
  },
  {
   "cell_type": "code",
   "execution_count": 5,
   "id": "c6e57bdd",
   "metadata": {},
   "outputs": [
    {
     "name": "stdout",
     "output_type": "stream",
     "text": [
      "Number is 5\n",
      "Number is 6\n",
      "Number is 7\n",
      "Number is 8\n",
      "Number is 9\n"
     ]
    }
   ],
   "source": [
    "num = 5\n",
    "\n",
    "while num < 15:\n",
    "    # Excute some code\n",
    "    if num ==10: break\n",
    "    print (f'Number is {num}')\n",
    "    num += 1  # num = num + 1"
   ]
  },
  {
   "cell_type": "code",
   "execution_count": 6,
   "id": "0d3625c9",
   "metadata": {},
   "outputs": [
    {
     "name": "stdout",
     "output_type": "stream",
     "text": [
      "1\n",
      "2\n"
     ]
    }
   ],
   "source": [
    "my_list = [1,2,3,4]\n",
    "for num in my_list:\n",
    "    # excute \n",
    "    if num ==3: break \n",
    "    print (num)"
   ]
  },
  {
   "cell_type": "code",
   "execution_count": 7,
   "id": "de3574f8",
   "metadata": {},
   "outputs": [
    {
     "name": "stdout",
     "output_type": "stream",
     "text": [
      "A\n",
      "s\n",
      "e\n",
      "m\n",
      " \n",
      "S\n",
      "a\n",
      "a\n"
     ]
    }
   ],
   "source": [
    "name = 'Asem Saafan'\n",
    "for char in name:\n",
    "    if char == 'f' : break\n",
    "    print (char)"
   ]
  },
  {
   "cell_type": "markdown",
   "id": "83acca7b",
   "metadata": {},
   "source": [
    "#### 5- continue keyword"
   ]
  },
  {
   "cell_type": "code",
   "execution_count": 8,
   "id": "3d4b0767",
   "metadata": {},
   "outputs": [
    {
     "name": "stdout",
     "output_type": "stream",
     "text": [
      "A\n",
      "s\n",
      "e\n",
      "m\n",
      " \n",
      "S\n",
      "a\n",
      "a\n",
      "a\n",
      "n\n"
     ]
    }
   ],
   "source": [
    "name = 'Asem Saafan'\n",
    "for char in name:\n",
    "    if char == 'f' : continue\n",
    "    print (char)"
   ]
  },
  {
   "cell_type": "code",
   "execution_count": 9,
   "id": "9d2d21db",
   "metadata": {},
   "outputs": [
    {
     "name": "stdout",
     "output_type": "stream",
     "text": [
      "********\n",
      "num is currently 1 and is less than 15\n",
      "Continue..\n",
      "********\n",
      "num is currently 2 and is less than 15\n",
      "Continue..\n",
      "********\n",
      "num is currently 3 and is less than 15\n",
      "Continue..\n",
      "********\n",
      "num is currently 4 and is less than 15\n",
      "Continue..\n",
      "********\n",
      "num is currently 5 and is less than 15\n",
      "Continue..\n",
      "********\n",
      "num is currently 6 and is less than 15\n",
      "Continue..\n",
      "********\n",
      "num is currently 7 and is less than 15\n",
      "Continue..\n",
      "********\n",
      "num is currently 8 and is less than 15\n",
      "Continue..\n",
      "********\n",
      "num is currently 9 and is less than 15\n",
      "x is equal to 10 so code loop will be breaked\n"
     ]
    }
   ],
   "source": [
    "x = 1\n",
    "\n",
    "while x < 15:\n",
    "    print ('********')\n",
    "    print (f'num is currently {x} and is less than 15')\n",
    "    x += 1\n",
    "    if x == 10:\n",
    "        print ('x is equal to 10 so code loop will be breaked')\n",
    "        break\n",
    "    else:\n",
    "        print ('Continue..')\n",
    "        continue\n",
    "        "
   ]
  },
  {
   "cell_type": "code",
   "execution_count": null,
   "id": "4e7bc45e",
   "metadata": {},
   "outputs": [],
   "source": []
  }
 ],
 "metadata": {
  "kernelspec": {
   "display_name": "Python 3 (ipykernel)",
   "language": "python",
   "name": "python3"
  },
  "language_info": {
   "codemirror_mode": {
    "name": "ipython",
    "version": 3
   },
   "file_extension": ".py",
   "mimetype": "text/x-python",
   "name": "python",
   "nbconvert_exporter": "python",
   "pygments_lexer": "ipython3",
   "version": "3.9.7"
  }
 },
 "nbformat": 4,
 "nbformat_minor": 5
}
