{
 "cells": [
  {
   "cell_type": "markdown",
   "id": "243adac4",
   "metadata": {},
   "source": [
    "<a href='https://www.youtube.com/playlist?list=PLMDrOnfT8EAgCPrFfF8OgMQOTtMUk78AJ'><img src='../course_img.png'/></a>"
   ]
  },
  {
   "cell_type": "markdown",
   "id": "be9791e7",
   "metadata": {},
   "source": [
    "# I/O with Basic Files in Python"
   ]
  },
  {
   "cell_type": "code",
   "execution_count": 1,
   "id": "bc8452f8",
   "metadata": {},
   "outputs": [
    {
     "name": "stdout",
     "output_type": "stream",
     "text": [
      "Overwriting file1.txt\n"
     ]
    }
   ],
   "source": [
    "%%writefile file1.txt\n",
    "hello I am writin now from jupyter note book\n",
    "and learning with Asem Saafan"
   ]
  },
  {
   "cell_type": "code",
   "execution_count": 2,
   "id": "e9cf2767",
   "metadata": {},
   "outputs": [],
   "source": [
    "myfile1 = open ('file1.txt')"
   ]
  },
  {
   "cell_type": "code",
   "execution_count": 3,
   "id": "6a0d256a",
   "metadata": {},
   "outputs": [],
   "source": [
    "# myfile1 = open ('file2.txt') => Error file not found in directory"
   ]
  },
  {
   "cell_type": "code",
   "execution_count": 4,
   "id": "3f5e0586",
   "metadata": {},
   "outputs": [],
   "source": [
    "# pwd => to get the current directory"
   ]
  },
  {
   "cell_type": "code",
   "execution_count": 5,
   "id": "3f365f35",
   "metadata": {},
   "outputs": [
    {
     "data": {
      "text/plain": [
       "'hello I am writin now from jupyter note book\\nand learning with Asem Saafan\\n'"
      ]
     },
     "execution_count": 5,
     "metadata": {},
     "output_type": "execute_result"
    }
   ],
   "source": [
    "myfile1.read()"
   ]
  },
  {
   "cell_type": "code",
   "execution_count": 6,
   "id": "cf23026c",
   "metadata": {},
   "outputs": [
    {
     "data": {
      "text/plain": [
       "''"
      ]
     },
     "execution_count": 6,
     "metadata": {},
     "output_type": "execute_result"
    }
   ],
   "source": [
    "myfile1.read()"
   ]
  },
  {
   "cell_type": "code",
   "execution_count": 7,
   "id": "e9d1f875",
   "metadata": {},
   "outputs": [
    {
     "data": {
      "text/plain": [
       "0"
      ]
     },
     "execution_count": 7,
     "metadata": {},
     "output_type": "execute_result"
    }
   ],
   "source": [
    "myfile1.seek (0)"
   ]
  },
  {
   "cell_type": "code",
   "execution_count": 8,
   "id": "7f10d69b",
   "metadata": {},
   "outputs": [
    {
     "data": {
      "text/plain": [
       "'hello I am writin now from jupyter note book\\nand learning with Asem Saafan\\n'"
      ]
     },
     "execution_count": 8,
     "metadata": {},
     "output_type": "execute_result"
    }
   ],
   "source": [
    "myfile1.read()"
   ]
  },
  {
   "cell_type": "code",
   "execution_count": 9,
   "id": "97c63f55",
   "metadata": {},
   "outputs": [
    {
     "data": {
      "text/plain": [
       "''"
      ]
     },
     "execution_count": 9,
     "metadata": {},
     "output_type": "execute_result"
    }
   ],
   "source": [
    "myfile1.read()"
   ]
  },
  {
   "cell_type": "code",
   "execution_count": 10,
   "id": "17da2128",
   "metadata": {},
   "outputs": [],
   "source": [
    "content = myfile1.read()"
   ]
  },
  {
   "cell_type": "code",
   "execution_count": 11,
   "id": "7e6eb9fc",
   "metadata": {},
   "outputs": [
    {
     "data": {
      "text/plain": [
       "''"
      ]
     },
     "execution_count": 11,
     "metadata": {},
     "output_type": "execute_result"
    }
   ],
   "source": [
    "content"
   ]
  },
  {
   "cell_type": "code",
   "execution_count": 12,
   "id": "08ba3e0c",
   "metadata": {},
   "outputs": [
    {
     "data": {
      "text/plain": [
       "[]"
      ]
     },
     "execution_count": 12,
     "metadata": {},
     "output_type": "execute_result"
    }
   ],
   "source": [
    "myfile1.readlines ()"
   ]
  },
  {
   "cell_type": "code",
   "execution_count": 13,
   "id": "7d2e0f2b",
   "metadata": {},
   "outputs": [],
   "source": [
    "# pwd\n",
    "# 'C:\\\\Users\\\\UserName\\\\Desktop\\\\Python Course in Arabic\\\\Section 2\\\\files'\n",
    "# for windows =>  open ('c\\\\Users\\\\text.txt ')\n",
    "# for mac or linkus => open ('c/ddfdf/dfdfd')"
   ]
  },
  {
   "cell_type": "code",
   "execution_count": 14,
   "id": "fba288d7",
   "metadata": {},
   "outputs": [],
   "source": [
    "myfile1.close()"
   ]
  },
  {
   "cell_type": "code",
   "execution_count": 15,
   "id": "0d57b0cc",
   "metadata": {},
   "outputs": [],
   "source": [
    "with open('file1.txt') as myfile:\n",
    "    content = myfile.read()"
   ]
  },
  {
   "cell_type": "code",
   "execution_count": 16,
   "id": "71a16866",
   "metadata": {},
   "outputs": [
    {
     "data": {
      "text/plain": [
       "'hello I am writin now from jupyter note book\\nand learning with Asem Saafan\\n'"
      ]
     },
     "execution_count": 16,
     "metadata": {},
     "output_type": "execute_result"
    }
   ],
   "source": [
    "content"
   ]
  },
  {
   "cell_type": "code",
   "execution_count": 17,
   "id": "c71c07b0",
   "metadata": {},
   "outputs": [],
   "source": [
    "with open('file1.txt', mode='r') as myfile:\n",
    "    content = myfile.read()"
   ]
  },
  {
   "cell_type": "code",
   "execution_count": 18,
   "id": "4efa9973",
   "metadata": {},
   "outputs": [
    {
     "data": {
      "text/plain": [
       "'hello I am writin now from jupyter note book\\nand learning with Asem Saafan\\n'"
      ]
     },
     "execution_count": 18,
     "metadata": {},
     "output_type": "execute_result"
    }
   ],
   "source": [
    "content"
   ]
  },
  {
   "cell_type": "code",
   "execution_count": 19,
   "id": "bbf8a639",
   "metadata": {},
   "outputs": [],
   "source": [
    "# Error from 'w' as this file open for write only\n",
    "#with open('file1.txt', mode='w') as myfile:\n",
    "#    content = myfile.read()"
   ]
  },
  {
   "cell_type": "code",
   "execution_count": 20,
   "id": "51ffd56c",
   "metadata": {},
   "outputs": [],
   "source": [
    "# r  => read only\n",
    "# w  => write only (if file not found, it will create one for you , overrite file )\n",
    "# a  => append \n",
    "# r+ => read and write\n",
    "# w+ => write and read (the same as 'w' + read option)"
   ]
  },
  {
   "cell_type": "code",
   "execution_count": 21,
   "id": "1a262ad7",
   "metadata": {},
   "outputs": [
    {
     "name": "stdout",
     "output_type": "stream",
     "text": [
      "Overwriting file2.txt\n"
     ]
    }
   ],
   "source": [
    "%%writefile file2.txt\n",
    "hello I am writin now from jupyter note book\n",
    "and learning with Asem Saafan\n",
    "dlshgukosdhgsd sddgs"
   ]
  },
  {
   "cell_type": "code",
   "execution_count": 22,
   "id": "ca1ef76f",
   "metadata": {},
   "outputs": [],
   "source": [
    "with open('file2.txt', mode='r') as myfile:\n",
    "    content = myfile.read()"
   ]
  },
  {
   "cell_type": "code",
   "execution_count": 23,
   "id": "0e817384",
   "metadata": {},
   "outputs": [
    {
     "data": {
      "text/plain": [
       "'hello I am writin now from jupyter note book\\nand learning with Asem Saafan\\ndlshgukosdhgsd sddgs\\n'"
      ]
     },
     "execution_count": 23,
     "metadata": {},
     "output_type": "execute_result"
    }
   ],
   "source": [
    "content"
   ]
  },
  {
   "cell_type": "code",
   "execution_count": 24,
   "id": "c6decd38",
   "metadata": {},
   "outputs": [
    {
     "name": "stdout",
     "output_type": "stream",
     "text": [
      "hello I am writin now from jupyter note book\n",
      "and learning with Asem Saafan\n",
      "dlshgukosdhgsd sddgs\n",
      "\n"
     ]
    }
   ],
   "source": [
    "print (content)"
   ]
  },
  {
   "cell_type": "code",
   "execution_count": 25,
   "id": "b7ff0c9e",
   "metadata": {},
   "outputs": [],
   "source": [
    "with open('file2.txt', mode='a') as myfile:\n",
    "    content = myfile.write('the fourth line')"
   ]
  },
  {
   "cell_type": "code",
   "execution_count": 26,
   "id": "a26c9c09",
   "metadata": {},
   "outputs": [
    {
     "name": "stdout",
     "output_type": "stream",
     "text": [
      "hello I am writin now from jupyter note book\n",
      "and learning with Asem Saafan\n",
      "dlshgukosdhgsd sddgs\n",
      "the fourth line\n"
     ]
    }
   ],
   "source": [
    "with open('file2.txt', mode='r') as myfile:\n",
    "    content = myfile.read()\n",
    "print (content)"
   ]
  },
  {
   "cell_type": "code",
   "execution_count": null,
   "id": "769cbf60",
   "metadata": {},
   "outputs": [],
   "source": []
  }
 ],
 "metadata": {
  "kernelspec": {
   "display_name": "Python 3 (ipykernel)",
   "language": "python",
   "name": "python3"
  },
  "language_info": {
   "codemirror_mode": {
    "name": "ipython",
    "version": 3
   },
   "file_extension": ".py",
   "mimetype": "text/x-python",
   "name": "python",
   "nbconvert_exporter": "python",
   "pygments_lexer": "ipython3",
   "version": "3.9.7"
  }
 },
 "nbformat": 4,
 "nbformat_minor": 5
}
