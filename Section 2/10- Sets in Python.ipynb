{
 "cells": [
  {
   "cell_type": "markdown",
   "id": "d7108fdd",
   "metadata": {},
   "source": [
    "<a href='https://www.youtube.com/playlist?list=PLMDrOnfT8EAgCPrFfF8OgMQOTtMUk78AJ'><img src='../course_img.png'/></a>"
   ]
  },
  {
   "cell_type": "markdown",
   "id": "e4175e19",
   "metadata": {},
   "source": [
    "# Sets in Python"
   ]
  },
  {
   "cell_type": "markdown",
   "id": "9664d3d4",
   "metadata": {},
   "source": [
    "### 1- Creating Sets in Python"
   ]
  },
  {
   "cell_type": "code",
   "execution_count": 1,
   "id": "04baec12",
   "metadata": {},
   "outputs": [],
   "source": [
    "# {} , [] , ()"
   ]
  },
  {
   "cell_type": "code",
   "execution_count": 2,
   "id": "0b00906d",
   "metadata": {},
   "outputs": [],
   "source": [
    "my_set = {1,2,38,7,8}"
   ]
  },
  {
   "cell_type": "code",
   "execution_count": 3,
   "id": "e0a69f27",
   "metadata": {},
   "outputs": [
    {
     "data": {
      "text/plain": [
       "set"
      ]
     },
     "execution_count": 3,
     "metadata": {},
     "output_type": "execute_result"
    }
   ],
   "source": [
    "type (my_set)"
   ]
  },
  {
   "cell_type": "code",
   "execution_count": 4,
   "id": "e85a8578",
   "metadata": {},
   "outputs": [],
   "source": [
    "my_set1 = {1,\"Asem\" , 4.6,(4,8,9)}"
   ]
  },
  {
   "cell_type": "code",
   "execution_count": 5,
   "id": "2c1eb677",
   "metadata": {},
   "outputs": [
    {
     "data": {
      "text/plain": [
       "{(4, 8, 9), 1, 4.6, 'Asem'}"
      ]
     },
     "execution_count": 5,
     "metadata": {},
     "output_type": "execute_result"
    }
   ],
   "source": [
    "my_set1"
   ]
  },
  {
   "cell_type": "code",
   "execution_count": 6,
   "id": "7be07b77",
   "metadata": {},
   "outputs": [],
   "source": [
    "my_set2 = {1,\"Asem\" , 4.6,(4,8,9),1}"
   ]
  },
  {
   "cell_type": "code",
   "execution_count": 7,
   "id": "9f196b11",
   "metadata": {},
   "outputs": [
    {
     "data": {
      "text/plain": [
       "{(4, 8, 9), 1, 4.6, 'Asem'}"
      ]
     },
     "execution_count": 7,
     "metadata": {},
     "output_type": "execute_result"
    }
   ],
   "source": [
    "my_set2"
   ]
  },
  {
   "cell_type": "code",
   "execution_count": 8,
   "id": "ae1089ec",
   "metadata": {},
   "outputs": [],
   "source": [
    "#my_set3 = {1,\"Asem\" , 4.6,(4,8,9),1,[1,6,5]}\n",
    "# Can't Add list inside set"
   ]
  },
  {
   "cell_type": "code",
   "execution_count": 9,
   "id": "e08cb0cb",
   "metadata": {},
   "outputs": [],
   "source": [
    "my_set4 = {}\n",
    "my_set5 = set ()"
   ]
  },
  {
   "cell_type": "code",
   "execution_count": 10,
   "id": "c24097c8",
   "metadata": {},
   "outputs": [
    {
     "data": {
      "text/plain": [
       "dict"
      ]
     },
     "execution_count": 10,
     "metadata": {},
     "output_type": "execute_result"
    }
   ],
   "source": [
    "type (my_set4)"
   ]
  },
  {
   "cell_type": "code",
   "execution_count": 11,
   "id": "bda8b36c",
   "metadata": {},
   "outputs": [
    {
     "data": {
      "text/plain": [
       "set"
      ]
     },
     "execution_count": 11,
     "metadata": {},
     "output_type": "execute_result"
    }
   ],
   "source": [
    "type (my_set5)"
   ]
  },
  {
   "cell_type": "code",
   "execution_count": 12,
   "id": "42f0636f",
   "metadata": {},
   "outputs": [],
   "source": [
    "mylist = [15,45,1258,48,18,78,15,1258,8,78,2]"
   ]
  },
  {
   "cell_type": "code",
   "execution_count": 13,
   "id": "6a11cc5c",
   "metadata": {},
   "outputs": [],
   "source": [
    "set1 = set(mylist)"
   ]
  },
  {
   "cell_type": "code",
   "execution_count": 14,
   "id": "8cee6e91",
   "metadata": {},
   "outputs": [
    {
     "data": {
      "text/plain": [
       "[15, 45, 1258, 48, 18, 78, 15, 1258, 8, 78, 2]"
      ]
     },
     "execution_count": 14,
     "metadata": {},
     "output_type": "execute_result"
    }
   ],
   "source": [
    "mylist"
   ]
  },
  {
   "cell_type": "code",
   "execution_count": 15,
   "id": "910c7754",
   "metadata": {},
   "outputs": [
    {
     "data": {
      "text/plain": [
       "{2, 8, 15, 18, 45, 48, 78, 1258}"
      ]
     },
     "execution_count": 15,
     "metadata": {},
     "output_type": "execute_result"
    }
   ],
   "source": [
    "set1"
   ]
  },
  {
   "cell_type": "markdown",
   "id": "81e6fc37",
   "metadata": {},
   "source": [
    "### 2- Set Basic Methods"
   ]
  },
  {
   "cell_type": "code",
   "execution_count": 16,
   "id": "ee2c89bf",
   "metadata": {},
   "outputs": [],
   "source": [
    "my_set = {1,2,38,7,8}"
   ]
  },
  {
   "cell_type": "code",
   "execution_count": 17,
   "id": "8eaa9947",
   "metadata": {},
   "outputs": [],
   "source": [
    "my_set.add(9)"
   ]
  },
  {
   "cell_type": "code",
   "execution_count": 18,
   "id": "67ab0e5c",
   "metadata": {},
   "outputs": [
    {
     "data": {
      "text/plain": [
       "{1, 2, 7, 8, 9, 38}"
      ]
     },
     "execution_count": 18,
     "metadata": {},
     "output_type": "execute_result"
    }
   ],
   "source": [
    "my_set"
   ]
  },
  {
   "cell_type": "code",
   "execution_count": 19,
   "id": "cd1c24f9",
   "metadata": {},
   "outputs": [],
   "source": [
    "my_set.update ([2,10,15,35])"
   ]
  },
  {
   "cell_type": "code",
   "execution_count": 20,
   "id": "ed69edbc",
   "metadata": {},
   "outputs": [
    {
     "data": {
      "text/plain": [
       "{1, 2, 7, 8, 9, 10, 15, 35, 38}"
      ]
     },
     "execution_count": 20,
     "metadata": {},
     "output_type": "execute_result"
    }
   ],
   "source": [
    "my_set"
   ]
  },
  {
   "cell_type": "code",
   "execution_count": 21,
   "id": "ab68bbb4",
   "metadata": {},
   "outputs": [],
   "source": [
    "my_set.update ([87,978] , {6,78,523,45})"
   ]
  },
  {
   "cell_type": "code",
   "execution_count": 22,
   "id": "0ccedfef",
   "metadata": {},
   "outputs": [
    {
     "data": {
      "text/plain": [
       "{1, 2, 6, 7, 8, 9, 10, 15, 35, 38, 45, 78, 87, 523, 978}"
      ]
     },
     "execution_count": 22,
     "metadata": {},
     "output_type": "execute_result"
    }
   ],
   "source": [
    "my_set"
   ]
  },
  {
   "cell_type": "code",
   "execution_count": 23,
   "id": "33b49ee9",
   "metadata": {},
   "outputs": [],
   "source": [
    "my_set.discard(6)"
   ]
  },
  {
   "cell_type": "code",
   "execution_count": 24,
   "id": "2098a63e",
   "metadata": {},
   "outputs": [
    {
     "data": {
      "text/plain": [
       "{1, 2, 7, 8, 9, 10, 15, 35, 38, 45, 78, 87, 523, 978}"
      ]
     },
     "execution_count": 24,
     "metadata": {},
     "output_type": "execute_result"
    }
   ],
   "source": [
    "my_set"
   ]
  },
  {
   "cell_type": "code",
   "execution_count": 25,
   "id": "a9645898",
   "metadata": {},
   "outputs": [],
   "source": [
    "my_set.discard (6)"
   ]
  },
  {
   "cell_type": "code",
   "execution_count": 26,
   "id": "0fd83e95",
   "metadata": {},
   "outputs": [
    {
     "data": {
      "text/plain": [
       "{1, 2, 7, 8, 9, 10, 15, 35, 38, 45, 78, 87, 523, 978}"
      ]
     },
     "execution_count": 26,
     "metadata": {},
     "output_type": "execute_result"
    }
   ],
   "source": [
    "my_set"
   ]
  },
  {
   "cell_type": "code",
   "execution_count": 27,
   "id": "855f8e40",
   "metadata": {},
   "outputs": [],
   "source": [
    "my_set.remove (10)"
   ]
  },
  {
   "cell_type": "code",
   "execution_count": 28,
   "id": "3e29d91d",
   "metadata": {},
   "outputs": [
    {
     "data": {
      "text/plain": [
       "{1, 2, 7, 8, 9, 15, 35, 38, 45, 78, 87, 523, 978}"
      ]
     },
     "execution_count": 28,
     "metadata": {},
     "output_type": "execute_result"
    }
   ],
   "source": [
    "my_set"
   ]
  },
  {
   "cell_type": "code",
   "execution_count": 29,
   "id": "a0e35748",
   "metadata": {},
   "outputs": [],
   "source": [
    "#my_set.remove (10)\n",
    "# ERROR "
   ]
  },
  {
   "cell_type": "code",
   "execution_count": 30,
   "id": "fb263a0c",
   "metadata": {},
   "outputs": [
    {
     "data": {
      "text/plain": [
       "1"
      ]
     },
     "execution_count": 30,
     "metadata": {},
     "output_type": "execute_result"
    }
   ],
   "source": [
    "my_set.pop ()"
   ]
  },
  {
   "cell_type": "code",
   "execution_count": 31,
   "id": "d051663d",
   "metadata": {},
   "outputs": [
    {
     "data": {
      "text/plain": [
       "{2, 7, 8, 9, 15, 35, 38, 45, 78, 87, 523, 978}"
      ]
     },
     "execution_count": 31,
     "metadata": {},
     "output_type": "execute_result"
    }
   ],
   "source": [
    "my_set"
   ]
  },
  {
   "cell_type": "code",
   "execution_count": 32,
   "id": "0b706e62",
   "metadata": {},
   "outputs": [
    {
     "data": {
      "text/plain": [
       "2"
      ]
     },
     "execution_count": 32,
     "metadata": {},
     "output_type": "execute_result"
    }
   ],
   "source": [
    "my_set.pop ()"
   ]
  },
  {
   "cell_type": "code",
   "execution_count": 33,
   "id": "420380eb",
   "metadata": {},
   "outputs": [],
   "source": [
    "my_set = {7,1,2,38,8}"
   ]
  },
  {
   "cell_type": "code",
   "execution_count": 34,
   "id": "1cc8383f",
   "metadata": {},
   "outputs": [
    {
     "data": {
      "text/plain": [
       "1"
      ]
     },
     "execution_count": 34,
     "metadata": {},
     "output_type": "execute_result"
    }
   ],
   "source": [
    "my_set.pop()"
   ]
  },
  {
   "cell_type": "code",
   "execution_count": 35,
   "id": "4c30d75d",
   "metadata": {},
   "outputs": [],
   "source": [
    "set1 = {1,2,3,4,5}\n",
    "set2 = {4,5,6,7,8}"
   ]
  },
  {
   "cell_type": "code",
   "execution_count": 36,
   "id": "27cb8aa9",
   "metadata": {},
   "outputs": [
    {
     "data": {
      "text/plain": [
       "{4, 5}"
      ]
     },
     "execution_count": 36,
     "metadata": {},
     "output_type": "execute_result"
    }
   ],
   "source": [
    "set1.intersection(set2)"
   ]
  },
  {
   "cell_type": "code",
   "execution_count": 37,
   "id": "45df14ad",
   "metadata": {},
   "outputs": [],
   "source": [
    "# Test Your self with the remaining methods \n",
    "# set1.union\n",
    "# set1.difference\n",
    "# set1.symmetric_difference"
   ]
  },
  {
   "cell_type": "code",
   "execution_count": null,
   "id": "57dde270",
   "metadata": {},
   "outputs": [],
   "source": []
  }
 ],
 "metadata": {
  "kernelspec": {
   "display_name": "Python 3 (ipykernel)",
   "language": "python",
   "name": "python3"
  },
  "language_info": {
   "codemirror_mode": {
    "name": "ipython",
    "version": 3
   },
   "file_extension": ".py",
   "mimetype": "text/x-python",
   "name": "python",
   "nbconvert_exporter": "python",
   "pygments_lexer": "ipython3",
   "version": "3.9.7"
  }
 },
 "nbformat": 4,
 "nbformat_minor": 5
}
