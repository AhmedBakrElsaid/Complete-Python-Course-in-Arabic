{
 "cells": [
  {
   "cell_type": "markdown",
   "id": "22efdcb2",
   "metadata": {},
   "source": [
    "<a href='https://www.youtube.com/playlist?list=PLMDrOnfT8EAgCPrFfF8OgMQOTtMUk78AJ'><img src='../course_img.png'/></a>"
   ]
  },
  {
   "cell_type": "markdown",
   "id": "b1103b1a",
   "metadata": {},
   "source": [
    "# Indexing and Slicing with Strings"
   ]
  },
  {
   "cell_type": "markdown",
   "id": "7925253c",
   "metadata": {},
   "source": [
    "### Indexing"
   ]
  },
  {
   "cell_type": "code",
   "execution_count": 1,
   "id": "9619542f",
   "metadata": {},
   "outputs": [],
   "source": [
    "fullname = \"Asem 81484\""
   ]
  },
  {
   "cell_type": "code",
   "execution_count": 5,
   "id": "a378f168",
   "metadata": {},
   "outputs": [
    {
     "data": {
      "text/plain": [
       "'1'"
      ]
     },
     "execution_count": 5,
     "metadata": {},
     "output_type": "execute_result"
    }
   ],
   "source": [
    "fullname [6]"
   ]
  },
  {
   "cell_type": "code",
   "execution_count": 7,
   "id": "7659e477",
   "metadata": {},
   "outputs": [
    {
     "data": {
      "text/plain": [
       "'8'"
      ]
     },
     "execution_count": 7,
     "metadata": {},
     "output_type": "execute_result"
    }
   ],
   "source": [
    "fullname [-2]"
   ]
  },
  {
   "cell_type": "markdown",
   "id": "6b58ce37",
   "metadata": {},
   "source": [
    "### Slicing"
   ]
  },
  {
   "cell_type": "code",
   "execution_count": 9,
   "id": "3c70b52e",
   "metadata": {},
   "outputs": [],
   "source": [
    "fullname = \"Asem 81484\""
   ]
  },
  {
   "cell_type": "code",
   "execution_count": 12,
   "id": "4a789e24",
   "metadata": {},
   "outputs": [
    {
     "data": {
      "text/plain": [
       "'Ae '"
      ]
     },
     "execution_count": 12,
     "metadata": {},
     "output_type": "execute_result"
    }
   ],
   "source": [
    "fullname [0:6:2]"
   ]
  },
  {
   "cell_type": "code",
   "execution_count": 13,
   "id": "dcab6d6f",
   "metadata": {},
   "outputs": [
    {
     "data": {
      "text/plain": [
       "'Asem '"
      ]
     },
     "execution_count": 13,
     "metadata": {},
     "output_type": "execute_result"
    }
   ],
   "source": [
    "fullname [ : 5]"
   ]
  },
  {
   "cell_type": "code",
   "execution_count": 14,
   "id": "461f7048",
   "metadata": {},
   "outputs": [
    {
     "data": {
      "text/plain": [
       "'em 81484'"
      ]
     },
     "execution_count": 14,
     "metadata": {},
     "output_type": "execute_result"
    }
   ],
   "source": [
    "fullname [2: ]"
   ]
  },
  {
   "cell_type": "code",
   "execution_count": 15,
   "id": "c23b7b14",
   "metadata": {},
   "outputs": [
    {
     "data": {
      "text/plain": [
       "'Asem 81484'"
      ]
     },
     "execution_count": 15,
     "metadata": {},
     "output_type": "execute_result"
    }
   ],
   "source": [
    "fullname [:]"
   ]
  },
  {
   "cell_type": "code",
   "execution_count": 17,
   "id": "0be94618",
   "metadata": {},
   "outputs": [
    {
     "data": {
      "text/plain": [
       "'48418 mesA'"
      ]
     },
     "execution_count": 17,
     "metadata": {},
     "output_type": "execute_result"
    }
   ],
   "source": [
    "fullname [::-1]"
   ]
  },
  {
   "cell_type": "code",
   "execution_count": null,
   "id": "c7bcd7bc",
   "metadata": {},
   "outputs": [],
   "source": []
  }
 ],
 "metadata": {
  "kernelspec": {
   "display_name": "Python 3 (ipykernel)",
   "language": "python",
   "name": "python3"
  },
  "language_info": {
   "codemirror_mode": {
    "name": "ipython",
    "version": 3
   },
   "file_extension": ".py",
   "mimetype": "text/x-python",
   "name": "python",
   "nbconvert_exporter": "python",
   "pygments_lexer": "ipython3",
   "version": "3.9.7"
  }
 },
 "nbformat": 4,
 "nbformat_minor": 5
}
