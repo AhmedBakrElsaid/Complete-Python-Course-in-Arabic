{
 "cells": [
  {
   "cell_type": "markdown",
   "id": "819cd69f",
   "metadata": {},
   "source": [
    "<a href='https://www.youtube.com/playlist?list=PLMDrOnfT8EAgCPrFfF8OgMQOTtMUk78AJ'><img src='../course_img.png'/></a>"
   ]
  },
  {
   "cell_type": "markdown",
   "id": "03ae985f",
   "metadata": {},
   "source": [
    "# Print Formatting with Strings\n"
   ]
  },
  {
   "cell_type": "markdown",
   "id": "b010ddaa",
   "metadata": {},
   "source": [
    "#### 1- Formating with Placeholders %"
   ]
  },
  {
   "cell_type": "code",
   "execution_count": 1,
   "id": "148199fc",
   "metadata": {},
   "outputs": [
    {
     "name": "stdout",
     "output_type": "stream",
     "text": [
      "my name is Asem Saafan\n"
     ]
    }
   ],
   "source": [
    "fullname = 'Asem Saafan'\n",
    "print ('my name is %s' %fullname)"
   ]
  },
  {
   "cell_type": "code",
   "execution_count": 2,
   "id": "738878e4",
   "metadata": {},
   "outputs": [],
   "source": [
    "first_name , last_name = 'Asem' , 'Saafan'"
   ]
  },
  {
   "cell_type": "code",
   "execution_count": 3,
   "id": "a0ef7dce",
   "metadata": {},
   "outputs": [
    {
     "name": "stdout",
     "output_type": "stream",
     "text": [
      "my first name is Asem and my last name is Saafan\n"
     ]
    }
   ],
   "source": [
    "print ('my first name is %s and my last name is %s' %(first_name, last_name))"
   ]
  },
  {
   "cell_type": "code",
   "execution_count": 4,
   "id": "9853cbfd",
   "metadata": {},
   "outputs": [
    {
     "name": "stdout",
     "output_type": "stream",
     "text": [
      "my first name is Asem and my last name is 'Saafan'\n"
     ]
    }
   ],
   "source": [
    "print ('my first name is %s and my last name is %r' %(first_name, last_name))"
   ]
  },
  {
   "cell_type": "code",
   "execution_count": 5,
   "id": "76c4e025",
   "metadata": {},
   "outputs": [],
   "source": [
    "x,y = 41.1548 , 23.54"
   ]
  },
  {
   "cell_type": "code",
   "execution_count": 6,
   "id": "63de0ec4",
   "metadata": {},
   "outputs": [
    {
     "name": "stdout",
     "output_type": "stream",
     "text": [
      "length is 41.1548 and width is 23.54\n"
     ]
    }
   ],
   "source": [
    "print ('length is %s and width is %s' %(x,y))"
   ]
  },
  {
   "cell_type": "code",
   "execution_count": 7,
   "id": "b3860845",
   "metadata": {},
   "outputs": [
    {
     "name": "stdout",
     "output_type": "stream",
     "text": [
      "length is 41.1548 and width is 23\n"
     ]
    }
   ],
   "source": [
    "print ('length is %s and width is %d' %(x,y))"
   ]
  },
  {
   "cell_type": "code",
   "execution_count": 8,
   "id": "fbf873e4",
   "metadata": {},
   "outputs": [
    {
     "data": {
      "text/plain": [
       "1.4285714285714286"
      ]
     },
     "execution_count": 8,
     "metadata": {},
     "output_type": "execute_result"
    }
   ],
   "source": [
    "z= 10/7\n",
    "z"
   ]
  },
  {
   "cell_type": "code",
   "execution_count": 9,
   "id": "8d5a4d35",
   "metadata": {},
   "outputs": [
    {
     "name": "stdout",
     "output_type": "stream",
     "text": [
      "length is 1.429\n"
     ]
    }
   ],
   "source": [
    "print ('length is %1.3f' %(z))"
   ]
  },
  {
   "cell_type": "code",
   "execution_count": 10,
   "id": "a012c555",
   "metadata": {},
   "outputs": [
    {
     "name": "stdout",
     "output_type": "stream",
     "text": [
      "length is 1.43\n"
     ]
    }
   ],
   "source": [
    "print ('length is %1.2f' %(z))"
   ]
  },
  {
   "cell_type": "code",
   "execution_count": 11,
   "id": "6701f2ff",
   "metadata": {},
   "outputs": [
    {
     "name": "stdout",
     "output_type": "stream",
     "text": [
      "length is       1.43\n"
     ]
    }
   ],
   "source": [
    "print ('length is %10.2f' %(z))"
   ]
  },
  {
   "cell_type": "markdown",
   "id": "90c97f99",
   "metadata": {},
   "source": [
    "#### 2- Formating with .format()"
   ]
  },
  {
   "cell_type": "code",
   "execution_count": 12,
   "id": "49b31709",
   "metadata": {},
   "outputs": [],
   "source": [
    "first_name , last_name = 'Asem' , 'Saafan'"
   ]
  },
  {
   "cell_type": "code",
   "execution_count": 13,
   "id": "02cd92cc",
   "metadata": {},
   "outputs": [
    {
     "name": "stdout",
     "output_type": "stream",
     "text": [
      "my firstname is Asem and my last name is Saafan\n"
     ]
    }
   ],
   "source": [
    "print ('my firstname is {} and my last name is {}'.format(first_name,last_name))"
   ]
  },
  {
   "cell_type": "code",
   "execution_count": 14,
   "id": "0831e251",
   "metadata": {},
   "outputs": [
    {
     "name": "stdout",
     "output_type": "stream",
     "text": [
      "my firstname is Saafan and my last name is Asem\n"
     ]
    }
   ],
   "source": [
    "print ('my firstname is {1} and my last name is {0}'.format(first_name,last_name))"
   ]
  },
  {
   "cell_type": "code",
   "execution_count": 15,
   "id": "1642defb",
   "metadata": {},
   "outputs": [
    {
     "name": "stdout",
     "output_type": "stream",
     "text": [
      "my firstname is Saafan and my last name is Asem\n"
     ]
    }
   ],
   "source": [
    "print ('my firstname is {b} and my last name is {a}'.format(a=first_name,b=last_name))"
   ]
  },
  {
   "cell_type": "code",
   "execution_count": 16,
   "id": "5cb48269",
   "metadata": {},
   "outputs": [
    {
     "name": "stdout",
     "output_type": "stream",
     "text": [
      "my firstname is Asem and my last name is Asem\n"
     ]
    }
   ],
   "source": [
    "print ('my firstname is {0} and my last name is {0}'.format(first_name))"
   ]
  },
  {
   "cell_type": "code",
   "execution_count": 17,
   "id": "e7e013be",
   "metadata": {},
   "outputs": [],
   "source": [
    "#print ('my first name is %s and my last name is %s' %(first_name))"
   ]
  },
  {
   "cell_type": "code",
   "execution_count": 18,
   "id": "fd7f5c07",
   "metadata": {},
   "outputs": [
    {
     "name": "stdout",
     "output_type": "stream",
     "text": [
      "Name          |  Count   \n",
      "dsffsfsdf     |       10 \n",
      "Omar          |       15 \n"
     ]
    }
   ],
   "source": [
    "print ('{0:12}  |  {1:7} '.format('Name','Count'))\n",
    "print ('{0:12}  |  {1:7} '.format('dsffsfsdf', 10))\n",
    "print ('{0:12}  |  {1:7} '.format('Omar', 15))"
   ]
  },
  {
   "cell_type": "code",
   "execution_count": 19,
   "id": "5e6848c3",
   "metadata": {},
   "outputs": [
    {
     "name": "stdout",
     "output_type": "stream",
     "text": [
      "        Name  |  Count   \n",
      "   dsffsfsdf  |  10      \n",
      "        Omar  |  15      \n"
     ]
    }
   ],
   "source": [
    "# with allignment < ^ >\n",
    "print ('{0:>12}  |  {1:<7} '.format('Name','Count'))\n",
    "print ('{0:>12}  |  {1:<7} '.format('dsffsfsdf', 10))\n",
    "print ('{0:>12}  |  {1:<7} '.format('Omar', 15))"
   ]
  },
  {
   "cell_type": "code",
   "execution_count": 20,
   "id": "90d3ac09",
   "metadata": {},
   "outputs": [
    {
     "name": "stdout",
     "output_type": "stream",
     "text": [
      "    Name      |   Count  \n",
      " dsffsfsdf    |    10    \n",
      "    Omar      |    15    \n"
     ]
    }
   ],
   "source": [
    "print ('{0:^12}  |  {1:^7} '.format('Name','Count'))\n",
    "print ('{0:^12}  |  {1:^7} '.format('dsffsfsdf', 10))\n",
    "print ('{0:^12}  |  {1:^7} '.format('Omar', 15))"
   ]
  },
  {
   "cell_type": "code",
   "execution_count": 21,
   "id": "2cd2ba2f",
   "metadata": {},
   "outputs": [
    {
     "name": "stdout",
     "output_type": "stream",
     "text": [
      "____Name____  |  .Count. \n",
      "_dsffsfsdf__  |  ..10... \n",
      "____Omar____  |  ..15... \n"
     ]
    }
   ],
   "source": [
    "print ('{0:_^12}  |  {1:.^7} '.format('Name','Count'))\n",
    "print ('{0:_^12}  |  {1:.^7} '.format('dsffsfsdf', 10))\n",
    "print ('{0:_^12}  |  {1:.^7} '.format('Omar', 15))"
   ]
  },
  {
   "cell_type": "code",
   "execution_count": 22,
   "id": "55a9227a",
   "metadata": {},
   "outputs": [
    {
     "name": "stdout",
     "output_type": "stream",
     "text": [
      "Name________  |  ..Count \n",
      "dsffsfsdf___  |  .....10 \n",
      "Omar________  |  .....15 \n"
     ]
    }
   ],
   "source": [
    "print ('{0:_<12}  |  {1:.>7} '.format('Name','Count'))\n",
    "print ('{0:_<12}  |  {1:.>7} '.format('dsffsfsdf', 10))\n",
    "print ('{0:_<12}  |  {1:.>7} '.format('Omar', 15))"
   ]
  },
  {
   "cell_type": "code",
   "execution_count": 23,
   "id": "3af8a97b",
   "metadata": {},
   "outputs": [
    {
     "name": "stdout",
     "output_type": "stream",
     "text": [
      "my age is 14.6474874\n"
     ]
    }
   ],
   "source": [
    "print ('my age is {0}'.format(14.6474874))"
   ]
  },
  {
   "cell_type": "code",
   "execution_count": 24,
   "id": "dea732d1",
   "metadata": {},
   "outputs": [
    {
     "name": "stdout",
     "output_type": "stream",
     "text": [
      "my age is 14.65\n"
     ]
    }
   ],
   "source": [
    "print ('my age is {0:1.2f}'.format(14.645415848))"
   ]
  },
  {
   "cell_type": "markdown",
   "id": "d139c8d8",
   "metadata": {},
   "source": [
    "#### 3- Formatted String Literals (f-string)"
   ]
  },
  {
   "cell_type": "code",
   "execution_count": 25,
   "id": "44f485f1",
   "metadata": {},
   "outputs": [],
   "source": [
    "first_name , last_name = 'Asem' , 'Saafan'"
   ]
  },
  {
   "cell_type": "code",
   "execution_count": 26,
   "id": "dc1599ea",
   "metadata": {},
   "outputs": [
    {
     "name": "stdout",
     "output_type": "stream",
     "text": [
      "my first name is {first_name}\n"
     ]
    }
   ],
   "source": [
    "print ('my first name is {first_name}')"
   ]
  },
  {
   "cell_type": "code",
   "execution_count": 27,
   "id": "b72ed91a",
   "metadata": {},
   "outputs": [
    {
     "name": "stdout",
     "output_type": "stream",
     "text": [
      "my first name is Asem\n"
     ]
    }
   ],
   "source": [
    "print (f'my first name is {first_name}')"
   ]
  },
  {
   "cell_type": "code",
   "execution_count": 28,
   "id": "bd47d5c1",
   "metadata": {},
   "outputs": [],
   "source": [
    "x= 15.1484787"
   ]
  },
  {
   "cell_type": "code",
   "execution_count": 29,
   "id": "6e6c6e56",
   "metadata": {},
   "outputs": [
    {
     "name": "stdout",
     "output_type": "stream",
     "text": [
      "the length is 1.5e+01\n"
     ]
    }
   ],
   "source": [
    "print (f'the length is {x:{1}.{2}}')"
   ]
  },
  {
   "cell_type": "code",
   "execution_count": 30,
   "id": "f9c10c75",
   "metadata": {},
   "outputs": [
    {
     "name": "stdout",
     "output_type": "stream",
     "text": [
      "the length is 15.148\n"
     ]
    }
   ],
   "source": [
    "print (f'the length is {x:{1}.{5}}')"
   ]
  },
  {
   "cell_type": "code",
   "execution_count": null,
   "id": "96e41ace",
   "metadata": {},
   "outputs": [],
   "source": []
  }
 ],
 "metadata": {
  "kernelspec": {
   "display_name": "Python 3 (ipykernel)",
   "language": "python",
   "name": "python3"
  },
  "language_info": {
   "codemirror_mode": {
    "name": "ipython",
    "version": 3
   },
   "file_extension": ".py",
   "mimetype": "text/x-python",
   "name": "python",
   "nbconvert_exporter": "python",
   "pygments_lexer": "ipython3",
   "version": "3.9.7"
  }
 },
 "nbformat": 4,
 "nbformat_minor": 5
}
