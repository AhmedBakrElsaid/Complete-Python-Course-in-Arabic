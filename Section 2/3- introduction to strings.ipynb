{
 "cells": [
  {
   "cell_type": "markdown",
   "id": "40a248e6",
   "metadata": {},
   "source": [
    "<a href='https://www.youtube.com/playlist?list=PLMDrOnfT8EAgCPrFfF8OgMQOTtMUk78AJ'><img src='../course_img.png'/></a>"
   ]
  },
  {
   "cell_type": "markdown",
   "id": "c0a3fd75",
   "metadata": {},
   "source": [
    "# Intro to Strings"
   ]
  },
  {
   "cell_type": "code",
   "execution_count": 1,
   "id": "fed5dfe1",
   "metadata": {},
   "outputs": [
    {
     "data": {
      "text/plain": [
       "'hello world'"
      ]
     },
     "execution_count": 1,
     "metadata": {},
     "output_type": "execute_result"
    }
   ],
   "source": [
    "'hello world'"
   ]
  },
  {
   "cell_type": "code",
   "execution_count": 2,
   "id": "a856e423",
   "metadata": {},
   "outputs": [
    {
     "data": {
      "text/plain": [
       "'hello world'"
      ]
     },
     "execution_count": 2,
     "metadata": {},
     "output_type": "execute_result"
    }
   ],
   "source": [
    "\"hello world\""
   ]
  },
  {
   "cell_type": "code",
   "execution_count": 4,
   "id": "94e89ac5",
   "metadata": {},
   "outputs": [
    {
     "data": {
      "text/plain": [
       "\"I'm from Egypt\""
      ]
     },
     "execution_count": 4,
     "metadata": {},
     "output_type": "execute_result"
    }
   ],
   "source": [
    "\"I'm from Egypt\""
   ]
  },
  {
   "cell_type": "code",
   "execution_count": 10,
   "id": "b9205c44",
   "metadata": {},
   "outputs": [],
   "source": [
    "my_name = \"Asem \\n Saafan\"\n",
    "my_num = 4881"
   ]
  },
  {
   "cell_type": "code",
   "execution_count": 7,
   "id": "f0c1e458",
   "metadata": {},
   "outputs": [
    {
     "data": {
      "text/plain": [
       "'051518457'"
      ]
     },
     "execution_count": 7,
     "metadata": {},
     "output_type": "execute_result"
    }
   ],
   "source": [
    "my_name\n",
    "my_num"
   ]
  },
  {
   "cell_type": "code",
   "execution_count": 15,
   "id": "2b3b7f60",
   "metadata": {},
   "outputs": [
    {
     "name": "stdout",
     "output_type": "stream",
     "text": [
      "Asem Saafan\n",
      "Asem \n",
      " Saafan\n"
     ]
    }
   ],
   "source": [
    "print (my_name)\n",
    "print (my_num)"
   ]
  },
  {
   "cell_type": "code",
   "execution_count": 13,
   "id": "4862762b",
   "metadata": {},
   "outputs": [
    {
     "data": {
      "text/plain": [
       "int"
      ]
     },
     "execution_count": 13,
     "metadata": {},
     "output_type": "execute_result"
    }
   ],
   "source": [
    "type(my_num)"
   ]
  },
  {
   "cell_type": "code",
   "execution_count": 22,
   "id": "308efa3e",
   "metadata": {},
   "outputs": [],
   "source": [
    "fullname = \"Asem \\tSaafan\""
   ]
  },
  {
   "cell_type": "code",
   "execution_count": 23,
   "id": "c994b6ea",
   "metadata": {},
   "outputs": [
    {
     "name": "stdout",
     "output_type": "stream",
     "text": [
      "Asem \tSaafan\n"
     ]
    }
   ],
   "source": [
    "print (fullname)"
   ]
  },
  {
   "cell_type": "code",
   "execution_count": null,
   "id": "2671f6d1",
   "metadata": {},
   "outputs": [],
   "source": []
  }
 ],
 "metadata": {
  "kernelspec": {
   "display_name": "Python 3 (ipykernel)",
   "language": "python",
   "name": "python3"
  },
  "language_info": {
   "codemirror_mode": {
    "name": "ipython",
    "version": 3
   },
   "file_extension": ".py",
   "mimetype": "text/x-python",
   "name": "python",
   "nbconvert_exporter": "python",
   "pygments_lexer": "ipython3",
   "version": "3.9.7"
  }
 },
 "nbformat": 4,
 "nbformat_minor": 5
}
