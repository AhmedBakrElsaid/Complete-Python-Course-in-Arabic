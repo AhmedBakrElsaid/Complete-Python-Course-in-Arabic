{
 "cells": [
  {
   "cell_type": "markdown",
   "id": "ce2a2143",
   "metadata": {},
   "source": [
    "<a href='https://www.youtube.com/playlist?list=PLMDrOnfT8EAgCPrFfF8OgMQOTtMUk78AJ'><img src='../course_img.png'/></a>"
   ]
  },
  {
   "cell_type": "markdown",
   "id": "96dfb175",
   "metadata": {},
   "source": [
    "# Dictionaries in Python"
   ]
  },
  {
   "cell_type": "markdown",
   "id": "5ac7c635",
   "metadata": {},
   "source": [
    "### 1 - Creating or Constructing Dictionaries"
   ]
  },
  {
   "cell_type": "code",
   "execution_count": 1,
   "id": "b7f81672",
   "metadata": {},
   "outputs": [],
   "source": [
    "my_dictionary = {'key1':'Value1', 'key2':'Value2','key3':'Value3' }"
   ]
  },
  {
   "cell_type": "code",
   "execution_count": 2,
   "id": "5fecf9a4",
   "metadata": {},
   "outputs": [
    {
     "data": {
      "text/plain": [
       "{'key1': 'Value1', 'key2': 'Value2', 'key3': 'Value3'}"
      ]
     },
     "execution_count": 2,
     "metadata": {},
     "output_type": "execute_result"
    }
   ],
   "source": [
    "my_dictionary"
   ]
  },
  {
   "cell_type": "code",
   "execution_count": 3,
   "id": "ab650736",
   "metadata": {},
   "outputs": [],
   "source": [
    "my_dictionary1 = {'gender':'Male', 'birth':1980,'interests':['Sports' , 'Music'] }"
   ]
  },
  {
   "cell_type": "code",
   "execution_count": 4,
   "id": "c82fa2db",
   "metadata": {},
   "outputs": [
    {
     "data": {
      "text/plain": [
       "{'gender': 'Male', 'birth': 1980, 'interests': ['Sports', 'Music']}"
      ]
     },
     "execution_count": 4,
     "metadata": {},
     "output_type": "execute_result"
    }
   ],
   "source": [
    "my_dictionary1"
   ]
  },
  {
   "cell_type": "code",
   "execution_count": 5,
   "id": "80f7b5da",
   "metadata": {},
   "outputs": [],
   "source": [
    "my_dictionary1 = dict({'gender':'Male', 'birth':1980,'interests':['Sports' , 'Music'] }) "
   ]
  },
  {
   "cell_type": "code",
   "execution_count": 6,
   "id": "2ddcc592",
   "metadata": {},
   "outputs": [
    {
     "data": {
      "text/plain": [
       "{'gender': 'Male', 'birth': 1980, 'interests': ['Sports', 'Music']}"
      ]
     },
     "execution_count": 6,
     "metadata": {},
     "output_type": "execute_result"
    }
   ],
   "source": [
    "my_dictionary1"
   ]
  },
  {
   "cell_type": "markdown",
   "id": "baa3b388",
   "metadata": {},
   "source": [
    "### 2 - Accessing Objects from a dictionary"
   ]
  },
  {
   "cell_type": "code",
   "execution_count": 7,
   "id": "1d7f3cd3",
   "metadata": {},
   "outputs": [],
   "source": [
    "my_dictionary1 = {'gender':'Male', 'birth':1980,'interests':['Sports' , 'Music'] }"
   ]
  },
  {
   "cell_type": "code",
   "execution_count": 8,
   "id": "781297a5",
   "metadata": {},
   "outputs": [
    {
     "data": {
      "text/plain": [
       "1980"
      ]
     },
     "execution_count": 8,
     "metadata": {},
     "output_type": "execute_result"
    }
   ],
   "source": [
    "my_dictionary1['birth']"
   ]
  },
  {
   "cell_type": "code",
   "execution_count": 9,
   "id": "06c8d063",
   "metadata": {},
   "outputs": [
    {
     "data": {
      "text/plain": [
       "['Sports', 'Music']"
      ]
     },
     "execution_count": 9,
     "metadata": {},
     "output_type": "execute_result"
    }
   ],
   "source": [
    "my_dictionary1['interests']"
   ]
  },
  {
   "cell_type": "code",
   "execution_count": 10,
   "id": "090165dd",
   "metadata": {},
   "outputs": [
    {
     "data": {
      "text/plain": [
       "'Music'"
      ]
     },
     "execution_count": 10,
     "metadata": {},
     "output_type": "execute_result"
    }
   ],
   "source": [
    "my_dictionary1['interests'][1]"
   ]
  },
  {
   "cell_type": "code",
   "execution_count": 11,
   "id": "c7487303",
   "metadata": {},
   "outputs": [
    {
     "data": {
      "text/plain": [
       "'MUSIC'"
      ]
     },
     "execution_count": 11,
     "metadata": {},
     "output_type": "execute_result"
    }
   ],
   "source": [
    "my_dictionary1['interests'][1].upper()"
   ]
  },
  {
   "cell_type": "code",
   "execution_count": 12,
   "id": "c45135c3",
   "metadata": {},
   "outputs": [],
   "source": [
    "my_dictionary1['birth'] = 1990"
   ]
  },
  {
   "cell_type": "code",
   "execution_count": 13,
   "id": "2ca0c072",
   "metadata": {},
   "outputs": [
    {
     "data": {
      "text/plain": [
       "{'gender': 'Male', 'birth': 1990, 'interests': ['Sports', 'Music']}"
      ]
     },
     "execution_count": 13,
     "metadata": {},
     "output_type": "execute_result"
    }
   ],
   "source": [
    "my_dictionary1"
   ]
  },
  {
   "cell_type": "code",
   "execution_count": 14,
   "id": "3721af95",
   "metadata": {},
   "outputs": [],
   "source": [
    "my_dictionary1['birth'] = my_dictionary1['birth'] + 15"
   ]
  },
  {
   "cell_type": "code",
   "execution_count": 15,
   "id": "81012bc8",
   "metadata": {},
   "outputs": [
    {
     "data": {
      "text/plain": [
       "{'gender': 'Male', 'birth': 2005, 'interests': ['Sports', 'Music']}"
      ]
     },
     "execution_count": 15,
     "metadata": {},
     "output_type": "execute_result"
    }
   ],
   "source": [
    "my_dictionary1"
   ]
  },
  {
   "cell_type": "code",
   "execution_count": 16,
   "id": "46eb2556",
   "metadata": {},
   "outputs": [],
   "source": [
    "my_dictionary1['birth'] -= 25"
   ]
  },
  {
   "cell_type": "code",
   "execution_count": 17,
   "id": "5cfba1f1",
   "metadata": {},
   "outputs": [
    {
     "data": {
      "text/plain": [
       "{'gender': 'Male', 'birth': 1980, 'interests': ['Sports', 'Music']}"
      ]
     },
     "execution_count": 17,
     "metadata": {},
     "output_type": "execute_result"
    }
   ],
   "source": [
    "my_dictionary1"
   ]
  },
  {
   "cell_type": "code",
   "execution_count": 18,
   "id": "e1d408a8",
   "metadata": {},
   "outputs": [],
   "source": [
    "#my_dictionary1 = {'gender':'Male', 'birth':1980,'interests':['Sports' , 'Music'] }\n",
    "my_dictionary2 = {}"
   ]
  },
  {
   "cell_type": "code",
   "execution_count": 19,
   "id": "bd89a2d5",
   "metadata": {},
   "outputs": [
    {
     "data": {
      "text/plain": [
       "{}"
      ]
     },
     "execution_count": 19,
     "metadata": {},
     "output_type": "execute_result"
    }
   ],
   "source": [
    "my_dictionary2"
   ]
  },
  {
   "cell_type": "code",
   "execution_count": 20,
   "id": "ef341e36",
   "metadata": {},
   "outputs": [],
   "source": [
    "my_dictionary2['gender'] = 'Female'"
   ]
  },
  {
   "cell_type": "code",
   "execution_count": 21,
   "id": "956dc449",
   "metadata": {},
   "outputs": [
    {
     "data": {
      "text/plain": [
       "{'gender': 'Female'}"
      ]
     },
     "execution_count": 21,
     "metadata": {},
     "output_type": "execute_result"
    }
   ],
   "source": [
    "my_dictionary2"
   ]
  },
  {
   "cell_type": "markdown",
   "id": "cc6ae128",
   "metadata": {},
   "source": [
    "### 3 - Nesting with Dictionaries"
   ]
  },
  {
   "cell_type": "code",
   "execution_count": 22,
   "id": "b42910af",
   "metadata": {},
   "outputs": [],
   "source": [
    "my_dict = {'likes' :{'sports' : ['Barcelona' ,'Real Madrid'], 'Films': {'Action':'The Batman'} }}"
   ]
  },
  {
   "cell_type": "code",
   "execution_count": 23,
   "id": "8f8bc5a3",
   "metadata": {},
   "outputs": [
    {
     "data": {
      "text/plain": [
       "{'likes': {'sports': ['Barcelona', 'Real Madrid'],\n",
       "  'Films': {'Action': 'The Batman'}}}"
      ]
     },
     "execution_count": 23,
     "metadata": {},
     "output_type": "execute_result"
    }
   ],
   "source": [
    "my_dict"
   ]
  },
  {
   "cell_type": "code",
   "execution_count": 24,
   "id": "4fbab23f",
   "metadata": {},
   "outputs": [
    {
     "data": {
      "text/plain": [
       "{'sports': ['Barcelona', 'Real Madrid'], 'Films': {'Action': 'The Batman'}}"
      ]
     },
     "execution_count": 24,
     "metadata": {},
     "output_type": "execute_result"
    }
   ],
   "source": [
    "my_dict ['likes']"
   ]
  },
  {
   "cell_type": "code",
   "execution_count": 25,
   "id": "5eb76400",
   "metadata": {},
   "outputs": [
    {
     "data": {
      "text/plain": [
       "'Barcelona'"
      ]
     },
     "execution_count": 25,
     "metadata": {},
     "output_type": "execute_result"
    }
   ],
   "source": [
    "my_dict ['likes']['sports'][0]"
   ]
  },
  {
   "cell_type": "code",
   "execution_count": 26,
   "id": "5fbd682d",
   "metadata": {
    "scrolled": true
   },
   "outputs": [
    {
     "data": {
      "text/plain": [
       "'The Batman'"
      ]
     },
     "execution_count": 26,
     "metadata": {},
     "output_type": "execute_result"
    }
   ],
   "source": [
    "my_dict ['likes']['Films']['Action']"
   ]
  },
  {
   "cell_type": "markdown",
   "id": "499f52c6",
   "metadata": {},
   "source": [
    "### 4 - Dictionary Methods"
   ]
  },
  {
   "cell_type": "code",
   "execution_count": 27,
   "id": "5dda0e9b",
   "metadata": {},
   "outputs": [],
   "source": [
    "my_dictionary = {'gender':'Male', 'birth':1980,'interests':['Sports' , 'Music'] }"
   ]
  },
  {
   "cell_type": "code",
   "execution_count": 28,
   "id": "25546705",
   "metadata": {},
   "outputs": [
    {
     "data": {
      "text/plain": [
       "dict_keys(['gender', 'birth', 'interests'])"
      ]
     },
     "execution_count": 28,
     "metadata": {},
     "output_type": "execute_result"
    }
   ],
   "source": [
    "my_dictionary.keys()"
   ]
  },
  {
   "cell_type": "code",
   "execution_count": 29,
   "id": "0f244d22",
   "metadata": {},
   "outputs": [
    {
     "data": {
      "text/plain": [
       "dict_values(['Male', 1980, ['Sports', 'Music']])"
      ]
     },
     "execution_count": 29,
     "metadata": {},
     "output_type": "execute_result"
    }
   ],
   "source": [
    "my_dictionary.values()"
   ]
  },
  {
   "cell_type": "code",
   "execution_count": 30,
   "id": "5c06f6ae",
   "metadata": {},
   "outputs": [
    {
     "data": {
      "text/plain": [
       "1980"
      ]
     },
     "execution_count": 30,
     "metadata": {},
     "output_type": "execute_result"
    }
   ],
   "source": [
    "my_dictionary.pop('birth')"
   ]
  },
  {
   "cell_type": "code",
   "execution_count": 31,
   "id": "0111a002",
   "metadata": {},
   "outputs": [
    {
     "data": {
      "text/plain": [
       "{'gender': 'Male', 'interests': ['Sports', 'Music']}"
      ]
     },
     "execution_count": 31,
     "metadata": {},
     "output_type": "execute_result"
    }
   ],
   "source": [
    "my_dictionary"
   ]
  },
  {
   "cell_type": "code",
   "execution_count": 32,
   "id": "30f4015a",
   "metadata": {},
   "outputs": [],
   "source": [
    "my_dictionary.clear()"
   ]
  },
  {
   "cell_type": "code",
   "execution_count": 33,
   "id": "f467252e",
   "metadata": {},
   "outputs": [
    {
     "data": {
      "text/plain": [
       "{}"
      ]
     },
     "execution_count": 33,
     "metadata": {},
     "output_type": "execute_result"
    }
   ],
   "source": [
    "my_dictionary"
   ]
  },
  {
   "cell_type": "code",
   "execution_count": 34,
   "id": "c4d35420",
   "metadata": {},
   "outputs": [],
   "source": [
    "del my_dictionary"
   ]
  },
  {
   "cell_type": "code",
   "execution_count": 35,
   "id": "ee0785f7",
   "metadata": {},
   "outputs": [],
   "source": [
    "# will give you an error because it delets the variable itself from the memory \n",
    "#my_dictionary"
   ]
  },
  {
   "cell_type": "code",
   "execution_count": null,
   "id": "9ccc5174",
   "metadata": {},
   "outputs": [],
   "source": []
  }
 ],
 "metadata": {
  "kernelspec": {
   "display_name": "Python 3 (ipykernel)",
   "language": "python",
   "name": "python3"
  },
  "language_info": {
   "codemirror_mode": {
    "name": "ipython",
    "version": 3
   },
   "file_extension": ".py",
   "mimetype": "text/x-python",
   "name": "python",
   "nbconvert_exporter": "python",
   "pygments_lexer": "ipython3",
   "version": "3.9.7"
  }
 },
 "nbformat": 4,
 "nbformat_minor": 5
}
