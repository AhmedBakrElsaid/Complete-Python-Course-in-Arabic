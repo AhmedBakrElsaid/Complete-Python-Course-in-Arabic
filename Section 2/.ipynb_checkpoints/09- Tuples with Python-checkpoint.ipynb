{
 "cells": [
  {
   "cell_type": "markdown",
   "id": "3b8ecf66",
   "metadata": {},
   "source": [
    "<a href='https://www.youtube.com/playlist?list=PLMDrOnfT8EAgCPrFfF8OgMQOTtMUk78AJ'><img src='../course_img.png'/></a>"
   ]
  },
  {
   "cell_type": "markdown",
   "id": "230ddd00",
   "metadata": {},
   "source": [
    "# Tuples with Python"
   ]
  },
  {
   "cell_type": "markdown",
   "id": "3846090d",
   "metadata": {},
   "source": [
    "### 1- Creating or Constructing Tuples"
   ]
  },
  {
   "cell_type": "code",
   "execution_count": 1,
   "id": "84df661a",
   "metadata": {},
   "outputs": [
    {
     "data": {
      "text/plain": [
       "()"
      ]
     },
     "execution_count": 1,
     "metadata": {},
     "output_type": "execute_result"
    }
   ],
   "source": [
    "# empty tuple\n",
    "my_tuple = ()\n",
    "my_tuple"
   ]
  },
  {
   "cell_type": "code",
   "execution_count": 2,
   "id": "898810d1",
   "metadata": {},
   "outputs": [
    {
     "data": {
      "text/plain": [
       "tuple"
      ]
     },
     "execution_count": 2,
     "metadata": {},
     "output_type": "execute_result"
    }
   ],
   "source": [
    "type (my_tuple)"
   ]
  },
  {
   "cell_type": "code",
   "execution_count": 3,
   "id": "e1fc5d6e",
   "metadata": {},
   "outputs": [
    {
     "data": {
      "text/plain": [
       "(1, 8, 78)"
      ]
     },
     "execution_count": 3,
     "metadata": {},
     "output_type": "execute_result"
    }
   ],
   "source": [
    "my_tuple1 = (1,8,78)\n",
    "my_tuple1"
   ]
  },
  {
   "cell_type": "code",
   "execution_count": 4,
   "id": "cbb709de",
   "metadata": {},
   "outputs": [],
   "source": [
    "my_tuple2 = ('Asem' , 15.5, 878 , [45,87,\"Ahmed\"])"
   ]
  },
  {
   "cell_type": "code",
   "execution_count": 5,
   "id": "c82ac5ef",
   "metadata": {},
   "outputs": [
    {
     "data": {
      "text/plain": [
       "('Asem', 15.5, 878, [45, 87, 'Ahmed'])"
      ]
     },
     "execution_count": 5,
     "metadata": {},
     "output_type": "execute_result"
    }
   ],
   "source": [
    "my_tuple2"
   ]
  },
  {
   "cell_type": "code",
   "execution_count": 6,
   "id": "53aba180",
   "metadata": {},
   "outputs": [],
   "source": [
    "# Example\n",
    "my_tuple3 = ('Asem')"
   ]
  },
  {
   "cell_type": "code",
   "execution_count": 7,
   "id": "63bda216",
   "metadata": {},
   "outputs": [
    {
     "data": {
      "text/plain": [
       "str"
      ]
     },
     "execution_count": 7,
     "metadata": {},
     "output_type": "execute_result"
    }
   ],
   "source": [
    "type (my_tuple3)"
   ]
  },
  {
   "cell_type": "code",
   "execution_count": 8,
   "id": "76e65e0f",
   "metadata": {},
   "outputs": [],
   "source": [
    "my_tuple4 = ('Asem',)"
   ]
  },
  {
   "cell_type": "code",
   "execution_count": 9,
   "id": "c2507687",
   "metadata": {},
   "outputs": [
    {
     "data": {
      "text/plain": [
       "tuple"
      ]
     },
     "execution_count": 9,
     "metadata": {},
     "output_type": "execute_result"
    }
   ],
   "source": [
    "type (my_tuple4)"
   ]
  },
  {
   "cell_type": "code",
   "execution_count": 10,
   "id": "bed22445",
   "metadata": {},
   "outputs": [],
   "source": [
    "my_tuple2 = 'Asem' , 15.5, 878 , [45,87,\"Ahmed\"]"
   ]
  },
  {
   "cell_type": "code",
   "execution_count": 11,
   "id": "486a1feb",
   "metadata": {},
   "outputs": [
    {
     "data": {
      "text/plain": [
       "tuple"
      ]
     },
     "execution_count": 11,
     "metadata": {},
     "output_type": "execute_result"
    }
   ],
   "source": [
    "type(my_tuple2)"
   ]
  },
  {
   "cell_type": "markdown",
   "id": "ee52d97d",
   "metadata": {},
   "source": [
    "### 2- Accessing, Indexing and Slicing Elements in Tuples"
   ]
  },
  {
   "cell_type": "code",
   "execution_count": 12,
   "id": "ba53445b",
   "metadata": {},
   "outputs": [],
   "source": [
    "my_tuple1 = ('Asem' , 15.5, 878 , [45,87,\"Ahmed\"])"
   ]
  },
  {
   "cell_type": "code",
   "execution_count": 13,
   "id": "06995536",
   "metadata": {},
   "outputs": [
    {
     "data": {
      "text/plain": [
       "'Ahmed'"
      ]
     },
     "execution_count": 13,
     "metadata": {},
     "output_type": "execute_result"
    }
   ],
   "source": [
    "my_tuple1[3][2]"
   ]
  },
  {
   "cell_type": "code",
   "execution_count": 14,
   "id": "6bb86aee",
   "metadata": {},
   "outputs": [
    {
     "data": {
      "text/plain": [
       "(15.5, 878, [45, 87, 'Ahmed'])"
      ]
     },
     "execution_count": 14,
     "metadata": {},
     "output_type": "execute_result"
    }
   ],
   "source": [
    "my_tuple1[1:]"
   ]
  },
  {
   "cell_type": "code",
   "execution_count": 15,
   "id": "6d269939",
   "metadata": {},
   "outputs": [
    {
     "data": {
      "text/plain": [
       "('Asem', 15.5, 878)"
      ]
     },
     "execution_count": 15,
     "metadata": {},
     "output_type": "execute_result"
    }
   ],
   "source": [
    "my_tuple1[:3]"
   ]
  },
  {
   "cell_type": "markdown",
   "id": "90dc93e0",
   "metadata": {},
   "source": [
    "### 3- Basic Tuple Methods"
   ]
  },
  {
   "cell_type": "code",
   "execution_count": 16,
   "id": "639218f8",
   "metadata": {},
   "outputs": [],
   "source": [
    "my_tuple1 = ('Asem' , 15.5, 878 , 15.5 , 'Asem', 'Asem' ,[45,87,\"Ahmed\",\"Asem\"])"
   ]
  },
  {
   "cell_type": "code",
   "execution_count": 17,
   "id": "b56884da",
   "metadata": {},
   "outputs": [
    {
     "data": {
      "text/plain": [
       "0"
      ]
     },
     "execution_count": 17,
     "metadata": {},
     "output_type": "execute_result"
    }
   ],
   "source": [
    "my_tuple1.index ('Asem')"
   ]
  },
  {
   "cell_type": "code",
   "execution_count": 18,
   "id": "9b6ba9ba",
   "metadata": {},
   "outputs": [
    {
     "data": {
      "text/plain": [
       "2"
      ]
     },
     "execution_count": 18,
     "metadata": {},
     "output_type": "execute_result"
    }
   ],
   "source": [
    "my_tuple1.index (878)"
   ]
  },
  {
   "cell_type": "code",
   "execution_count": 19,
   "id": "c00b40fe",
   "metadata": {},
   "outputs": [
    {
     "data": {
      "text/plain": [
       "3"
      ]
     },
     "execution_count": 19,
     "metadata": {},
     "output_type": "execute_result"
    }
   ],
   "source": [
    "my_tuple1.count ('Asem')"
   ]
  },
  {
   "cell_type": "markdown",
   "id": "01d67512",
   "metadata": {},
   "source": [
    "### 4- Nesting Tuples"
   ]
  },
  {
   "cell_type": "code",
   "execution_count": 20,
   "id": "18e60832",
   "metadata": {},
   "outputs": [],
   "source": [
    "my_tuple1 = ('Asem' , 15.5, 878 , 15.5 , 'Asem', 'Asem' ,(45,87,\"Ahmed\",\"Asem\"))"
   ]
  },
  {
   "cell_type": "code",
   "execution_count": 21,
   "id": "2499d9b8",
   "metadata": {},
   "outputs": [
    {
     "data": {
      "text/plain": [
       "'Ahmed'"
      ]
     },
     "execution_count": 21,
     "metadata": {},
     "output_type": "execute_result"
    }
   ],
   "source": [
    "my_tuple1 [6][2]"
   ]
  },
  {
   "cell_type": "markdown",
   "id": "73a46f5e",
   "metadata": {},
   "source": [
    "### 5- Immutability"
   ]
  },
  {
   "cell_type": "code",
   "execution_count": 22,
   "id": "7ea9b941",
   "metadata": {},
   "outputs": [],
   "source": [
    "my_tuple1 = (1,8,78)\n",
    "my_tuple2 = [1,8,78]"
   ]
  },
  {
   "cell_type": "code",
   "execution_count": 23,
   "id": "5ce3b7b4",
   "metadata": {},
   "outputs": [],
   "source": [
    "# wil give you error because it's immutable\n",
    "#my_tuple1[1] = 140"
   ]
  },
  {
   "cell_type": "code",
   "execution_count": 24,
   "id": "65a96da0",
   "metadata": {},
   "outputs": [],
   "source": [
    "my_tuple2[1] = 140"
   ]
  },
  {
   "cell_type": "code",
   "execution_count": 25,
   "id": "19489ca3",
   "metadata": {},
   "outputs": [
    {
     "data": {
      "text/plain": [
       "[1, 140, 78]"
      ]
     },
     "execution_count": 25,
     "metadata": {},
     "output_type": "execute_result"
    }
   ],
   "source": [
    "my_tuple2"
   ]
  },
  {
   "cell_type": "code",
   "execution_count": 26,
   "id": "a2e0e6ca",
   "metadata": {},
   "outputs": [],
   "source": [
    "# Reassignment\n",
    "my_tuple1 = (1,8,78)"
   ]
  },
  {
   "cell_type": "code",
   "execution_count": 27,
   "id": "87ef02cd",
   "metadata": {},
   "outputs": [
    {
     "data": {
      "text/plain": [
       "(1, 8, 78)"
      ]
     },
     "execution_count": 27,
     "metadata": {},
     "output_type": "execute_result"
    }
   ],
   "source": [
    "my_tuple1"
   ]
  },
  {
   "cell_type": "code",
   "execution_count": 28,
   "id": "dcec1e51",
   "metadata": {},
   "outputs": [],
   "source": [
    "my_tuple1 = (48,78,5687,487,87)"
   ]
  },
  {
   "cell_type": "code",
   "execution_count": 29,
   "id": "3c954043",
   "metadata": {},
   "outputs": [
    {
     "data": {
      "text/plain": [
       "(48, 78, 5687, 487, 87)"
      ]
     },
     "execution_count": 29,
     "metadata": {},
     "output_type": "execute_result"
    }
   ],
   "source": [
    "my_tuple1"
   ]
  },
  {
   "cell_type": "code",
   "execution_count": 30,
   "id": "4708ad5e",
   "metadata": {},
   "outputs": [],
   "source": [
    "my_tuple3 = ('Asem' , 15.5, 878 , 15.5 , 'Asem', 'Asem' ,[45,87,\"Ahmed\",\"Asem\"])"
   ]
  },
  {
   "cell_type": "code",
   "execution_count": 31,
   "id": "6da5f94b",
   "metadata": {},
   "outputs": [
    {
     "data": {
      "text/plain": [
       "'Asem'"
      ]
     },
     "execution_count": 31,
     "metadata": {},
     "output_type": "execute_result"
    }
   ],
   "source": [
    "my_tuple3 [6][3]"
   ]
  },
  {
   "cell_type": "code",
   "execution_count": 32,
   "id": "38d86556",
   "metadata": {},
   "outputs": [],
   "source": [
    "my_tuple3 [6][3] = \"Omar\""
   ]
  },
  {
   "cell_type": "code",
   "execution_count": 33,
   "id": "57586ad3",
   "metadata": {},
   "outputs": [
    {
     "data": {
      "text/plain": [
       "('Asem', 15.5, 878, 15.5, 'Asem', 'Asem', [45, 87, 'Ahmed', 'Omar'])"
      ]
     },
     "execution_count": 33,
     "metadata": {},
     "output_type": "execute_result"
    }
   ],
   "source": [
    "my_tuple3"
   ]
  },
  {
   "cell_type": "code",
   "execution_count": 34,
   "id": "bbbb2011",
   "metadata": {},
   "outputs": [],
   "source": [
    "# will give you error\n",
    "#my_tuple3 [6] = [45,78]"
   ]
  },
  {
   "cell_type": "markdown",
   "id": "aa3d1e9f",
   "metadata": {},
   "source": [
    "### 6- When to Use Tuples"
   ]
  },
  {
   "cell_type": "code",
   "execution_count": 35,
   "id": "d3e8c873",
   "metadata": {},
   "outputs": [],
   "source": [
    "# Week days will never change"
   ]
  },
  {
   "cell_type": "code",
   "execution_count": 36,
   "id": "477fe246",
   "metadata": {},
   "outputs": [],
   "source": [
    "my_dict = {'first_name':'Asem', 'last_name':'Saafan'}"
   ]
  },
  {
   "cell_type": "code",
   "execution_count": 37,
   "id": "fef7495b",
   "metadata": {},
   "outputs": [
    {
     "data": {
      "text/plain": [
       "dict_items([('first_name', 'Asem'), ('last_name', 'Saafan')])"
      ]
     },
     "execution_count": 37,
     "metadata": {},
     "output_type": "execute_result"
    }
   ],
   "source": [
    "my_dict.items()"
   ]
  }
 ],
 "metadata": {
  "kernelspec": {
   "display_name": "Python 3 (ipykernel)",
   "language": "python",
   "name": "python3"
  },
  "language_info": {
   "codemirror_mode": {
    "name": "ipython",
    "version": 3
   },
   "file_extension": ".py",
   "mimetype": "text/x-python",
   "name": "python",
   "nbconvert_exporter": "python",
   "pygments_lexer": "ipython3",
   "version": "3.9.7"
  }
 },
 "nbformat": 4,
 "nbformat_minor": 5
}
