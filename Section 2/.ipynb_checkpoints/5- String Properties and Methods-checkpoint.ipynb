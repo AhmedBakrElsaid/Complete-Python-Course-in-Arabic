{
 "cells": [
  {
   "cell_type": "markdown",
   "id": "a2461a11",
   "metadata": {},
   "source": [
    "## String Properties"
   ]
  },
  {
   "cell_type": "markdown",
   "id": "9394047f",
   "metadata": {},
   "source": [
    "##### Immutability "
   ]
  },
  {
   "cell_type": "code",
   "execution_count": 1,
   "id": "d07c1b60",
   "metadata": {},
   "outputs": [],
   "source": [
    "fullname = \"Asem Saafan\""
   ]
  },
  {
   "cell_type": "code",
   "execution_count": 2,
   "id": "d527f36c",
   "metadata": {},
   "outputs": [
    {
     "data": {
      "text/plain": [
       "'A'"
      ]
     },
     "execution_count": 2,
     "metadata": {},
     "output_type": "execute_result"
    }
   ],
   "source": [
    "fullname[0]"
   ]
  },
  {
   "cell_type": "code",
   "execution_count": 3,
   "id": "051e9d5b",
   "metadata": {},
   "outputs": [
    {
     "ename": "TypeError",
     "evalue": "'str' object does not support item assignment",
     "output_type": "error",
     "traceback": [
      "\u001b[1;31m---------------------------------------------------------------------------\u001b[0m",
      "\u001b[1;31mTypeError\u001b[0m                                 Traceback (most recent call last)",
      "\u001b[1;32m~\\AppData\\Local\\Temp/ipykernel_10460/746041179.py\u001b[0m in \u001b[0;36m<module>\u001b[1;34m\u001b[0m\n\u001b[1;32m----> 1\u001b[1;33m \u001b[0mfullname\u001b[0m\u001b[1;33m[\u001b[0m\u001b[1;36m0\u001b[0m\u001b[1;33m]\u001b[0m \u001b[1;33m=\u001b[0m \u001b[1;34m\"B\"\u001b[0m\u001b[1;33m\u001b[0m\u001b[1;33m\u001b[0m\u001b[0m\n\u001b[0m",
      "\u001b[1;31mTypeError\u001b[0m: 'str' object does not support item assignment"
     ]
    }
   ],
   "source": [
    "fullname[0] = \"B\""
   ]
  },
  {
   "cell_type": "code",
   "execution_count": 4,
   "id": "82cbc5b7",
   "metadata": {},
   "outputs": [],
   "source": [
    "fullname = \"Bsem Saafan\""
   ]
  },
  {
   "cell_type": "code",
   "execution_count": 5,
   "id": "9578c4e7",
   "metadata": {},
   "outputs": [
    {
     "data": {
      "text/plain": [
       "'Bsem Saafan'"
      ]
     },
     "execution_count": 5,
     "metadata": {},
     "output_type": "execute_result"
    }
   ],
   "source": [
    "fullname"
   ]
  },
  {
   "cell_type": "markdown",
   "id": "7515dacd",
   "metadata": {},
   "source": [
    "### Concatenation"
   ]
  },
  {
   "cell_type": "code",
   "execution_count": 6,
   "id": "3f2c24de",
   "metadata": {},
   "outputs": [
    {
     "data": {
      "text/plain": [
       "'AB'"
      ]
     },
     "execution_count": 6,
     "metadata": {},
     "output_type": "execute_result"
    }
   ],
   "source": [
    "'A' + 'B'"
   ]
  },
  {
   "cell_type": "code",
   "execution_count": 7,
   "id": "d13ad36a",
   "metadata": {},
   "outputs": [],
   "source": [
    "fullname = \"Asem Saafan\""
   ]
  },
  {
   "cell_type": "code",
   "execution_count": 9,
   "id": "b5a2b583",
   "metadata": {},
   "outputs": [
    {
     "data": {
      "text/plain": [
       "'Bsem Saafan'"
      ]
     },
     "execution_count": 9,
     "metadata": {},
     "output_type": "execute_result"
    }
   ],
   "source": [
    "'B' + fullname [1:]"
   ]
  },
  {
   "cell_type": "code",
   "execution_count": 10,
   "id": "89f7810d",
   "metadata": {},
   "outputs": [
    {
     "data": {
      "text/plain": [
       "9"
      ]
     },
     "execution_count": 10,
     "metadata": {},
     "output_type": "execute_result"
    }
   ],
   "source": [
    "2 + 7"
   ]
  },
  {
   "cell_type": "code",
   "execution_count": 11,
   "id": "c87ac06f",
   "metadata": {},
   "outputs": [
    {
     "data": {
      "text/plain": [
       "'27'"
      ]
     },
     "execution_count": 11,
     "metadata": {},
     "output_type": "execute_result"
    }
   ],
   "source": [
    "'2' + '7'"
   ]
  },
  {
   "cell_type": "code",
   "execution_count": 14,
   "id": "926fcf37",
   "metadata": {},
   "outputs": [
    {
     "data": {
      "text/plain": [
       "'AB AB AB AB AB AB AB AB AB AB '"
      ]
     },
     "execution_count": 14,
     "metadata": {},
     "output_type": "execute_result"
    }
   ],
   "source": [
    "'AB ' * 10"
   ]
  },
  {
   "cell_type": "code",
   "execution_count": 15,
   "id": "995fc59f",
   "metadata": {},
   "outputs": [],
   "source": [
    "first_name = 'Asem'\n",
    "last_name = 'Saafan'"
   ]
  },
  {
   "cell_type": "code",
   "execution_count": 18,
   "id": "db7a0f71",
   "metadata": {},
   "outputs": [],
   "source": [
    "full_name = first_name+ ' ' + last_name"
   ]
  },
  {
   "cell_type": "code",
   "execution_count": 19,
   "id": "302f0018",
   "metadata": {},
   "outputs": [
    {
     "data": {
      "text/plain": [
       "'Asem Saafan'"
      ]
     },
     "execution_count": 19,
     "metadata": {},
     "output_type": "execute_result"
    }
   ],
   "source": [
    "full_name"
   ]
  },
  {
   "cell_type": "markdown",
   "id": "9c47cdd6",
   "metadata": {},
   "source": [
    "## String Methods"
   ]
  },
  {
   "cell_type": "code",
   "execution_count": 24,
   "id": "9cbc1f69",
   "metadata": {},
   "outputs": [],
   "source": [
    "fullname = \"Asem Saafan\""
   ]
  },
  {
   "cell_type": "code",
   "execution_count": 25,
   "id": "c54b0aa6",
   "metadata": {},
   "outputs": [
    {
     "data": {
      "text/plain": [
       "'asem saafan'"
      ]
     },
     "execution_count": 25,
     "metadata": {},
     "output_type": "execute_result"
    }
   ],
   "source": [
    "fullname.lower()"
   ]
  },
  {
   "cell_type": "code",
   "execution_count": 26,
   "id": "b6443970",
   "metadata": {},
   "outputs": [
    {
     "data": {
      "text/plain": [
       "'Asem Saafan'"
      ]
     },
     "execution_count": 26,
     "metadata": {},
     "output_type": "execute_result"
    }
   ],
   "source": [
    "fullname"
   ]
  },
  {
   "cell_type": "code",
   "execution_count": 27,
   "id": "634ae9e9",
   "metadata": {},
   "outputs": [],
   "source": [
    "fullname = fullname.lower()"
   ]
  },
  {
   "cell_type": "code",
   "execution_count": 28,
   "id": "b1c2b2ac",
   "metadata": {},
   "outputs": [
    {
     "data": {
      "text/plain": [
       "'asem saafan'"
      ]
     },
     "execution_count": 28,
     "metadata": {},
     "output_type": "execute_result"
    }
   ],
   "source": [
    "fullname"
   ]
  },
  {
   "cell_type": "code",
   "execution_count": 29,
   "id": "3c05e020",
   "metadata": {},
   "outputs": [
    {
     "data": {
      "text/plain": [
       "'ASEM SAAFAN'"
      ]
     },
     "execution_count": 29,
     "metadata": {},
     "output_type": "execute_result"
    }
   ],
   "source": [
    "fullname.upper ()"
   ]
  },
  {
   "cell_type": "code",
   "execution_count": 30,
   "id": "119b1882",
   "metadata": {},
   "outputs": [
    {
     "data": {
      "text/plain": [
       "'asem saafan'"
      ]
     },
     "execution_count": 30,
     "metadata": {},
     "output_type": "execute_result"
    }
   ],
   "source": [
    "fullname"
   ]
  },
  {
   "cell_type": "code",
   "execution_count": 32,
   "id": "ffe163c3",
   "metadata": {},
   "outputs": [],
   "source": [
    "full_sentence = \"hello I am Asem from Egypt\""
   ]
  },
  {
   "cell_type": "code",
   "execution_count": 34,
   "id": "34fa33b6",
   "metadata": {},
   "outputs": [
    {
     "data": {
      "text/plain": [
       "['hell', ' I am Asem fr', 'm Egypt']"
      ]
     },
     "execution_count": 34,
     "metadata": {},
     "output_type": "execute_result"
    }
   ],
   "source": [
    "full_sentence.split('o')"
   ]
  },
  {
   "cell_type": "code",
   "execution_count": 35,
   "id": "71f8b150",
   "metadata": {},
   "outputs": [
    {
     "data": {
      "text/plain": [
       "['husdihfidsf', 'gmail.com']"
      ]
     },
     "execution_count": 35,
     "metadata": {},
     "output_type": "execute_result"
    }
   ],
   "source": [
    "'husdihfidsf@gmail.com'.split('@')"
   ]
  },
  {
   "cell_type": "code",
   "execution_count": null,
   "id": "843ac13c",
   "metadata": {},
   "outputs": [],
   "source": []
  }
 ],
 "metadata": {
  "kernelspec": {
   "display_name": "Python 3 (ipykernel)",
   "language": "python",
   "name": "python3"
  },
  "language_info": {
   "codemirror_mode": {
    "name": "ipython",
    "version": 3
   },
   "file_extension": ".py",
   "mimetype": "text/x-python",
   "name": "python",
   "nbconvert_exporter": "python",
   "pygments_lexer": "ipython3",
   "version": "3.9.7"
  }
 },
 "nbformat": 4,
 "nbformat_minor": 5
}
