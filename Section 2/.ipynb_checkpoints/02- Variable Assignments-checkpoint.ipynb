{
 "cells": [
  {
   "cell_type": "markdown",
   "id": "462a97d6",
   "metadata": {},
   "source": [
    "<a href='https://www.youtube.com/playlist?list=PLMDrOnfT8EAgCPrFfF8OgMQOTtMUk78AJ'><img src='../course_img.png'/></a>"
   ]
  },
  {
   "cell_type": "markdown",
   "id": "491b50c9",
   "metadata": {},
   "source": [
    "## variable assignments"
   ]
  },
  {
   "cell_type": "code",
   "execution_count": 1,
   "id": "f35144ff",
   "metadata": {},
   "outputs": [
    {
     "data": {
      "text/plain": [
       "8"
      ]
     },
     "execution_count": 1,
     "metadata": {},
     "output_type": "execute_result"
    }
   ],
   "source": [
    "5 + 3"
   ]
  },
  {
   "cell_type": "markdown",
   "id": "99509d04",
   "metadata": {},
   "source": [
    "## Variable names' rules\n",
    "* names can't start with a number\n",
    "* names can't contain spaces, use _ intead\n",
    "* names can't contain any of these symbols:\n",
    "\n",
    "      :'\",<>/?|\\!@#%^&*~-+\n",
    "       \n",
    "* for best practices names are lowercase with underscores as pep8 recommed \n",
    "* avoid using Python built-in keywords like `list` and `str`"
   ]
  },
  {
   "cell_type": "code",
   "execution_count": 2,
   "id": "11fbd5b0",
   "metadata": {},
   "outputs": [],
   "source": [
    "a = 15"
   ]
  },
  {
   "cell_type": "code",
   "execution_count": 3,
   "id": "0393c5ef",
   "metadata": {},
   "outputs": [
    {
     "data": {
      "text/plain": [
       "15"
      ]
     },
     "execution_count": 3,
     "metadata": {},
     "output_type": "execute_result"
    }
   ],
   "source": [
    "a"
   ]
  },
  {
   "cell_type": "code",
   "execution_count": 4,
   "id": "cc7d0c4e",
   "metadata": {},
   "outputs": [],
   "source": [
    "b = 7"
   ]
  },
  {
   "cell_type": "code",
   "execution_count": 5,
   "id": "7c2d4095",
   "metadata": {},
   "outputs": [
    {
     "data": {
      "text/plain": [
       "7"
      ]
     },
     "execution_count": 5,
     "metadata": {},
     "output_type": "execute_result"
    }
   ],
   "source": [
    "b"
   ]
  },
  {
   "cell_type": "code",
   "execution_count": 6,
   "id": "d219c37c",
   "metadata": {},
   "outputs": [
    {
     "data": {
      "text/plain": [
       "22"
      ]
     },
     "execution_count": 6,
     "metadata": {},
     "output_type": "execute_result"
    }
   ],
   "source": [
    "a + b"
   ]
  },
  {
   "cell_type": "code",
   "execution_count": 7,
   "id": "a1228d30",
   "metadata": {},
   "outputs": [
    {
     "data": {
      "text/plain": [
       "8"
      ]
     },
     "execution_count": 7,
     "metadata": {},
     "output_type": "execute_result"
    }
   ],
   "source": [
    "a - b"
   ]
  },
  {
   "cell_type": "code",
   "execution_count": 8,
   "id": "d0169b54",
   "metadata": {},
   "outputs": [],
   "source": [
    "a = \"Asem\""
   ]
  },
  {
   "cell_type": "code",
   "execution_count": 9,
   "id": "95e132b2",
   "metadata": {},
   "outputs": [
    {
     "data": {
      "text/plain": [
       "'Asem'"
      ]
     },
     "execution_count": 9,
     "metadata": {},
     "output_type": "execute_result"
    }
   ],
   "source": [
    "a"
   ]
  },
  {
   "cell_type": "code",
   "execution_count": 10,
   "id": "62824e62",
   "metadata": {},
   "outputs": [],
   "source": [
    "a = 15"
   ]
  },
  {
   "cell_type": "code",
   "execution_count": 11,
   "id": "fc7c48c8",
   "metadata": {},
   "outputs": [],
   "source": [
    "a = 13"
   ]
  },
  {
   "cell_type": "code",
   "execution_count": 12,
   "id": "c541145c",
   "metadata": {},
   "outputs": [
    {
     "data": {
      "text/plain": [
       "13"
      ]
     },
     "execution_count": 12,
     "metadata": {},
     "output_type": "execute_result"
    }
   ],
   "source": [
    "a"
   ]
  },
  {
   "cell_type": "code",
   "execution_count": 13,
   "id": "a346cd2b",
   "metadata": {},
   "outputs": [],
   "source": [
    "my_number = 848184"
   ]
  },
  {
   "cell_type": "code",
   "execution_count": 14,
   "id": "dae55e0c",
   "metadata": {},
   "outputs": [],
   "source": [
    "my_number = 4848"
   ]
  },
  {
   "cell_type": "code",
   "execution_count": 15,
   "id": "f9777b5d",
   "metadata": {},
   "outputs": [
    {
     "data": {
      "text/plain": [
       "4848"
      ]
     },
     "execution_count": 15,
     "metadata": {},
     "output_type": "execute_result"
    }
   ],
   "source": [
    "my_number"
   ]
  },
  {
   "cell_type": "code",
   "execution_count": 16,
   "id": "62d8f295",
   "metadata": {},
   "outputs": [],
   "source": [
    "my_number = a + b"
   ]
  },
  {
   "cell_type": "code",
   "execution_count": 17,
   "id": "4f2165a8",
   "metadata": {},
   "outputs": [
    {
     "data": {
      "text/plain": [
       "20"
      ]
     },
     "execution_count": 17,
     "metadata": {},
     "output_type": "execute_result"
    }
   ],
   "source": [
    "my_number"
   ]
  },
  {
   "cell_type": "code",
   "execution_count": 18,
   "id": "ebefcccd",
   "metadata": {},
   "outputs": [],
   "source": [
    "my_number = my_number + 5 "
   ]
  },
  {
   "cell_type": "code",
   "execution_count": 19,
   "id": "f4a6511b",
   "metadata": {},
   "outputs": [
    {
     "data": {
      "text/plain": [
       "25"
      ]
     },
     "execution_count": 19,
     "metadata": {},
     "output_type": "execute_result"
    }
   ],
   "source": [
    "my_number"
   ]
  },
  {
   "cell_type": "code",
   "execution_count": 20,
   "id": "bddc16bf",
   "metadata": {},
   "outputs": [],
   "source": [
    "my_salary = 500"
   ]
  },
  {
   "cell_type": "code",
   "execution_count": 21,
   "id": "66e621ce",
   "metadata": {},
   "outputs": [],
   "source": [
    "home_per = 0.7"
   ]
  },
  {
   "cell_type": "code",
   "execution_count": 22,
   "id": "80d69949",
   "metadata": {},
   "outputs": [],
   "source": [
    "home_salary = my_salary * home_per"
   ]
  },
  {
   "cell_type": "code",
   "execution_count": 23,
   "id": "c7488df6",
   "metadata": {},
   "outputs": [
    {
     "data": {
      "text/plain": [
       "350.0"
      ]
     },
     "execution_count": 23,
     "metadata": {},
     "output_type": "execute_result"
    }
   ],
   "source": [
    "home_salary"
   ]
  },
  {
   "cell_type": "code",
   "execution_count": null,
   "id": "112dd3a5",
   "metadata": {},
   "outputs": [],
   "source": []
  }
 ],
 "metadata": {
  "kernelspec": {
   "display_name": "Python 3 (ipykernel)",
   "language": "python",
   "name": "python3"
  },
  "language_info": {
   "codemirror_mode": {
    "name": "ipython",
    "version": 3
   },
   "file_extension": ".py",
   "mimetype": "text/x-python",
   "name": "python",
   "nbconvert_exporter": "python",
   "pygments_lexer": "ipython3",
   "version": "3.9.7"
  }
 },
 "nbformat": 4,
 "nbformat_minor": 5
}
