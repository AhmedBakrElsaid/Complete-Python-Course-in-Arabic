{
 "cells": [
  {
   "cell_type": "markdown",
   "id": "5295b27a",
   "metadata": {},
   "source": [
    "<a href='https://www.youtube.com/playlist?list=PLMDrOnfT8EAgCPrFfF8OgMQOTtMUk78AJ'><img src='../course_img.png'/></a>"
   ]
  },
  {
   "cell_type": "markdown",
   "id": "b2debb00",
   "metadata": {},
   "source": [
    "# Lists in Python"
   ]
  },
  {
   "cell_type": "markdown",
   "id": "3bfdb753",
   "metadata": {},
   "source": [
    "### 1- Creating Lists in Python"
   ]
  },
  {
   "cell_type": "code",
   "execution_count": 1,
   "id": "c2586230",
   "metadata": {},
   "outputs": [],
   "source": [
    "anylist = [5 , 7 ,48, 3]"
   ]
  },
  {
   "cell_type": "code",
   "execution_count": 2,
   "id": "526ae5ed",
   "metadata": {},
   "outputs": [
    {
     "data": {
      "text/plain": [
       "[5, 7, 48, 3]"
      ]
     },
     "execution_count": 2,
     "metadata": {},
     "output_type": "execute_result"
    }
   ],
   "source": [
    "anylist"
   ]
  },
  {
   "cell_type": "code",
   "execution_count": 3,
   "id": "0aad3377",
   "metadata": {},
   "outputs": [],
   "source": [
    "newlist = [\"Asem\" , 5 , 3.2]"
   ]
  },
  {
   "cell_type": "code",
   "execution_count": 4,
   "id": "3020ba02",
   "metadata": {},
   "outputs": [
    {
     "data": {
      "text/plain": [
       "['Asem', 5, 3.2]"
      ]
     },
     "execution_count": 4,
     "metadata": {},
     "output_type": "execute_result"
    }
   ],
   "source": [
    "newlist"
   ]
  },
  {
   "cell_type": "code",
   "execution_count": 5,
   "id": "955473af",
   "metadata": {},
   "outputs": [
    {
     "data": {
      "text/plain": [
       "3"
      ]
     },
     "execution_count": 5,
     "metadata": {},
     "output_type": "execute_result"
    }
   ],
   "source": [
    "len(newlist)"
   ]
  },
  {
   "cell_type": "markdown",
   "id": "5aa173ac",
   "metadata": {},
   "source": [
    "### 2- Indexing and Slicing Lists in Python"
   ]
  },
  {
   "cell_type": "code",
   "execution_count": 6,
   "id": "de857281",
   "metadata": {},
   "outputs": [],
   "source": [
    "anylist = [5 , 7 ,48, 3]"
   ]
  },
  {
   "cell_type": "code",
   "execution_count": 7,
   "id": "857c3138",
   "metadata": {},
   "outputs": [
    {
     "data": {
      "text/plain": [
       "5"
      ]
     },
     "execution_count": 7,
     "metadata": {},
     "output_type": "execute_result"
    }
   ],
   "source": [
    "anylist[0]"
   ]
  },
  {
   "cell_type": "code",
   "execution_count": 8,
   "id": "b9ff8b9d",
   "metadata": {},
   "outputs": [
    {
     "data": {
      "text/plain": [
       "48"
      ]
     },
     "execution_count": 8,
     "metadata": {},
     "output_type": "execute_result"
    }
   ],
   "source": [
    "anylist[2]"
   ]
  },
  {
   "cell_type": "code",
   "execution_count": 9,
   "id": "33f3d2eb",
   "metadata": {},
   "outputs": [],
   "source": [
    "# anylist[50]"
   ]
  },
  {
   "cell_type": "code",
   "execution_count": 10,
   "id": "072ad854",
   "metadata": {},
   "outputs": [
    {
     "data": {
      "text/plain": [
       "48"
      ]
     },
     "execution_count": 10,
     "metadata": {},
     "output_type": "execute_result"
    }
   ],
   "source": [
    "anylist[-2]"
   ]
  },
  {
   "cell_type": "code",
   "execution_count": 11,
   "id": "ddea6962",
   "metadata": {},
   "outputs": [],
   "source": [
    "anylist = [5 , 7 ,48, 3,48,750,644,48,10,2,3]"
   ]
  },
  {
   "cell_type": "code",
   "execution_count": 12,
   "id": "47ed65e1",
   "metadata": {},
   "outputs": [
    {
     "data": {
      "text/plain": [
       "[7, 48, 3, 48, 750, 644]"
      ]
     },
     "execution_count": 12,
     "metadata": {},
     "output_type": "execute_result"
    }
   ],
   "source": [
    "anylist [1:7]"
   ]
  },
  {
   "cell_type": "code",
   "execution_count": 13,
   "id": "2a856428",
   "metadata": {},
   "outputs": [
    {
     "data": {
      "text/plain": [
       "[48, 3, 48, 750, 644, 48, 10, 2, 3]"
      ]
     },
     "execution_count": 13,
     "metadata": {},
     "output_type": "execute_result"
    }
   ],
   "source": [
    "anylist [2:]"
   ]
  },
  {
   "cell_type": "code",
   "execution_count": 14,
   "id": "4bd173f9",
   "metadata": {},
   "outputs": [
    {
     "data": {
      "text/plain": [
       "[48, 48, 644, 10, 3]"
      ]
     },
     "execution_count": 14,
     "metadata": {},
     "output_type": "execute_result"
    }
   ],
   "source": [
    "anylist [2: :2]"
   ]
  },
  {
   "cell_type": "code",
   "execution_count": 15,
   "id": "0233c0af",
   "metadata": {},
   "outputs": [
    {
     "data": {
      "text/plain": [
       "[48, 750, 10]"
      ]
     },
     "execution_count": 15,
     "metadata": {},
     "output_type": "execute_result"
    }
   ],
   "source": [
    "anylist [2: :3]"
   ]
  },
  {
   "cell_type": "code",
   "execution_count": 16,
   "id": "cd7ffd20",
   "metadata": {},
   "outputs": [
    {
     "data": {
      "text/plain": [
       "[5, 7, 48, 3, 48, 750]"
      ]
     },
     "execution_count": 16,
     "metadata": {},
     "output_type": "execute_result"
    }
   ],
   "source": [
    "anylist [:6]"
   ]
  },
  {
   "cell_type": "code",
   "execution_count": 17,
   "id": "1baea128",
   "metadata": {},
   "outputs": [],
   "source": [
    "anylist = [5 , 7 ,48, 3,48,750,644,48,10,2,3]"
   ]
  },
  {
   "cell_type": "code",
   "execution_count": 18,
   "id": "76b7eea7",
   "metadata": {},
   "outputs": [
    {
     "data": {
      "text/plain": [
       "[5, 7, 48, 3, 48, 750, 644, 48, 10, 2, 3, 'Asem', 'Saafan']"
      ]
     },
     "execution_count": 18,
     "metadata": {},
     "output_type": "execute_result"
    }
   ],
   "source": [
    "anylist + ['Asem','Saafan']"
   ]
  },
  {
   "cell_type": "code",
   "execution_count": 19,
   "id": "309853e1",
   "metadata": {},
   "outputs": [
    {
     "data": {
      "text/plain": [
       "[5, 7, 48, 3, 48, 750, 644, 48, 10, 2, 3]"
      ]
     },
     "execution_count": 19,
     "metadata": {},
     "output_type": "execute_result"
    }
   ],
   "source": [
    "anylist"
   ]
  },
  {
   "cell_type": "code",
   "execution_count": 20,
   "id": "23248011",
   "metadata": {},
   "outputs": [],
   "source": [
    "anylist = anylist + ['Asem','Saafan']"
   ]
  },
  {
   "cell_type": "code",
   "execution_count": 21,
   "id": "a44be13d",
   "metadata": {},
   "outputs": [
    {
     "data": {
      "text/plain": [
       "[5, 7, 48, 3, 48, 750, 644, 48, 10, 2, 3, 'Asem', 'Saafan']"
      ]
     },
     "execution_count": 21,
     "metadata": {},
     "output_type": "execute_result"
    }
   ],
   "source": [
    "anylist"
   ]
  },
  {
   "cell_type": "code",
   "execution_count": 22,
   "id": "a54a764a",
   "metadata": {},
   "outputs": [],
   "source": [
    "anylist = [5 , 7 ,48, 3]"
   ]
  },
  {
   "cell_type": "code",
   "execution_count": 23,
   "id": "2250aa42",
   "metadata": {},
   "outputs": [
    {
     "data": {
      "text/plain": [
       "[5, 7, 48, 3, 5, 7, 48, 3]"
      ]
     },
     "execution_count": 23,
     "metadata": {},
     "output_type": "execute_result"
    }
   ],
   "source": [
    "anylist * 2"
   ]
  },
  {
   "cell_type": "code",
   "execution_count": 24,
   "id": "82e037ac",
   "metadata": {},
   "outputs": [
    {
     "data": {
      "text/plain": [
       "[5, 7, 48, 3]"
      ]
     },
     "execution_count": 24,
     "metadata": {},
     "output_type": "execute_result"
    }
   ],
   "source": [
    "anylist"
   ]
  },
  {
   "cell_type": "markdown",
   "id": "9b41e929",
   "metadata": {},
   "source": [
    "### 3- List Methods in Python"
   ]
  },
  {
   "cell_type": "code",
   "execution_count": 25,
   "id": "3a5128f9",
   "metadata": {},
   "outputs": [],
   "source": [
    "anylist = [5 , 7 , 48 , 3]"
   ]
  },
  {
   "cell_type": "code",
   "execution_count": 26,
   "id": "3a33b323",
   "metadata": {},
   "outputs": [],
   "source": [
    "anylist.append (48887878)"
   ]
  },
  {
   "cell_type": "code",
   "execution_count": 27,
   "id": "69cd0ca2",
   "metadata": {},
   "outputs": [
    {
     "data": {
      "text/plain": [
       "[5, 7, 48, 3, 48887878]"
      ]
     },
     "execution_count": 27,
     "metadata": {},
     "output_type": "execute_result"
    }
   ],
   "source": [
    "anylist"
   ]
  },
  {
   "cell_type": "code",
   "execution_count": 28,
   "id": "e3be8da9",
   "metadata": {},
   "outputs": [],
   "source": [
    "anylist.append (\"Asem\")"
   ]
  },
  {
   "cell_type": "code",
   "execution_count": 29,
   "id": "0f66897a",
   "metadata": {},
   "outputs": [
    {
     "data": {
      "text/plain": [
       "[5, 7, 48, 3, 48887878, 'Asem']"
      ]
     },
     "execution_count": 29,
     "metadata": {},
     "output_type": "execute_result"
    }
   ],
   "source": [
    "anylist"
   ]
  },
  {
   "cell_type": "code",
   "execution_count": 30,
   "id": "c74dc6db",
   "metadata": {},
   "outputs": [
    {
     "data": {
      "text/plain": [
       "'Asem'"
      ]
     },
     "execution_count": 30,
     "metadata": {},
     "output_type": "execute_result"
    }
   ],
   "source": [
    "anylist.pop()"
   ]
  },
  {
   "cell_type": "code",
   "execution_count": 31,
   "id": "c892eec1",
   "metadata": {},
   "outputs": [
    {
     "data": {
      "text/plain": [
       "[5, 7, 48, 3, 48887878]"
      ]
     },
     "execution_count": 31,
     "metadata": {},
     "output_type": "execute_result"
    }
   ],
   "source": [
    "anylist"
   ]
  },
  {
   "cell_type": "code",
   "execution_count": 32,
   "id": "69a4754d",
   "metadata": {},
   "outputs": [
    {
     "data": {
      "text/plain": [
       "48887878"
      ]
     },
     "execution_count": 32,
     "metadata": {},
     "output_type": "execute_result"
    }
   ],
   "source": [
    "anylist.pop()"
   ]
  },
  {
   "cell_type": "code",
   "execution_count": 33,
   "id": "b74c6fa8",
   "metadata": {},
   "outputs": [
    {
     "data": {
      "text/plain": [
       "[5, 7, 48, 3]"
      ]
     },
     "execution_count": 33,
     "metadata": {},
     "output_type": "execute_result"
    }
   ],
   "source": [
    "anylist"
   ]
  },
  {
   "cell_type": "code",
   "execution_count": 34,
   "id": "c73495d4",
   "metadata": {},
   "outputs": [
    {
     "data": {
      "text/plain": [
       "5"
      ]
     },
     "execution_count": 34,
     "metadata": {},
     "output_type": "execute_result"
    }
   ],
   "source": [
    "anylist.pop(0)"
   ]
  },
  {
   "cell_type": "code",
   "execution_count": 35,
   "id": "be513fdc",
   "metadata": {},
   "outputs": [
    {
     "data": {
      "text/plain": [
       "[7, 48, 3]"
      ]
     },
     "execution_count": 35,
     "metadata": {},
     "output_type": "execute_result"
    }
   ],
   "source": [
    "anylist"
   ]
  },
  {
   "cell_type": "code",
   "execution_count": 36,
   "id": "5d641ff4",
   "metadata": {},
   "outputs": [],
   "source": [
    "anylist = [5 , 7 , 48 , 478 , 87 , 3]"
   ]
  },
  {
   "cell_type": "code",
   "execution_count": 37,
   "id": "e316816c",
   "metadata": {},
   "outputs": [],
   "source": [
    "deleted_item = anylist.pop(2)"
   ]
  },
  {
   "cell_type": "code",
   "execution_count": 38,
   "id": "eafaf1c3",
   "metadata": {},
   "outputs": [
    {
     "data": {
      "text/plain": [
       "[5, 7, 478, 87, 3]"
      ]
     },
     "execution_count": 38,
     "metadata": {},
     "output_type": "execute_result"
    }
   ],
   "source": [
    "anylist"
   ]
  },
  {
   "cell_type": "code",
   "execution_count": 39,
   "id": "fb1bbb9c",
   "metadata": {},
   "outputs": [
    {
     "data": {
      "text/plain": [
       "48"
      ]
     },
     "execution_count": 39,
     "metadata": {},
     "output_type": "execute_result"
    }
   ],
   "source": [
    "deleted_item"
   ]
  },
  {
   "cell_type": "code",
   "execution_count": 40,
   "id": "efb9b817",
   "metadata": {},
   "outputs": [],
   "source": [
    "anylist = [5 , 7 , 48 , 478 , 87 , 3]"
   ]
  },
  {
   "cell_type": "code",
   "execution_count": 41,
   "id": "0bf6b90b",
   "metadata": {},
   "outputs": [],
   "source": [
    "anylist.reverse ()"
   ]
  },
  {
   "cell_type": "code",
   "execution_count": 42,
   "id": "a59842bd",
   "metadata": {},
   "outputs": [
    {
     "data": {
      "text/plain": [
       "[3, 87, 478, 48, 7, 5]"
      ]
     },
     "execution_count": 42,
     "metadata": {},
     "output_type": "execute_result"
    }
   ],
   "source": [
    "anylist"
   ]
  },
  {
   "cell_type": "code",
   "execution_count": 43,
   "id": "d4e93713",
   "metadata": {},
   "outputs": [],
   "source": [
    "anylist.sort()"
   ]
  },
  {
   "cell_type": "code",
   "execution_count": 44,
   "id": "3b2bf2d3",
   "metadata": {},
   "outputs": [
    {
     "data": {
      "text/plain": [
       "[3, 5, 7, 48, 87, 478]"
      ]
     },
     "execution_count": 44,
     "metadata": {},
     "output_type": "execute_result"
    }
   ],
   "source": [
    "anylist"
   ]
  },
  {
   "cell_type": "code",
   "execution_count": 45,
   "id": "e955282f",
   "metadata": {},
   "outputs": [],
   "source": [
    "names_list = [\"Asem\" , \"Omar\", \"Moe\", \"Ahmed\", \"Ibrahim\"]"
   ]
  },
  {
   "cell_type": "code",
   "execution_count": 46,
   "id": "c2da3680",
   "metadata": {},
   "outputs": [],
   "source": [
    "names_list.sort()"
   ]
  },
  {
   "cell_type": "code",
   "execution_count": 47,
   "id": "0e6ad57e",
   "metadata": {},
   "outputs": [
    {
     "data": {
      "text/plain": [
       "['Ahmed', 'Asem', 'Ibrahim', 'Moe', 'Omar']"
      ]
     },
     "execution_count": 47,
     "metadata": {},
     "output_type": "execute_result"
    }
   ],
   "source": [
    "names_list"
   ]
  },
  {
   "cell_type": "markdown",
   "id": "ca20766e",
   "metadata": {},
   "source": [
    "### 4- Nesting in Python Lists"
   ]
  },
  {
   "cell_type": "code",
   "execution_count": 48,
   "id": "186338d3",
   "metadata": {},
   "outputs": [],
   "source": [
    "list1 = [1,45,57,[45,87,\"Asem\"],4878]"
   ]
  },
  {
   "cell_type": "code",
   "execution_count": 49,
   "id": "e61a4259",
   "metadata": {},
   "outputs": [
    {
     "data": {
      "text/plain": [
       "[1, 45, 57, [45, 87, 'Asem'], 4878]"
      ]
     },
     "execution_count": 49,
     "metadata": {},
     "output_type": "execute_result"
    }
   ],
   "source": [
    "list1"
   ]
  },
  {
   "cell_type": "code",
   "execution_count": 50,
   "id": "76aa52e9",
   "metadata": {},
   "outputs": [
    {
     "data": {
      "text/plain": [
       "[45, 87, 'Asem']"
      ]
     },
     "execution_count": 50,
     "metadata": {},
     "output_type": "execute_result"
    }
   ],
   "source": [
    "list1[3]"
   ]
  },
  {
   "cell_type": "code",
   "execution_count": 51,
   "id": "1cd66146",
   "metadata": {},
   "outputs": [
    {
     "data": {
      "text/plain": [
       "'Asem'"
      ]
     },
     "execution_count": 51,
     "metadata": {},
     "output_type": "execute_result"
    }
   ],
   "source": [
    "list1[3][2]"
   ]
  },
  {
   "cell_type": "code",
   "execution_count": 52,
   "id": "290b64c2",
   "metadata": {},
   "outputs": [],
   "source": [
    "list1 = [1,2,3]\n",
    "list2 = [4,5,6]\n",
    "list3 = [7,8,9]"
   ]
  },
  {
   "cell_type": "code",
   "execution_count": 53,
   "id": "bffa3f45",
   "metadata": {},
   "outputs": [],
   "source": [
    "matrixaslist = [list1 ,list2 ,list3]"
   ]
  },
  {
   "cell_type": "code",
   "execution_count": 54,
   "id": "c947e5a4",
   "metadata": {},
   "outputs": [
    {
     "data": {
      "text/plain": [
       "[[1, 2, 3], [4, 5, 6], [7, 8, 9]]"
      ]
     },
     "execution_count": 54,
     "metadata": {},
     "output_type": "execute_result"
    }
   ],
   "source": [
    "matrixaslist"
   ]
  },
  {
   "cell_type": "markdown",
   "id": "15c6877c",
   "metadata": {},
   "source": [
    "### Mutability in Python "
   ]
  },
  {
   "cell_type": "code",
   "execution_count": 55,
   "id": "8132300b",
   "metadata": {},
   "outputs": [],
   "source": [
    "list1 = [1,45,57,[45,87,\"Asem\"],4878]"
   ]
  },
  {
   "cell_type": "code",
   "execution_count": 56,
   "id": "57d6046a",
   "metadata": {},
   "outputs": [
    {
     "data": {
      "text/plain": [
       "45"
      ]
     },
     "execution_count": 56,
     "metadata": {},
     "output_type": "execute_result"
    }
   ],
   "source": [
    "list1 [1]"
   ]
  },
  {
   "cell_type": "code",
   "execution_count": 57,
   "id": "65d4153a",
   "metadata": {},
   "outputs": [],
   "source": [
    "list1 [1] = 6"
   ]
  },
  {
   "cell_type": "code",
   "execution_count": 58,
   "id": "7082e730",
   "metadata": {},
   "outputs": [
    {
     "data": {
      "text/plain": [
       "[1, 6, 57, [45, 87, 'Asem'], 4878]"
      ]
     },
     "execution_count": 58,
     "metadata": {},
     "output_type": "execute_result"
    }
   ],
   "source": [
    "list1"
   ]
  },
  {
   "cell_type": "code",
   "execution_count": 59,
   "id": "16261201",
   "metadata": {},
   "outputs": [],
   "source": [
    "list1 [3] = \"Omar\""
   ]
  },
  {
   "cell_type": "code",
   "execution_count": 60,
   "id": "13c14c22",
   "metadata": {},
   "outputs": [
    {
     "data": {
      "text/plain": [
       "[1, 6, 57, 'Omar', 4878]"
      ]
     },
     "execution_count": 60,
     "metadata": {},
     "output_type": "execute_result"
    }
   ],
   "source": [
    "list1"
   ]
  },
  {
   "cell_type": "code",
   "execution_count": null,
   "id": "6ead35d3",
   "metadata": {},
   "outputs": [],
   "source": []
  }
 ],
 "metadata": {
  "kernelspec": {
   "display_name": "Python 3 (ipykernel)",
   "language": "python",
   "name": "python3"
  },
  "language_info": {
   "codemirror_mode": {
    "name": "ipython",
    "version": 3
   },
   "file_extension": ".py",
   "mimetype": "text/x-python",
   "name": "python",
   "nbconvert_exporter": "python",
   "pygments_lexer": "ipython3",
   "version": "3.9.7"
  }
 },
 "nbformat": 4,
 "nbformat_minor": 5
}
