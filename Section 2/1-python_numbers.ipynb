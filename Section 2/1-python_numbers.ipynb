{
 "cells": [
  {
   "cell_type": "markdown",
   "id": "b83d7aef",
   "metadata": {},
   "source": [
    "<a href='https://www.youtube.com/playlist?list=PLMDrOnfT8EAgCPrFfF8OgMQOTtMUk78AJ'><img src='../course_img.png'/></a>"
   ]
  },
  {
   "cell_type": "markdown",
   "id": "2ee77631",
   "metadata": {},
   "source": [
    "## 1- Python Numbers"
   ]
  },
  {
   "cell_type": "markdown",
   "id": "d56fa4bf",
   "metadata": {},
   "source": [
    "#### Arthimatic Operations"
   ]
  },
  {
   "cell_type": "code",
   "execution_count": 5,
   "id": "e8b78e17",
   "metadata": {},
   "outputs": [
    {
     "data": {
      "text/plain": [
       "6"
      ]
     },
     "execution_count": 5,
     "metadata": {},
     "output_type": "execute_result"
    }
   ],
   "source": [
    "# addition \n",
    "1 + 5"
   ]
  },
  {
   "cell_type": "code",
   "execution_count": 2,
   "id": "3717fe2c",
   "metadata": {},
   "outputs": [
    {
     "data": {
      "text/plain": [
       "2"
      ]
     },
     "execution_count": 2,
     "metadata": {},
     "output_type": "execute_result"
    }
   ],
   "source": [
    "# substraction\n",
    "6 - 4"
   ]
  },
  {
   "cell_type": "code",
   "execution_count": 3,
   "id": "34f89174",
   "metadata": {},
   "outputs": [
    {
     "data": {
      "text/plain": [
       "6"
      ]
     },
     "execution_count": 3,
     "metadata": {},
     "output_type": "execute_result"
    }
   ],
   "source": [
    "# Multiplication \n",
    "1 * 6 "
   ]
  },
  {
   "cell_type": "code",
   "execution_count": 4,
   "id": "a9e67751",
   "metadata": {},
   "outputs": [
    {
     "data": {
      "text/plain": [
       "2.0"
      ]
     },
     "execution_count": 4,
     "metadata": {},
     "output_type": "execute_result"
    }
   ],
   "source": [
    "# division\n",
    "6 / 3"
   ]
  },
  {
   "cell_type": "code",
   "execution_count": 6,
   "id": "4f3e8902",
   "metadata": {},
   "outputs": [
    {
     "data": {
      "text/plain": [
       "8"
      ]
     },
     "execution_count": 6,
     "metadata": {},
     "output_type": "execute_result"
    }
   ],
   "source": [
    "# power\n",
    "2 ** 3"
   ]
  },
  {
   "cell_type": "code",
   "execution_count": 7,
   "id": "f44f03e5",
   "metadata": {},
   "outputs": [
    {
     "data": {
      "text/plain": [
       "4.5"
      ]
     },
     "execution_count": 7,
     "metadata": {},
     "output_type": "execute_result"
    }
   ],
   "source": [
    "9 / 2 "
   ]
  },
  {
   "cell_type": "code",
   "execution_count": 8,
   "id": "04a39384",
   "metadata": {},
   "outputs": [
    {
     "data": {
      "text/plain": [
       "4"
      ]
     },
     "execution_count": 8,
     "metadata": {},
     "output_type": "execute_result"
    }
   ],
   "source": [
    "# floor divison\n",
    "9 // 2"
   ]
  },
  {
   "cell_type": "code",
   "execution_count": 9,
   "id": "1388f6a7",
   "metadata": {},
   "outputs": [
    {
     "data": {
      "text/plain": [
       "1"
      ]
     },
     "execution_count": 9,
     "metadata": {},
     "output_type": "execute_result"
    }
   ],
   "source": [
    "# modulo %\n",
    "9 % 2"
   ]
  },
  {
   "cell_type": "code",
   "execution_count": 11,
   "id": "ce4a1e15",
   "metadata": {},
   "outputs": [
    {
     "data": {
      "text/plain": [
       "89.0"
      ]
     },
     "execution_count": 11,
     "metadata": {},
     "output_type": "execute_result"
    }
   ],
   "source": [
    "2 * ( 4 + 3 ) * 9 + 48 /6 - 45 "
   ]
  },
  {
   "cell_type": "code",
   "execution_count": 12,
   "id": "bd8b610b",
   "metadata": {},
   "outputs": [
    {
     "data": {
      "text/plain": [
       "4.0"
      ]
     },
     "execution_count": 12,
     "metadata": {},
     "output_type": "execute_result"
    }
   ],
   "source": [
    " 16 ** .5"
   ]
  },
  {
   "cell_type": "code",
   "execution_count": null,
   "id": "9ecea25d",
   "metadata": {},
   "outputs": [],
   "source": []
  }
 ],
 "metadata": {
  "kernelspec": {
   "display_name": "Python 3 (ipykernel)",
   "language": "python",
   "name": "python3"
  },
  "language_info": {
   "codemirror_mode": {
    "name": "ipython",
    "version": 3
   },
   "file_extension": ".py",
   "mimetype": "text/x-python",
   "name": "python",
   "nbconvert_exporter": "python",
   "pygments_lexer": "ipython3",
   "version": "3.9.7"
  }
 },
 "nbformat": 4,
 "nbformat_minor": 5
}
