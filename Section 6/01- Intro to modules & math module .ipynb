{
 "cells": [
  {
   "cell_type": "markdown",
   "id": "bfcfc21f",
   "metadata": {},
   "source": [
    "# Intro to modules & math module "
   ]
  },
  {
   "cell_type": "code",
   "execution_count": 1,
   "id": "da35e985",
   "metadata": {},
   "outputs": [],
   "source": [
    "import math"
   ]
  },
  {
   "cell_type": "code",
   "execution_count": 2,
   "id": "d8619b83",
   "metadata": {},
   "outputs": [],
   "source": [
    "# help (math)"
   ]
  },
  {
   "cell_type": "markdown",
   "id": "6739ed37",
   "metadata": {},
   "source": [
    "### Rounding Numbers"
   ]
  },
  {
   "cell_type": "code",
   "execution_count": 3,
   "id": "9445a622",
   "metadata": {},
   "outputs": [
    {
     "data": {
      "text/plain": [
       "5"
      ]
     },
     "execution_count": 3,
     "metadata": {},
     "output_type": "execute_result"
    }
   ],
   "source": [
    "math.floor(5.5)"
   ]
  },
  {
   "cell_type": "code",
   "execution_count": 4,
   "id": "d6ae7c74",
   "metadata": {},
   "outputs": [
    {
     "data": {
      "text/plain": [
       "5"
      ]
     },
     "execution_count": 4,
     "metadata": {},
     "output_type": "execute_result"
    }
   ],
   "source": [
    "math.floor(5.9)"
   ]
  },
  {
   "cell_type": "code",
   "execution_count": 5,
   "id": "f9f434a5",
   "metadata": {},
   "outputs": [
    {
     "data": {
      "text/plain": [
       "6"
      ]
     },
     "execution_count": 5,
     "metadata": {},
     "output_type": "execute_result"
    }
   ],
   "source": [
    "math.ceil(5.7)"
   ]
  },
  {
   "cell_type": "code",
   "execution_count": 6,
   "id": "addc75a0",
   "metadata": {},
   "outputs": [
    {
     "data": {
      "text/plain": [
       "5"
      ]
     },
     "execution_count": 6,
     "metadata": {},
     "output_type": "execute_result"
    }
   ],
   "source": [
    "round (4.8)"
   ]
  },
  {
   "cell_type": "code",
   "execution_count": 7,
   "id": "edda1a65",
   "metadata": {},
   "outputs": [
    {
     "data": {
      "text/plain": [
       "4"
      ]
     },
     "execution_count": 7,
     "metadata": {},
     "output_type": "execute_result"
    }
   ],
   "source": [
    "round (4.5)"
   ]
  },
  {
   "cell_type": "code",
   "execution_count": 8,
   "id": "ac408b3b",
   "metadata": {
    "scrolled": true
   },
   "outputs": [
    {
     "data": {
      "text/plain": [
       "6"
      ]
     },
     "execution_count": 8,
     "metadata": {},
     "output_type": "execute_result"
    }
   ],
   "source": [
    "round (5.5)"
   ]
  },
  {
   "cell_type": "markdown",
   "id": "450b5f02",
   "metadata": {},
   "source": [
    "### Math constants"
   ]
  },
  {
   "cell_type": "code",
   "execution_count": 9,
   "id": "f462b435",
   "metadata": {},
   "outputs": [
    {
     "data": {
      "text/plain": [
       "3.141592653589793"
      ]
     },
     "execution_count": 9,
     "metadata": {},
     "output_type": "execute_result"
    }
   ],
   "source": [
    "math.pi # 22/7"
   ]
  },
  {
   "cell_type": "code",
   "execution_count": 10,
   "id": "107a7ccb",
   "metadata": {},
   "outputs": [
    {
     "data": {
      "text/plain": [
       "inf"
      ]
     },
     "execution_count": 10,
     "metadata": {},
     "output_type": "execute_result"
    }
   ],
   "source": [
    "math.inf"
   ]
  },
  {
   "cell_type": "code",
   "execution_count": 11,
   "id": "d8e08924",
   "metadata": {},
   "outputs": [
    {
     "data": {
      "text/plain": [
       "2.718281828459045"
      ]
     },
     "execution_count": 11,
     "metadata": {},
     "output_type": "execute_result"
    }
   ],
   "source": [
    "math.e"
   ]
  },
  {
   "cell_type": "code",
   "execution_count": 12,
   "id": "e98db884",
   "metadata": {},
   "outputs": [
    {
     "data": {
      "text/plain": [
       "nan"
      ]
     },
     "execution_count": 12,
     "metadata": {},
     "output_type": "execute_result"
    }
   ],
   "source": [
    "math.nan"
   ]
  },
  {
   "cell_type": "code",
   "execution_count": 13,
   "id": "221b039f",
   "metadata": {},
   "outputs": [],
   "source": [
    "from math import pi"
   ]
  },
  {
   "cell_type": "code",
   "execution_count": 14,
   "id": "66c3386e",
   "metadata": {
    "scrolled": true
   },
   "outputs": [
    {
     "data": {
      "text/plain": [
       "3.141592653589793"
      ]
     },
     "execution_count": 14,
     "metadata": {},
     "output_type": "execute_result"
    }
   ],
   "source": [
    "pi"
   ]
  },
  {
   "cell_type": "markdown",
   "id": "50fd6d8c",
   "metadata": {},
   "source": [
    "### Logarithmic Values"
   ]
  },
  {
   "cell_type": "code",
   "execution_count": 15,
   "id": "251465a0",
   "metadata": {},
   "outputs": [
    {
     "data": {
      "text/plain": [
       "0.0"
      ]
     },
     "execution_count": 15,
     "metadata": {},
     "output_type": "execute_result"
    }
   ],
   "source": [
    "math.log (1)"
   ]
  },
  {
   "cell_type": "code",
   "execution_count": 16,
   "id": "eb00cffe",
   "metadata": {
    "scrolled": true
   },
   "outputs": [
    {
     "data": {
      "text/plain": [
       "1.0"
      ]
     },
     "execution_count": 16,
     "metadata": {},
     "output_type": "execute_result"
    }
   ],
   "source": [
    "math.log (math.e)"
   ]
  },
  {
   "cell_type": "markdown",
   "id": "f9b72f21",
   "metadata": {},
   "source": [
    "### Trigonometric Functions "
   ]
  },
  {
   "cell_type": "code",
   "execution_count": 17,
   "id": "fa95d1e6",
   "metadata": {},
   "outputs": [
    {
     "data": {
      "text/plain": [
       "-0.13235175009777303"
      ]
     },
     "execution_count": 17,
     "metadata": {},
     "output_type": "execute_result"
    }
   ],
   "source": [
    "math.sin(25)"
   ]
  },
  {
   "cell_type": "code",
   "execution_count": 18,
   "id": "758eeebc",
   "metadata": {},
   "outputs": [
    {
     "data": {
      "text/plain": [
       "90.0"
      ]
     },
     "execution_count": 18,
     "metadata": {},
     "output_type": "execute_result"
    }
   ],
   "source": [
    "math.degrees (pi/2)"
   ]
  },
  {
   "cell_type": "code",
   "execution_count": 19,
   "id": "6d243f5e",
   "metadata": {},
   "outputs": [
    {
     "data": {
      "text/plain": [
       "3.141592653589793"
      ]
     },
     "execution_count": 19,
     "metadata": {},
     "output_type": "execute_result"
    }
   ],
   "source": [
    "math.radians (180)"
   ]
  }
 ],
 "metadata": {
  "kernelspec": {
   "display_name": "Python 3 (ipykernel)",
   "language": "python",
   "name": "python3"
  },
  "language_info": {
   "codemirror_mode": {
    "name": "ipython",
    "version": 3
   },
   "file_extension": ".py",
   "mimetype": "text/x-python",
   "name": "python",
   "nbconvert_exporter": "python",
   "pygments_lexer": "ipython3",
   "version": "3.9.7"
  }
 },
 "nbformat": 4,
 "nbformat_minor": 5
}
