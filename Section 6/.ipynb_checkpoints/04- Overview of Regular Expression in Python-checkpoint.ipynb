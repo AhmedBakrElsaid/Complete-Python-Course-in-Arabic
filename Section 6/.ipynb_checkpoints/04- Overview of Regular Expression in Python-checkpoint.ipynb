{
 "cells": [
  {
   "cell_type": "markdown",
   "id": "556ddfbd",
   "metadata": {},
   "source": [
    "<a href='https://www.youtube.com/playlist?list=PLMDrOnfT8EAgCPrFfF8OgMQOTtMUk78AJ'><img src='../course_img.png'/></a>"
   ]
  },
  {
   "cell_type": "markdown",
   "id": "74712721",
   "metadata": {},
   "source": [
    "# Overview of Regular Expression in Python"
   ]
  },
  {
   "cell_type": "markdown",
   "id": "ea072c7a",
   "metadata": {},
   "source": [
    "#### Basic Search"
   ]
  },
  {
   "cell_type": "code",
   "execution_count": 1,
   "id": "0be2bbf6",
   "metadata": {},
   "outputs": [],
   "source": [
    "sentence1 = 'Lorem Ipsum is simply dummy text of the printing and typesetting industry.'"
   ]
  },
  {
   "cell_type": "code",
   "execution_count": 2,
   "id": "02056606",
   "metadata": {},
   "outputs": [
    {
     "data": {
      "text/plain": [
       "True"
      ]
     },
     "execution_count": 2,
     "metadata": {},
     "output_type": "execute_result"
    }
   ],
   "source": [
    "'Ipsum' in sentence1"
   ]
  },
  {
   "cell_type": "code",
   "execution_count": 3,
   "id": "308937c0",
   "metadata": {},
   "outputs": [
    {
     "data": {
      "text/plain": [
       "False"
      ]
     },
     "execution_count": 3,
     "metadata": {},
     "output_type": "execute_result"
    }
   ],
   "source": [
    "'ipsum' in sentence1"
   ]
  },
  {
   "cell_type": "markdown",
   "id": "49d9887a",
   "metadata": {},
   "source": [
    "#### Basic Search with Regular Expression"
   ]
  },
  {
   "cell_type": "code",
   "execution_count": 4,
   "id": "9c9365cd",
   "metadata": {},
   "outputs": [],
   "source": [
    "import re"
   ]
  },
  {
   "cell_type": "code",
   "execution_count": 5,
   "id": "bad05c73",
   "metadata": {},
   "outputs": [],
   "source": [
    "sentence1 = 'Lorem Ipsum is simply dummy text of the printing and typesetting industry.'"
   ]
  },
  {
   "cell_type": "code",
   "execution_count": 6,
   "id": "1f020633",
   "metadata": {},
   "outputs": [],
   "source": [
    "pattern = 'Ipsum'"
   ]
  },
  {
   "cell_type": "code",
   "execution_count": 7,
   "id": "d32c6201",
   "metadata": {},
   "outputs": [
    {
     "data": {
      "text/plain": [
       "<re.Match object; span=(6, 11), match='Ipsum'>"
      ]
     },
     "execution_count": 7,
     "metadata": {},
     "output_type": "execute_result"
    }
   ],
   "source": [
    "re.search (pattern ,sentence1)"
   ]
  },
  {
   "cell_type": "code",
   "execution_count": 8,
   "id": "86bdf46c",
   "metadata": {},
   "outputs": [],
   "source": [
    "re.search ('anytext' ,sentence1)"
   ]
  },
  {
   "cell_type": "code",
   "execution_count": 9,
   "id": "b4788cc6",
   "metadata": {},
   "outputs": [],
   "source": [
    "match = re.search (pattern ,sentence1)"
   ]
  },
  {
   "cell_type": "code",
   "execution_count": 10,
   "id": "62a9631c",
   "metadata": {},
   "outputs": [
    {
     "data": {
      "text/plain": [
       "(6, 11)"
      ]
     },
     "execution_count": 10,
     "metadata": {},
     "output_type": "execute_result"
    }
   ],
   "source": [
    "match.span ()"
   ]
  },
  {
   "cell_type": "code",
   "execution_count": 11,
   "id": "8fb60451",
   "metadata": {},
   "outputs": [
    {
     "data": {
      "text/plain": [
       "6"
      ]
     },
     "execution_count": 11,
     "metadata": {},
     "output_type": "execute_result"
    }
   ],
   "source": [
    "match.start()"
   ]
  },
  {
   "cell_type": "code",
   "execution_count": 12,
   "id": "b856b54a",
   "metadata": {},
   "outputs": [
    {
     "data": {
      "text/plain": [
       "11"
      ]
     },
     "execution_count": 12,
     "metadata": {},
     "output_type": "execute_result"
    }
   ],
   "source": [
    "match.end()"
   ]
  },
  {
   "cell_type": "code",
   "execution_count": 13,
   "id": "7ccf54f3",
   "metadata": {},
   "outputs": [],
   "source": [
    "sentence2 = 'Lorem Ipsum is simply dummy text of the printing and Ipsum typesetting industry.'"
   ]
  },
  {
   "cell_type": "code",
   "execution_count": 14,
   "id": "ecbfbdad",
   "metadata": {},
   "outputs": [],
   "source": [
    "pattern = 'Ipsum'"
   ]
  },
  {
   "cell_type": "code",
   "execution_count": 15,
   "id": "568d2ca0",
   "metadata": {},
   "outputs": [],
   "source": [
    "match = re.search (pattern ,sentence1)"
   ]
  },
  {
   "cell_type": "code",
   "execution_count": 16,
   "id": "2dc00510",
   "metadata": {},
   "outputs": [
    {
     "data": {
      "text/plain": [
       "(6, 11)"
      ]
     },
     "execution_count": 16,
     "metadata": {},
     "output_type": "execute_result"
    }
   ],
   "source": [
    "match.span()"
   ]
  },
  {
   "cell_type": "code",
   "execution_count": 17,
   "id": "928fe35a",
   "metadata": {},
   "outputs": [],
   "source": [
    "match1 = re.findall ('Ipsum', sentence2)"
   ]
  },
  {
   "cell_type": "code",
   "execution_count": 18,
   "id": "b0b6aece",
   "metadata": {},
   "outputs": [
    {
     "data": {
      "text/plain": [
       "['Ipsum', 'Ipsum']"
      ]
     },
     "execution_count": 18,
     "metadata": {},
     "output_type": "execute_result"
    }
   ],
   "source": [
    "match1"
   ]
  },
  {
   "cell_type": "code",
   "execution_count": 19,
   "id": "27a6d276",
   "metadata": {},
   "outputs": [
    {
     "data": {
      "text/plain": [
       "2"
      ]
     },
     "execution_count": 19,
     "metadata": {},
     "output_type": "execute_result"
    }
   ],
   "source": [
    "len (match1)"
   ]
  },
  {
   "cell_type": "code",
   "execution_count": 20,
   "id": "3ff1852e",
   "metadata": {},
   "outputs": [
    {
     "name": "stdout",
     "output_type": "stream",
     "text": [
      "(6, 11)\n",
      "(53, 58)\n"
     ]
    }
   ],
   "source": [
    "for match in re.finditer ('Ipsum', sentence2):\n",
    "    print (match.span())"
   ]
  },
  {
   "cell_type": "markdown",
   "id": "a1557e5c",
   "metadata": {},
   "source": [
    "#### Regular Expression Patterns"
   ]
  },
  {
   "cell_type": "markdown",
   "id": "f7e53935",
   "metadata": {},
   "source": [
    "##### Identifiers for Characters"
   ]
  },
  {
   "cell_type": "code",
   "execution_count": 21,
   "id": "27ca7c33",
   "metadata": {},
   "outputs": [],
   "source": [
    "# Identifiers:\n",
    "\n",
    "# \\d = any number\n",
    "# \\D = anything but a number\n",
    "# \\s = space\n",
    "# \\S = anything but a space\n",
    "# \\w = any letter\n",
    "# \\W = anything but a letter\n",
    "# . = any character, except for a new line\n",
    "# \\b = space around whole words\n",
    "# \\. = period. must use backslash, because . normally means any character."
   ]
  },
  {
   "cell_type": "code",
   "execution_count": 22,
   "id": "f08e6070",
   "metadata": {},
   "outputs": [],
   "source": [
    "sentence3 = 'Lorem Ipsum is simply dummy text of the 23-456-709 and Ipsum typesetting industry.'"
   ]
  },
  {
   "cell_type": "code",
   "execution_count": 23,
   "id": "4054db2a",
   "metadata": {},
   "outputs": [],
   "source": [
    "re.search ('0123-456-789' ,sentence3)"
   ]
  },
  {
   "cell_type": "code",
   "execution_count": 24,
   "id": "82632d93",
   "metadata": {},
   "outputs": [],
   "source": [
    "re.search ('0123-456-781' ,sentence3)"
   ]
  },
  {
   "cell_type": "code",
   "execution_count": 25,
   "id": "f758b6e7",
   "metadata": {},
   "outputs": [],
   "source": [
    "re.search (r'\\d\\d\\d\\d-\\d\\d\\d-\\d\\d\\d' ,sentence3)"
   ]
  },
  {
   "cell_type": "markdown",
   "id": "e3c3f4ec",
   "metadata": {},
   "source": [
    "##### Quantifiers or Modifiers for Regular Expressions"
   ]
  },
  {
   "cell_type": "code",
   "execution_count": 26,
   "id": "32f38c84",
   "metadata": {},
   "outputs": [],
   "source": [
    "# {1,3} = for digits, u expect 1-3 counts of digits, or \"places\"\n",
    "# + = match 1 or more\n",
    "# ? = match 0 or 1 repetitions.\n",
    "# * = match 0 or MORE repetitions\n",
    "# $ = matches at the end of string\n",
    "# ^ = matches start of a string\n",
    "# | = matches either/or. Example x|y = will match either x or y\n",
    "# [] = range, or \"variance\"\n",
    "# {x} = expect to see this amount of the preceding code.\n",
    "# {x,y} = expect to see this x-y amounts of the precedng code"
   ]
  },
  {
   "cell_type": "code",
   "execution_count": 27,
   "id": "2bd9519d",
   "metadata": {},
   "outputs": [
    {
     "data": {
      "text/plain": [
       "<re.Match object; span=(40, 50), match='23-456-709'>"
      ]
     },
     "execution_count": 27,
     "metadata": {},
     "output_type": "execute_result"
    }
   ],
   "source": [
    "re.search (r'\\d+-\\d{3}-\\d{3}' ,sentence3)"
   ]
  },
  {
   "cell_type": "code",
   "execution_count": 28,
   "id": "d4aff086",
   "metadata": {},
   "outputs": [
    {
     "data": {
      "text/plain": [
       "<re.Match object; span=(0, 1), match='L'>"
      ]
     },
     "execution_count": 28,
     "metadata": {},
     "output_type": "execute_result"
    }
   ],
   "source": [
    "re.search (r'^L' ,sentence3)"
   ]
  },
  {
   "cell_type": "code",
   "execution_count": 29,
   "id": "478e76c2",
   "metadata": {},
   "outputs": [],
   "source": [
    "re.search (r'^I' ,sentence3)"
   ]
  },
  {
   "cell_type": "code",
   "execution_count": 30,
   "id": "9d2c3510",
   "metadata": {},
   "outputs": [],
   "source": [
    "sentence4 = 'Lorem Ipsum is simply dummy@gmail.com text of the 23-456-709 and Ipsum typesetting industry.'"
   ]
  },
  {
   "cell_type": "code",
   "execution_count": 31,
   "id": "5a820d96",
   "metadata": {},
   "outputs": [
    {
     "data": {
      "text/plain": [
       "<re.Match object; span=(22, 37), match='dummy@gmail.com'>"
      ]
     },
     "execution_count": 31,
     "metadata": {},
     "output_type": "execute_result"
    }
   ],
   "source": [
    "re.search (r'\\w+@\\w+.\\w+' ,sentence4)"
   ]
  },
  {
   "cell_type": "markdown",
   "id": "1fe15628",
   "metadata": {},
   "source": [
    "##### Groups"
   ]
  },
  {
   "cell_type": "code",
   "execution_count": 32,
   "id": "6c90e026",
   "metadata": {},
   "outputs": [],
   "source": [
    "pattern1 = re.compile (r'(\\w+)@(\\w+.\\w+)')"
   ]
  },
  {
   "cell_type": "code",
   "execution_count": 33,
   "id": "36aa73b1",
   "metadata": {},
   "outputs": [],
   "source": [
    "search_results = re.search (pattern1 ,sentence4)"
   ]
  },
  {
   "cell_type": "code",
   "execution_count": 34,
   "id": "a1e46a41",
   "metadata": {},
   "outputs": [
    {
     "data": {
      "text/plain": [
       "'dummy@gmail.com'"
      ]
     },
     "execution_count": 34,
     "metadata": {},
     "output_type": "execute_result"
    }
   ],
   "source": [
    "search_results.group()"
   ]
  },
  {
   "cell_type": "code",
   "execution_count": 35,
   "id": "15cba57c",
   "metadata": {},
   "outputs": [
    {
     "data": {
      "text/plain": [
       "'dummy'"
      ]
     },
     "execution_count": 35,
     "metadata": {},
     "output_type": "execute_result"
    }
   ],
   "source": [
    "search_results.group(1)"
   ]
  },
  {
   "cell_type": "code",
   "execution_count": 36,
   "id": "f1b3f159",
   "metadata": {},
   "outputs": [
    {
     "data": {
      "text/plain": [
       "'gmail.com'"
      ]
     },
     "execution_count": 36,
     "metadata": {},
     "output_type": "execute_result"
    }
   ],
   "source": [
    "search_results.group(2)"
   ]
  },
  {
   "cell_type": "code",
   "execution_count": 37,
   "id": "7d2d9c12",
   "metadata": {},
   "outputs": [],
   "source": [
    "# search_results.group(3) # Error"
   ]
  },
  {
   "cell_type": "markdown",
   "id": "9218e5d8",
   "metadata": {},
   "source": [
    "##### Or Operator |"
   ]
  },
  {
   "cell_type": "code",
   "execution_count": 38,
   "id": "ea351223",
   "metadata": {},
   "outputs": [],
   "source": [
    "sentence3 = 'Lorem cpsum is simply 3 dummy text of the 23-456-709 and Ipsum typesetting industry.'"
   ]
  },
  {
   "cell_type": "code",
   "execution_count": 39,
   "id": "0f14fd84",
   "metadata": {
    "scrolled": true
   },
   "outputs": [
    {
     "data": {
      "text/plain": [
       "<re.Match object; span=(23, 29), match=' dummy'>"
      ]
     },
     "execution_count": 39,
     "metadata": {},
     "output_type": "execute_result"
    }
   ],
   "source": [
    "re.search (r'ipsum | dummy' ,sentence3)"
   ]
  },
  {
   "cell_type": "markdown",
   "id": "f88171b8",
   "metadata": {},
   "source": [
    "##### WildCard Character ."
   ]
  },
  {
   "cell_type": "code",
   "execution_count": 40,
   "id": "6315f497",
   "metadata": {},
   "outputs": [
    {
     "data": {
      "text/plain": [
       "<re.Match object; span=(6, 11), match='cpsum'>"
      ]
     },
     "execution_count": 40,
     "metadata": {},
     "output_type": "execute_result"
    }
   ],
   "source": [
    "re.search (r'.psum' ,sentence3)"
   ]
  },
  {
   "cell_type": "markdown",
   "id": "218df049",
   "metadata": {},
   "source": [
    "##### Exclusion [^ ]"
   ]
  },
  {
   "cell_type": "code",
   "execution_count": 41,
   "id": "88997bb3",
   "metadata": {},
   "outputs": [
    {
     "data": {
      "text/plain": [
       "['Lorem cpsum is simply ',\n",
       " ' dummy text of the ',\n",
       " '-',\n",
       " '-',\n",
       " ' and Ipsum typesetting industry.']"
      ]
     },
     "execution_count": 41,
     "metadata": {},
     "output_type": "execute_result"
    }
   ],
   "source": [
    "re.findall(r'[^\\d]+',sentence3)"
   ]
  },
  {
   "cell_type": "code",
   "execution_count": 42,
   "id": "ec06f0f8",
   "metadata": {},
   "outputs": [],
   "source": [
    "sentence4 = 'Lorem cpsum? is simply 3 dummy! text of. the 23-456-709 and Ipsum typesetting industry.'"
   ]
  },
  {
   "cell_type": "code",
   "execution_count": 43,
   "id": "291edfe5",
   "metadata": {},
   "outputs": [
    {
     "data": {
      "text/plain": [
       "['Lorem cpsum',\n",
       " ' is simply 3 dummy',\n",
       " ' text of',\n",
       " ' the 23-456-709 and Ipsum typesetting industry']"
      ]
     },
     "execution_count": 43,
     "metadata": {},
     "output_type": "execute_result"
    }
   ],
   "source": [
    "re.findall(r'[^!?.]+',sentence4)"
   ]
  },
  {
   "cell_type": "code",
   "execution_count": 44,
   "id": "0d09b70a",
   "metadata": {},
   "outputs": [],
   "source": [
    "clean_text = ' '.join( re.findall(r'[^!?.]+',sentence4) )"
   ]
  },
  {
   "cell_type": "code",
   "execution_count": 45,
   "id": "a53fc18a",
   "metadata": {},
   "outputs": [
    {
     "data": {
      "text/plain": [
       "'Lorem cpsum  is simply 3 dummy  text of  the 23-456-709 and Ipsum typesetting industry'"
      ]
     },
     "execution_count": 45,
     "metadata": {},
     "output_type": "execute_result"
    }
   ],
   "source": [
    "clean_text"
   ]
  },
  {
   "cell_type": "code",
   "execution_count": null,
   "id": "21bd34bc",
   "metadata": {},
   "outputs": [],
   "source": []
  }
 ],
 "metadata": {
  "kernelspec": {
   "display_name": "Python 3 (ipykernel)",
   "language": "python",
   "name": "python3"
  },
  "language_info": {
   "codemirror_mode": {
    "name": "ipython",
    "version": 3
   },
   "file_extension": ".py",
   "mimetype": "text/x-python",
   "name": "python",
   "nbconvert_exporter": "python",
   "pygments_lexer": "ipython3",
   "version": "3.9.7"
  }
 },
 "nbformat": 4,
 "nbformat_minor": 5
}
