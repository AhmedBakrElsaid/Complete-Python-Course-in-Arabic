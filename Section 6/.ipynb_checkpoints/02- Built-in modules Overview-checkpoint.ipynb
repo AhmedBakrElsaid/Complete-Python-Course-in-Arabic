{
 "cells": [
  {
   "cell_type": "markdown",
   "id": "b3866ca1",
   "metadata": {},
   "source": [
    "# Built-in modules Overview"
   ]
  },
  {
   "cell_type": "markdown",
   "id": "7e440428",
   "metadata": {},
   "source": [
    "#### Random Module"
   ]
  },
  {
   "cell_type": "code",
   "execution_count": 1,
   "id": "e5187197",
   "metadata": {},
   "outputs": [],
   "source": [
    "import random"
   ]
  },
  {
   "cell_type": "code",
   "execution_count": 2,
   "id": "9eba796e",
   "metadata": {},
   "outputs": [
    {
     "data": {
      "text/plain": [
       "40"
      ]
     },
     "execution_count": 2,
     "metadata": {},
     "output_type": "execute_result"
    }
   ],
   "source": [
    "random.seed (42)\n",
    "random.randint(0,50)"
   ]
  },
  {
   "cell_type": "code",
   "execution_count": 3,
   "id": "1c2fc58e",
   "metadata": {},
   "outputs": [
    {
     "data": {
      "text/plain": [
       "7"
      ]
     },
     "execution_count": 3,
     "metadata": {},
     "output_type": "execute_result"
    }
   ],
   "source": [
    "random.randint(0,50)"
   ]
  },
  {
   "cell_type": "code",
   "execution_count": 4,
   "id": "ad76ac97",
   "metadata": {},
   "outputs": [
    {
     "name": "stdout",
     "output_type": "stream",
     "text": [
      "40\n",
      "7\n",
      "1\n",
      "47\n"
     ]
    }
   ],
   "source": [
    "random.seed (42)\n",
    "print (random.randint(0,50))\n",
    "print (random.randint(0,50))\n",
    "print (random.randint(0,50))\n",
    "print (random.randint(0,50))"
   ]
  },
  {
   "cell_type": "code",
   "execution_count": 5,
   "id": "c9d66fbe",
   "metadata": {},
   "outputs": [
    {
     "data": {
      "text/plain": [
       "[0, 1, 2, 3, 4, 5, 6, 7, 8, 9, 10, 11, 12, 13, 14]"
      ]
     },
     "execution_count": 5,
     "metadata": {},
     "output_type": "execute_result"
    }
   ],
   "source": [
    "list1 = list(range(0,15))\n",
    "list1"
   ]
  },
  {
   "cell_type": "code",
   "execution_count": 6,
   "id": "cba2e46d",
   "metadata": {},
   "outputs": [
    {
     "data": {
      "text/plain": [
       "4"
      ]
     },
     "execution_count": 6,
     "metadata": {},
     "output_type": "execute_result"
    }
   ],
   "source": [
    "random.choice (list1)"
   ]
  },
  {
   "cell_type": "code",
   "execution_count": 7,
   "id": "550cc405",
   "metadata": {},
   "outputs": [
    {
     "data": {
      "text/plain": [
       "[3, 2, 1, 11]"
      ]
     },
     "execution_count": 7,
     "metadata": {},
     "output_type": "execute_result"
    }
   ],
   "source": [
    "random.choices (population = list1, k=4)"
   ]
  },
  {
   "cell_type": "code",
   "execution_count": 8,
   "id": "7377b972",
   "metadata": {},
   "outputs": [
    {
     "data": {
      "text/plain": [
       "[8, 1, 9, 6]"
      ]
     },
     "execution_count": 8,
     "metadata": {},
     "output_type": "execute_result"
    }
   ],
   "source": [
    "random.sample (population = list1, k=4)"
   ]
  },
  {
   "cell_type": "code",
   "execution_count": 9,
   "id": "97e87155",
   "metadata": {},
   "outputs": [],
   "source": [
    "random.shuffle (list1)"
   ]
  },
  {
   "cell_type": "code",
   "execution_count": 10,
   "id": "ee4eb708",
   "metadata": {},
   "outputs": [
    {
     "data": {
      "text/plain": [
       "[2, 12, 9, 7, 4, 6, 5, 10, 13, 8, 11, 3, 1, 14, 0]"
      ]
     },
     "execution_count": 10,
     "metadata": {},
     "output_type": "execute_result"
    }
   ],
   "source": [
    "list1"
   ]
  },
  {
   "cell_type": "markdown",
   "id": "b4a0605a",
   "metadata": {},
   "source": [
    "### Datetime Module"
   ]
  },
  {
   "cell_type": "code",
   "execution_count": 11,
   "id": "bc6b91cb",
   "metadata": {},
   "outputs": [],
   "source": [
    "import datetime"
   ]
  },
  {
   "cell_type": "code",
   "execution_count": 12,
   "id": "aa028499",
   "metadata": {},
   "outputs": [],
   "source": [
    "time1 = datetime.time(2,10)"
   ]
  },
  {
   "cell_type": "code",
   "execution_count": 13,
   "id": "2a5e1428",
   "metadata": {},
   "outputs": [
    {
     "data": {
      "text/plain": [
       "2"
      ]
     },
     "execution_count": 13,
     "metadata": {},
     "output_type": "execute_result"
    }
   ],
   "source": [
    "time1.hour"
   ]
  },
  {
   "cell_type": "code",
   "execution_count": 14,
   "id": "9a91dd09",
   "metadata": {},
   "outputs": [
    {
     "data": {
      "text/plain": [
       "0"
      ]
     },
     "execution_count": 14,
     "metadata": {},
     "output_type": "execute_result"
    }
   ],
   "source": [
    "time1.microsecond"
   ]
  },
  {
   "cell_type": "code",
   "execution_count": 15,
   "id": "59b4f8b4",
   "metadata": {},
   "outputs": [],
   "source": [
    "# date1 = datetime.date.today()"
   ]
  },
  {
   "cell_type": "code",
   "execution_count": 16,
   "id": "9c468d8a",
   "metadata": {},
   "outputs": [],
   "source": [
    "date2 = datetime.date (2025,10,5)"
   ]
  },
  {
   "cell_type": "code",
   "execution_count": 17,
   "id": "bf2b5680",
   "metadata": {},
   "outputs": [
    {
     "data": {
      "text/plain": [
       "10"
      ]
     },
     "execution_count": 17,
     "metadata": {},
     "output_type": "execute_result"
    }
   ],
   "source": [
    "date2.month"
   ]
  },
  {
   "cell_type": "code",
   "execution_count": 18,
   "id": "2d15659f",
   "metadata": {},
   "outputs": [],
   "source": [
    "date3 = datetime.date (2027,10,5)"
   ]
  },
  {
   "cell_type": "code",
   "execution_count": 19,
   "id": "d8f64aa1",
   "metadata": {},
   "outputs": [
    {
     "data": {
      "text/plain": [
       "datetime.timedelta(days=730)"
      ]
     },
     "execution_count": 19,
     "metadata": {},
     "output_type": "execute_result"
    }
   ],
   "source": [
    "date3 - date2"
   ]
  },
  {
   "cell_type": "markdown",
   "id": "e958cd40",
   "metadata": {},
   "source": [
    "### Timing your code"
   ]
  },
  {
   "cell_type": "code",
   "execution_count": 20,
   "id": "1b5f2bea",
   "metadata": {},
   "outputs": [],
   "source": [
    "# def fact(n):\n",
    "#     product = 1\n",
    "#     for i in range(n):\n",
    "#         product = product * (i+1)\n",
    "#     return product\n",
    "\n",
    "# print(fact(5))"
   ]
  },
  {
   "cell_type": "code",
   "execution_count": 21,
   "id": "ff29ee96",
   "metadata": {},
   "outputs": [],
   "source": [
    "import time "
   ]
  },
  {
   "cell_type": "code",
   "execution_count": 22,
   "id": "4585d053",
   "metadata": {},
   "outputs": [],
   "source": [
    "def fact(n):\n",
    "    product = 1\n",
    "    for i in range(n):\n",
    "        product = product * (i+1)\n",
    "    return product"
   ]
  },
  {
   "cell_type": "code",
   "execution_count": 23,
   "id": "46da99fc",
   "metadata": {},
   "outputs": [
    {
     "name": "stdout",
     "output_type": "stream",
     "text": [
      "2.584223747253418\n"
     ]
    }
   ],
   "source": [
    "t1 = time.time()\n",
    "fact (100000)\n",
    "t2 = time.time()\n",
    "print (t2 - t1)"
   ]
  },
  {
   "cell_type": "code",
   "execution_count": 24,
   "id": "88c1c6da",
   "metadata": {},
   "outputs": [
    {
     "name": "stdout",
     "output_type": "stream",
     "text": [
      "2.54 s ± 9.03 ms per loop (mean ± std. dev. of 7 runs, 1 loop each)\n"
     ]
    }
   ],
   "source": [
    "%%timeit\n",
    "fact (100000)"
   ]
  }
 ],
 "metadata": {
  "kernelspec": {
   "display_name": "Python 3 (ipykernel)",
   "language": "python",
   "name": "python3"
  },
  "language_info": {
   "codemirror_mode": {
    "name": "ipython",
    "version": 3
   },
   "file_extension": ".py",
   "mimetype": "text/x-python",
   "name": "python",
   "nbconvert_exporter": "python",
   "pygments_lexer": "ipython3",
   "version": "3.9.7"
  }
 },
 "nbformat": 4,
 "nbformat_minor": 5
}
