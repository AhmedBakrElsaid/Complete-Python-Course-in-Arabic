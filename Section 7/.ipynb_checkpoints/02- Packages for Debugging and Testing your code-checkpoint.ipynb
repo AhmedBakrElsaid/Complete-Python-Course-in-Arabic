{
 "cells": [
  {
   "cell_type": "markdown",
   "id": "cfaeba5f",
   "metadata": {},
   "source": [
    "<a href='https://www.youtube.com/playlist?list=PLMDrOnfT8EAgCPrFfF8OgMQOTtMUk78AJ'><img src='../course_img.png'/></a>"
   ]
  },
  {
   "cell_type": "markdown",
   "id": "478e8bb1",
   "metadata": {},
   "source": [
    "# Packages for Debugging and Testing your code"
   ]
  },
  {
   "cell_type": "markdown",
   "id": "b5ac290a",
   "metadata": {},
   "source": [
    "### pdb \n",
    "https://docs.python.org/3/library/pdb.html"
   ]
  },
  {
   "cell_type": "code",
   "execution_count": 1,
   "id": "5df7de97",
   "metadata": {},
   "outputs": [],
   "source": [
    "x = 10\n",
    "y = 56\n",
    "z = '5'"
   ]
  },
  {
   "cell_type": "code",
   "execution_count": 4,
   "id": "e4f950b7",
   "metadata": {},
   "outputs": [],
   "source": [
    "import pdb"
   ]
  },
  {
   "cell_type": "code",
   "execution_count": 6,
   "id": "f712fbe0",
   "metadata": {
    "scrolled": true
   },
   "outputs": [],
   "source": [
    "# w = x + y\n",
    "# pdb.set_trace ()\n",
    "# a = y + z"
   ]
  },
  {
   "cell_type": "markdown",
   "id": "0f1de2d9",
   "metadata": {},
   "source": [
    "### Pylint\n",
    "https://pylint.pycqa.org/en/latest/"
   ]
  },
  {
   "cell_type": "markdown",
   "id": "00970d47",
   "metadata": {},
   "source": [
    "### unittest \n",
    "https://docs.python.org/3/library/unittest.html"
   ]
  },
  {
   "cell_type": "code",
   "execution_count": null,
   "id": "662ee55b",
   "metadata": {},
   "outputs": [],
   "source": []
  }
 ],
 "metadata": {
  "kernelspec": {
   "display_name": "Python 3 (ipykernel)",
   "language": "python",
   "name": "python3"
  },
  "language_info": {
   "codemirror_mode": {
    "name": "ipython",
    "version": 3
   },
   "file_extension": ".py",
   "mimetype": "text/x-python",
   "name": "python",
   "nbconvert_exporter": "python",
   "pygments_lexer": "ipython3",
   "version": "3.9.7"
  }
 },
 "nbformat": 4,
 "nbformat_minor": 5
}
