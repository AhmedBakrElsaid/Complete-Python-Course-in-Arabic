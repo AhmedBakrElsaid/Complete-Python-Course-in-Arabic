{
 "cells": [
  {
   "cell_type": "markdown",
   "id": "04a2997b",
   "metadata": {},
   "source": [
    "<a href='https://www.youtube.com/playlist?list=PLMDrOnfT8EAgCPrFfF8OgMQOTtMUk78AJ'><img src='../course_img.png'/></a>"
   ]
  },
  {
   "cell_type": "markdown",
   "id": "b75c9ba5",
   "metadata": {},
   "source": [
    "# Tuple Unpacking with Python Functions"
   ]
  },
  {
   "cell_type": "markdown",
   "id": "4daf246a",
   "metadata": {},
   "source": [
    "#### Tuple unpacking with for loops"
   ]
  },
  {
   "cell_type": "code",
   "execution_count": 1,
   "id": "99335fc9",
   "metadata": {},
   "outputs": [],
   "source": [
    "student_degrees = [('Asem' , 80),('Omar' , 95),('Moe' , 98),('Ahmed' , 75),('Ayman' , 83)]"
   ]
  },
  {
   "cell_type": "code",
   "execution_count": 2,
   "id": "baaef448",
   "metadata": {},
   "outputs": [
    {
     "name": "stdout",
     "output_type": "stream",
     "text": [
      "('Asem', 80)\n",
      "('Omar', 95)\n",
      "('Moe', 98)\n",
      "('Ahmed', 75)\n",
      "('Ayman', 83)\n"
     ]
    }
   ],
   "source": [
    "for student_tuple in student_degrees:\n",
    "    print (student_tuple)"
   ]
  },
  {
   "cell_type": "code",
   "execution_count": 3,
   "id": "006cbbb5",
   "metadata": {},
   "outputs": [
    {
     "name": "stdout",
     "output_type": "stream",
     "text": [
      "Asem\n",
      "80\n",
      "-----\n",
      "Omar\n",
      "95\n",
      "-----\n",
      "Moe\n",
      "98\n",
      "-----\n",
      "Ahmed\n",
      "75\n",
      "-----\n",
      "Ayman\n",
      "83\n",
      "-----\n"
     ]
    }
   ],
   "source": [
    "for (name, degree) in student_degrees:\n",
    "    print (name)\n",
    "    print (degree)\n",
    "    print ('-----')"
   ]
  },
  {
   "cell_type": "markdown",
   "id": "0f48bb33",
   "metadata": {},
   "source": [
    "#### Tuple unpacking with functions"
   ]
  },
  {
   "cell_type": "code",
   "execution_count": 4,
   "id": "5ac7725e",
   "metadata": {},
   "outputs": [],
   "source": [
    "student_degrees = [('Asem' , 80),('Omar' , 95),('Moe' , 98),('Ahmed' , 75),('Ayman' , 83)]"
   ]
  },
  {
   "cell_type": "code",
   "execution_count": 5,
   "id": "a36a8d10",
   "metadata": {},
   "outputs": [],
   "source": [
    "def best_student_function (student_list):\n",
    "    best_student = ''\n",
    "    max_degree = 0\n",
    "    \n",
    "    for name , degree in student_list :\n",
    "        if degree > max_degree:\n",
    "            max_degree = degree\n",
    "            best_student = name\n",
    "        else:\n",
    "            pass\n",
    "    \n",
    "    return (best_student, max_degree)"
   ]
  },
  {
   "cell_type": "code",
   "execution_count": 6,
   "id": "8114d46f",
   "metadata": {},
   "outputs": [
    {
     "data": {
      "text/plain": [
       "('Moe', 98)"
      ]
     },
     "execution_count": 6,
     "metadata": {},
     "output_type": "execute_result"
    }
   ],
   "source": [
    "best_student_function(student_degrees)"
   ]
  },
  {
   "cell_type": "code",
   "execution_count": 7,
   "id": "8f257229",
   "metadata": {},
   "outputs": [],
   "source": [
    "the_best_student = best_student_function (student_degrees)"
   ]
  },
  {
   "cell_type": "code",
   "execution_count": 8,
   "id": "7ea92186",
   "metadata": {},
   "outputs": [
    {
     "data": {
      "text/plain": [
       "('Moe', 98)"
      ]
     },
     "execution_count": 8,
     "metadata": {},
     "output_type": "execute_result"
    }
   ],
   "source": [
    "the_best_student"
   ]
  },
  {
   "cell_type": "code",
   "execution_count": 9,
   "id": "00a87950",
   "metadata": {},
   "outputs": [],
   "source": [
    "name , degree = best_student_function (student_degrees)"
   ]
  },
  {
   "cell_type": "code",
   "execution_count": 10,
   "id": "07d2b761",
   "metadata": {},
   "outputs": [
    {
     "data": {
      "text/plain": [
       "'Moe'"
      ]
     },
     "execution_count": 10,
     "metadata": {},
     "output_type": "execute_result"
    }
   ],
   "source": [
    "name"
   ]
  },
  {
   "cell_type": "code",
   "execution_count": 11,
   "id": "4817ecdd",
   "metadata": {},
   "outputs": [
    {
     "data": {
      "text/plain": [
       "98"
      ]
     },
     "execution_count": 11,
     "metadata": {},
     "output_type": "execute_result"
    }
   ],
   "source": [
    "degree"
   ]
  },
  {
   "cell_type": "code",
   "execution_count": null,
   "id": "9b4c58ff",
   "metadata": {},
   "outputs": [],
   "source": []
  }
 ],
 "metadata": {
  "kernelspec": {
   "display_name": "Python 3 (ipykernel)",
   "language": "python",
   "name": "python3"
  },
  "language_info": {
   "codemirror_mode": {
    "name": "ipython",
    "version": 3
   },
   "file_extension": ".py",
   "mimetype": "text/x-python",
   "name": "python",
   "nbconvert_exporter": "python",
   "pygments_lexer": "ipython3",
   "version": "3.9.7"
  }
 },
 "nbformat": 4,
 "nbformat_minor": 5
}
