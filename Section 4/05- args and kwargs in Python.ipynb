{
 "cells": [
  {
   "cell_type": "markdown",
   "id": "e8d05b37",
   "metadata": {},
   "source": [
    "<a href='https://www.youtube.com/playlist?list=PLMDrOnfT8EAgCPrFfF8OgMQOTtMUk78AJ'><img src='../course_img.png'/></a>"
   ]
  },
  {
   "cell_type": "markdown",
   "id": "16b21a2d",
   "metadata": {},
   "source": [
    "# args and kwargs in Python"
   ]
  },
  {
   "cell_type": "markdown",
   "id": "887fcb0a",
   "metadata": {},
   "source": [
    "### args"
   ]
  },
  {
   "cell_type": "code",
   "execution_count": 5,
   "id": "bdf43bda",
   "metadata": {},
   "outputs": [],
   "source": [
    "# a function take my revenue / income streams are inputs \n",
    "# and return the tax for them  \n",
    "def income_tax (a,b,c=0):\n",
    "    # tax rate 14%\n",
    "    return round (sum ((a,b,c)) * 0.14)\n",
    "    "
   ]
  },
  {
   "cell_type": "code",
   "execution_count": 4,
   "id": "a8205bb1",
   "metadata": {},
   "outputs": [
    {
     "data": {
      "text/plain": [
       "210"
      ]
     },
     "execution_count": 4,
     "metadata": {},
     "output_type": "execute_result"
    }
   ],
   "source": [
    "income_tax (500,1000) #1500 * 0.14 = 210"
   ]
  },
  {
   "cell_type": "code",
   "execution_count": 6,
   "id": "e221a120",
   "metadata": {},
   "outputs": [
    {
     "data": {
      "text/plain": [
       "280"
      ]
     },
     "execution_count": 6,
     "metadata": {},
     "output_type": "execute_result"
    }
   ],
   "source": [
    "income_tax (500,1000,500) #2000 * 0.14 = 210"
   ]
  },
  {
   "cell_type": "code",
   "execution_count": 16,
   "id": "e6a0a974",
   "metadata": {},
   "outputs": [],
   "source": [
    "def income_tax1 (*args):\n",
    "    # tax rate 14%\n",
    "    return round (sum (args) * 0.14)"
   ]
  },
  {
   "cell_type": "code",
   "execution_count": 13,
   "id": "7119babb",
   "metadata": {},
   "outputs": [
    {
     "data": {
      "text/plain": [
       "350"
      ]
     },
     "execution_count": 13,
     "metadata": {},
     "output_type": "execute_result"
    }
   ],
   "source": [
    "income_tax1 (2500)"
   ]
  },
  {
   "cell_type": "code",
   "execution_count": 14,
   "id": "3b2f90ae",
   "metadata": {},
   "outputs": [
    {
     "data": {
      "text/plain": [
       "371"
      ]
     },
     "execution_count": 14,
     "metadata": {},
     "output_type": "execute_result"
    }
   ],
   "source": [
    "income_tax1 (2500,150)"
   ]
  },
  {
   "cell_type": "code",
   "execution_count": 15,
   "id": "ddb03df7",
   "metadata": {},
   "outputs": [
    {
     "data": {
      "text/plain": [
       "1665"
      ]
     },
     "execution_count": 15,
     "metadata": {},
     "output_type": "execute_result"
    }
   ],
   "source": [
    "income_tax1 (2500,150,54,8584,548,54)"
   ]
  },
  {
   "cell_type": "markdown",
   "id": "a995490b",
   "metadata": {},
   "source": [
    "### kwargs"
   ]
  },
  {
   "cell_type": "code",
   "execution_count": 22,
   "id": "bbd06875",
   "metadata": {},
   "outputs": [],
   "source": [
    "def any_func (**kwargs):\n",
    "    print (kwargs)\n",
    "    print (kwargs['name'])"
   ]
  },
  {
   "cell_type": "code",
   "execution_count": 23,
   "id": "8b942f2b",
   "metadata": {},
   "outputs": [
    {
     "name": "stdout",
     "output_type": "stream",
     "text": [
      "{'name': 'Asem', 'age': 25, 'location': 'Egypt'}\n",
      "Asem\n"
     ]
    }
   ],
   "source": [
    "any_func (name = 'Asem', age = 25, location = 'Egypt' )"
   ]
  },
  {
   "cell_type": "code",
   "execution_count": 25,
   "id": "81236e28",
   "metadata": {},
   "outputs": [],
   "source": [
    "# any_func (age = 25, location = 'Egypt' ) # Error no name keyword"
   ]
  },
  {
   "cell_type": "markdown",
   "id": "22c2e9eb",
   "metadata": {},
   "source": [
    "### Both args and kwargs together"
   ]
  },
  {
   "cell_type": "code",
   "execution_count": 26,
   "id": "fc99ee92",
   "metadata": {},
   "outputs": [],
   "source": [
    "def myfunc (*args , **kwargs):\n",
    "    print (args)\n",
    "    print (kwargs)"
   ]
  },
  {
   "cell_type": "code",
   "execution_count": 27,
   "id": "287035d0",
   "metadata": {},
   "outputs": [
    {
     "name": "stdout",
     "output_type": "stream",
     "text": [
      "(2, 5, 8)\n",
      "{}\n"
     ]
    }
   ],
   "source": [
    "myfunc (2,5,8)"
   ]
  },
  {
   "cell_type": "code",
   "execution_count": 28,
   "id": "39060309",
   "metadata": {},
   "outputs": [
    {
     "name": "stdout",
     "output_type": "stream",
     "text": [
      "()\n",
      "{'name': 'Asem'}\n"
     ]
    }
   ],
   "source": [
    "myfunc (name = 'Asem')"
   ]
  },
  {
   "cell_type": "code",
   "execution_count": 29,
   "id": "3c764c31",
   "metadata": {},
   "outputs": [
    {
     "name": "stdout",
     "output_type": "stream",
     "text": [
      "(2, 5, 8)\n",
      "{'name': 'Asem'}\n"
     ]
    }
   ],
   "source": [
    "myfunc (2,5,8, name = 'Asem') "
   ]
  },
  {
   "cell_type": "code",
   "execution_count": 31,
   "id": "382b44a1",
   "metadata": {},
   "outputs": [],
   "source": [
    "# myfunc ( name = 'Asem',2,5,8)  #Error => positional argument follows keyword argument"
   ]
  },
  {
   "cell_type": "code",
   "execution_count": 33,
   "id": "4e1bf0e3",
   "metadata": {},
   "outputs": [],
   "source": [
    "# myfunc (2,5,8, name = 'Asem',4) "
   ]
  },
  {
   "cell_type": "code",
   "execution_count": null,
   "id": "58bcc611",
   "metadata": {},
   "outputs": [],
   "source": []
  }
 ],
 "metadata": {
  "kernelspec": {
   "display_name": "Python 3 (ipykernel)",
   "language": "python",
   "name": "python3"
  },
  "language_info": {
   "codemirror_mode": {
    "name": "ipython",
    "version": 3
   },
   "file_extension": ".py",
   "mimetype": "text/x-python",
   "name": "python",
   "nbconvert_exporter": "python",
   "pygments_lexer": "ipython3",
   "version": "3.9.7"
  }
 },
 "nbformat": 4,
 "nbformat_minor": 5
}
