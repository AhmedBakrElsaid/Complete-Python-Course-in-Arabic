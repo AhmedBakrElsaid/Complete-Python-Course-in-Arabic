{
 "cells": [
  {
   "cell_type": "markdown",
   "id": "e5bb3a33",
   "metadata": {},
   "source": [
    "<a href='https://www.youtube.com/playlist?list=PLMDrOnfT8EAgCPrFfF8OgMQOTtMUk78AJ'><img src='../course_img.png'/></a>"
   ]
  },
  {
   "cell_type": "markdown",
   "id": "24875ce9",
   "metadata": {},
   "source": [
    "# Interactions between Python Functions"
   ]
  },
  {
   "cell_type": "code",
   "execution_count": 1,
   "id": "08e8353c",
   "metadata": {},
   "outputs": [],
   "source": [
    "# [1,2,7,8,3,5,4,8,9]"
   ]
  },
  {
   "cell_type": "code",
   "execution_count": 2,
   "id": "bde20192",
   "metadata": {},
   "outputs": [],
   "source": [
    "def square(x):\n",
    "    print ('square function called')\n",
    "    result = x * x\n",
    "    print ('square function finsihed')\n",
    "    print ('--------')\n",
    "    return result "
   ]
  },
  {
   "cell_type": "code",
   "execution_count": 3,
   "id": "40bd614a",
   "metadata": {},
   "outputs": [
    {
     "name": "stdout",
     "output_type": "stream",
     "text": [
      "square function called\n",
      "square function finsihed\n",
      "--------\n"
     ]
    },
    {
     "data": {
      "text/plain": [
       "4"
      ]
     },
     "execution_count": 3,
     "metadata": {},
     "output_type": "execute_result"
    }
   ],
   "source": [
    "square(2)"
   ]
  },
  {
   "cell_type": "code",
   "execution_count": 4,
   "id": "338dab90",
   "metadata": {},
   "outputs": [
    {
     "name": "stdout",
     "output_type": "stream",
     "text": [
      "square function called\n",
      "square function finsihed\n",
      "--------\n"
     ]
    },
    {
     "data": {
      "text/plain": [
       "25"
      ]
     },
     "execution_count": 4,
     "metadata": {},
     "output_type": "execute_result"
    }
   ],
   "source": [
    "square(5)"
   ]
  },
  {
   "cell_type": "code",
   "execution_count": 5,
   "id": "e0745bc6",
   "metadata": {},
   "outputs": [],
   "source": [
    "def sum_of_squares (list_of_numbers) :\n",
    "    print ('Sum of Squared function Called')\n",
    "    total_sum = 0\n",
    "    for num in list_of_numbers:\n",
    "        squared_value =  square (num)\n",
    "        total_sum += squared_value\n",
    "    print ('Sum of Squared function Finished')\n",
    "    return total_sum"
   ]
  },
  {
   "cell_type": "code",
   "execution_count": 6,
   "id": "d0e07c5e",
   "metadata": {},
   "outputs": [
    {
     "name": "stdout",
     "output_type": "stream",
     "text": [
      "Sum of Squared function Called\n",
      "square function called\n",
      "square function finsihed\n",
      "--------\n",
      "square function called\n",
      "square function finsihed\n",
      "--------\n",
      "square function called\n",
      "square function finsihed\n",
      "--------\n",
      "square function called\n",
      "square function finsihed\n",
      "--------\n",
      "square function called\n",
      "square function finsihed\n",
      "--------\n",
      "square function called\n",
      "square function finsihed\n",
      "--------\n",
      "square function called\n",
      "square function finsihed\n",
      "--------\n",
      "square function called\n",
      "square function finsihed\n",
      "--------\n",
      "square function called\n",
      "square function finsihed\n",
      "--------\n",
      "Sum of Squared function Finished\n"
     ]
    },
    {
     "data": {
      "text/plain": [
       "313"
      ]
     },
     "execution_count": 6,
     "metadata": {},
     "output_type": "execute_result"
    }
   ],
   "source": [
    "sum_of_squares ([1,2,7,8,3,5,4,8,9])"
   ]
  },
  {
   "cell_type": "code",
   "execution_count": null,
   "id": "043ef961",
   "metadata": {},
   "outputs": [],
   "source": []
  }
 ],
 "metadata": {
  "kernelspec": {
   "display_name": "Python 3 (ipykernel)",
   "language": "python",
   "name": "python3"
  },
  "language_info": {
   "codemirror_mode": {
    "name": "ipython",
    "version": 3
   },
   "file_extension": ".py",
   "mimetype": "text/x-python",
   "name": "python",
   "nbconvert_exporter": "python",
   "pygments_lexer": "ipython3",
   "version": "3.9.7"
  }
 },
 "nbformat": 4,
 "nbformat_minor": 5
}
