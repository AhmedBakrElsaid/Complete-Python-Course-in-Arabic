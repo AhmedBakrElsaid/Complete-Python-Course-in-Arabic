{
 "cells": [
  {
   "cell_type": "markdown",
   "id": "106d08fe",
   "metadata": {},
   "source": [
    "<a href='https://www.youtube.com/playlist?list=PLMDrOnfT8EAgCPrFfF8OgMQOTtMUk78AJ'><img src='../course_img.png'/></a>"
   ]
  },
  {
   "cell_type": "markdown",
   "id": "fcd53651",
   "metadata": {},
   "source": [
    "# Exercises on Functions "
   ]
  },
  {
   "cell_type": "markdown",
   "id": "9beb5b31",
   "metadata": {},
   "source": [
    "#### Exercise 1"
   ]
  },
  {
   "cell_type": "code",
   "execution_count": 1,
   "id": "87463468",
   "metadata": {},
   "outputs": [],
   "source": [
    "# write a function\n",
    "# name : upper_lower_counter\n",
    "# accept : string\n",
    "# return dictionary as {'UPPER_CASE': 3, 'LOWER_CASE': 13}"
   ]
  },
  {
   "cell_type": "code",
   "execution_count": 2,
   "id": "30650c31",
   "metadata": {},
   "outputs": [
    {
     "data": {
      "text/plain": [
       "True"
      ]
     },
     "execution_count": 2,
     "metadata": {},
     "output_type": "execute_result"
    }
   ],
   "source": [
    "'h'.islower()"
   ]
  },
  {
   "cell_type": "code",
   "execution_count": 3,
   "id": "fd3b8219",
   "metadata": {},
   "outputs": [
    {
     "data": {
      "text/plain": [
       "False"
      ]
     },
     "execution_count": 3,
     "metadata": {},
     "output_type": "execute_result"
    }
   ],
   "source": [
    "'h'.isupper()"
   ]
  },
  {
   "cell_type": "code",
   "execution_count": 4,
   "id": "38dcdfe9",
   "metadata": {},
   "outputs": [],
   "source": [
    "# solution \n",
    "def upper_lower_counter (my_string):\n",
    "    upper_counter = 0\n",
    "    lower_counter = 0\n",
    "    for char in my_string:\n",
    "        if char.isupper():\n",
    "            upper_counter += 1\n",
    "        elif char.islower():\n",
    "            lower_counter += 1\n",
    "        else :\n",
    "            pass\n",
    "    return {\"UPPER_CASE\":upper_counter, \"LOWER_CASE\":lower_counter}"
   ]
  },
  {
   "cell_type": "code",
   "execution_count": 5,
   "id": "18c808bd",
   "metadata": {},
   "outputs": [
    {
     "data": {
      "text/plain": [
       "{'UPPER_CASE': 4, 'LOWER_CASE': 12}"
      ]
     },
     "execution_count": 5,
     "metadata": {},
     "output_type": "execute_result"
    }
   ],
   "source": [
    "upper_lower_counter ('The Quick Brown Fox')"
   ]
  },
  {
   "cell_type": "code",
   "execution_count": 6,
   "id": "40f8c911",
   "metadata": {},
   "outputs": [
    {
     "data": {
      "text/plain": [
       "{'UPPER_CASE': 5, 'LOWER_CASE': 20}"
      ]
     },
     "execution_count": 6,
     "metadata": {},
     "output_type": "execute_result"
    }
   ],
   "source": [
    "upper_lower_counter ('The Quick Is here bro 1 5 Brown Fox')"
   ]
  },
  {
   "cell_type": "code",
   "execution_count": 7,
   "id": "a094255d",
   "metadata": {},
   "outputs": [
    {
     "data": {
      "text/plain": [
       "35"
      ]
     },
     "execution_count": 7,
     "metadata": {},
     "output_type": "execute_result"
    }
   ],
   "source": [
    "len ('The Quick Is here bro 1 5 Brown Fox')"
   ]
  },
  {
   "cell_type": "markdown",
   "id": "1761ccd8",
   "metadata": {},
   "source": [
    "#### Exercise 2"
   ]
  },
  {
   "cell_type": "code",
   "execution_count": 8,
   "id": "b0680263",
   "metadata": {},
   "outputs": [],
   "source": [
    "# Write function\n",
    "# name : check_prime\n",
    "# take 1 number as argument \n",
    "# return if number is prime or not \n",
    "# 2 , 3 , 5 ,7 ,11 ,13\n"
   ]
  },
  {
   "cell_type": "code",
   "execution_count": 9,
   "id": "7b567563",
   "metadata": {},
   "outputs": [],
   "source": [
    "# solution \n",
    "def check_prime(num):\n",
    "    if (num==1):\n",
    "        return False\n",
    "    elif (num==2):\n",
    "        return True;\n",
    "    else:\n",
    "        for x in range(2,num):\n",
    "            if(num % x==0):\n",
    "                return False\n",
    "        return True     \n",
    "    "
   ]
  },
  {
   "cell_type": "code",
   "execution_count": 10,
   "id": "b2a2366d",
   "metadata": {},
   "outputs": [
    {
     "data": {
      "text/plain": [
       "False"
      ]
     },
     "execution_count": 10,
     "metadata": {},
     "output_type": "execute_result"
    }
   ],
   "source": [
    "check_prime(22)"
   ]
  },
  {
   "cell_type": "code",
   "execution_count": 11,
   "id": "1434294d",
   "metadata": {},
   "outputs": [
    {
     "data": {
      "text/plain": [
       "True"
      ]
     },
     "execution_count": 11,
     "metadata": {},
     "output_type": "execute_result"
    }
   ],
   "source": [
    "check_prime(23)"
   ]
  },
  {
   "cell_type": "markdown",
   "id": "d9bcbd86",
   "metadata": {},
   "source": [
    "#### Exercise 3"
   ]
  },
  {
   "cell_type": "code",
   "execution_count": 12,
   "id": "391676e6",
   "metadata": {},
   "outputs": [],
   "source": [
    "nums = [19, 65, 57, 39, 152, 639, 121, 44, 90, 190]\n",
    "# Write lambda expression that return every item \n",
    "# can be devided by 3 or 5  with filter method"
   ]
  },
  {
   "cell_type": "code",
   "execution_count": 13,
   "id": "89dc1f7d",
   "metadata": {},
   "outputs": [],
   "source": [
    "filtered_nums= list (filter (lambda num : (num % 3 ==0 or num % 5 ==0 ) , nums))"
   ]
  },
  {
   "cell_type": "code",
   "execution_count": 14,
   "id": "38a19afa",
   "metadata": {},
   "outputs": [
    {
     "data": {
      "text/plain": [
       "[65, 57, 39, 639, 90, 190]"
      ]
     },
     "execution_count": 14,
     "metadata": {},
     "output_type": "execute_result"
    }
   ],
   "source": [
    "filtered_nums"
   ]
  },
  {
   "cell_type": "code",
   "execution_count": null,
   "id": "82fbb043",
   "metadata": {},
   "outputs": [],
   "source": []
  }
 ],
 "metadata": {
  "kernelspec": {
   "display_name": "Python 3 (ipykernel)",
   "language": "python",
   "name": "python3"
  },
  "language_info": {
   "codemirror_mode": {
    "name": "ipython",
    "version": 3
   },
   "file_extension": ".py",
   "mimetype": "text/x-python",
   "name": "python",
   "nbconvert_exporter": "python",
   "pygments_lexer": "ipython3",
   "version": "3.9.7"
  }
 },
 "nbformat": 4,
 "nbformat_minor": 5
}
