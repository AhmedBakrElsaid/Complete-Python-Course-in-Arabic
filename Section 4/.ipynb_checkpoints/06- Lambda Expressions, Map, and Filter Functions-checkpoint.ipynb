{
 "cells": [
  {
   "cell_type": "markdown",
   "id": "b18f7d75",
   "metadata": {},
   "source": [
    "<a href='https://www.youtube.com/playlist?list=PLMDrOnfT8EAgCPrFfF8OgMQOTtMUk78AJ'><img src='../course_img.png'/></a>"
   ]
  },
  {
   "cell_type": "markdown",
   "id": "6e83c996",
   "metadata": {},
   "source": [
    "# Lambda Expressions, Map, and Filter Functions"
   ]
  },
  {
   "cell_type": "markdown",
   "id": "39f6194b",
   "metadata": {},
   "source": [
    "#### 1- map Function "
   ]
  },
  {
   "cell_type": "code",
   "execution_count": 1,
   "id": "724470b5",
   "metadata": {},
   "outputs": [],
   "source": [
    "def square (number):\n",
    "    return number ** 2"
   ]
  },
  {
   "cell_type": "code",
   "execution_count": 2,
   "id": "9628653c",
   "metadata": {},
   "outputs": [
    {
     "data": {
      "text/plain": [
       "25"
      ]
     },
     "execution_count": 2,
     "metadata": {},
     "output_type": "execute_result"
    }
   ],
   "source": [
    "square (5)"
   ]
  },
  {
   "cell_type": "code",
   "execution_count": 3,
   "id": "01f30ab5",
   "metadata": {},
   "outputs": [],
   "source": [
    "num_list = [2,5,6,3,4,5]"
   ]
  },
  {
   "cell_type": "code",
   "execution_count": 4,
   "id": "9b24d1ed",
   "metadata": {},
   "outputs": [
    {
     "data": {
      "text/plain": [
       "<map at 0x23a1f330e80>"
      ]
     },
     "execution_count": 4,
     "metadata": {},
     "output_type": "execute_result"
    }
   ],
   "source": [
    "map (square,num_list )"
   ]
  },
  {
   "cell_type": "code",
   "execution_count": 5,
   "id": "28aa10c2",
   "metadata": {},
   "outputs": [
    {
     "data": {
      "text/plain": [
       "[4, 25, 36, 9, 16, 25]"
      ]
     },
     "execution_count": 5,
     "metadata": {},
     "output_type": "execute_result"
    }
   ],
   "source": [
    "list (map (square ,num_list ) )"
   ]
  },
  {
   "cell_type": "code",
   "execution_count": 6,
   "id": "9604d048",
   "metadata": {},
   "outputs": [],
   "source": [
    "def even_or_odd (my_string):\n",
    "    if len(my_string) % 2 == 0:\n",
    "        return 'Even'\n",
    "    else:\n",
    "        return 'Odd'"
   ]
  },
  {
   "cell_type": "code",
   "execution_count": 7,
   "id": "fbae0959",
   "metadata": {},
   "outputs": [
    {
     "data": {
      "text/plain": [
       "'Odd'"
      ]
     },
     "execution_count": 7,
     "metadata": {},
     "output_type": "execute_result"
    }
   ],
   "source": [
    "even_or_odd ('Ahmed')"
   ]
  },
  {
   "cell_type": "code",
   "execution_count": 8,
   "id": "dd964519",
   "metadata": {},
   "outputs": [],
   "source": [
    "list_of_names = ['Asem','Moe' ,'Omar','Islam','Leo']"
   ]
  },
  {
   "cell_type": "code",
   "execution_count": 9,
   "id": "d49e3f5f",
   "metadata": {},
   "outputs": [
    {
     "data": {
      "text/plain": [
       "['Even', 'Odd', 'Even', 'Odd', 'Odd']"
      ]
     },
     "execution_count": 9,
     "metadata": {},
     "output_type": "execute_result"
    }
   ],
   "source": [
    "list (map (even_or_odd, list_of_names))"
   ]
  },
  {
   "cell_type": "code",
   "execution_count": 10,
   "id": "898a08ed",
   "metadata": {},
   "outputs": [
    {
     "name": "stdout",
     "output_type": "stream",
     "text": [
      "Even\n",
      "Odd\n",
      "Even\n",
      "Odd\n",
      "Odd\n"
     ]
    }
   ],
   "source": [
    "for item in map (even_or_odd, list_of_names) :\n",
    "    print (item)"
   ]
  },
  {
   "cell_type": "markdown",
   "id": "839f2760",
   "metadata": {},
   "source": [
    "#### 2- Filter Function"
   ]
  },
  {
   "cell_type": "code",
   "execution_count": 11,
   "id": "53ced27f",
   "metadata": {},
   "outputs": [],
   "source": [
    "def check_even (num) :\n",
    "    return num%2==0"
   ]
  },
  {
   "cell_type": "code",
   "execution_count": 12,
   "id": "50810ca6",
   "metadata": {},
   "outputs": [
    {
     "data": {
      "text/plain": [
       "True"
      ]
     },
     "execution_count": 12,
     "metadata": {},
     "output_type": "execute_result"
    }
   ],
   "source": [
    "check_even (2)"
   ]
  },
  {
   "cell_type": "code",
   "execution_count": 13,
   "id": "575f1458",
   "metadata": {},
   "outputs": [
    {
     "data": {
      "text/plain": [
       "False"
      ]
     },
     "execution_count": 13,
     "metadata": {},
     "output_type": "execute_result"
    }
   ],
   "source": [
    "check_even (5)"
   ]
  },
  {
   "cell_type": "code",
   "execution_count": 14,
   "id": "17daa7fa",
   "metadata": {},
   "outputs": [],
   "source": [
    "num_list1 = [2,8,5,21,15,85,58,64,21,23,22]"
   ]
  },
  {
   "cell_type": "code",
   "execution_count": 15,
   "id": "acf7022f",
   "metadata": {},
   "outputs": [
    {
     "data": {
      "text/plain": [
       "<filter at 0x23a1f378fa0>"
      ]
     },
     "execution_count": 15,
     "metadata": {},
     "output_type": "execute_result"
    }
   ],
   "source": [
    "filter (check_even, num_list1)"
   ]
  },
  {
   "cell_type": "code",
   "execution_count": 16,
   "id": "86c7ceac",
   "metadata": {},
   "outputs": [
    {
     "data": {
      "text/plain": [
       "[2, 8, 58, 64, 22]"
      ]
     },
     "execution_count": 16,
     "metadata": {},
     "output_type": "execute_result"
    }
   ],
   "source": [
    "list (filter (check_even, num_list1))"
   ]
  },
  {
   "cell_type": "markdown",
   "id": "e0ac87a8",
   "metadata": {},
   "source": [
    "#### 3- Lambda Expressions"
   ]
  },
  {
   "cell_type": "code",
   "execution_count": 17,
   "id": "0496303c",
   "metadata": {},
   "outputs": [],
   "source": [
    "def square (number):\n",
    "    return number ** 2"
   ]
  },
  {
   "cell_type": "code",
   "execution_count": 18,
   "id": "4c0a52c4",
   "metadata": {},
   "outputs": [
    {
     "data": {
      "text/plain": [
       "<function __main__.<lambda>(number)>"
      ]
     },
     "execution_count": 18,
     "metadata": {},
     "output_type": "execute_result"
    }
   ],
   "source": [
    "lambda number: number ** 2"
   ]
  },
  {
   "cell_type": "code",
   "execution_count": 19,
   "id": "ce84c3f1",
   "metadata": {},
   "outputs": [],
   "source": [
    "square = lambda number: number ** 2"
   ]
  },
  {
   "cell_type": "code",
   "execution_count": 20,
   "id": "be1df160",
   "metadata": {},
   "outputs": [
    {
     "data": {
      "text/plain": [
       "16"
      ]
     },
     "execution_count": 20,
     "metadata": {},
     "output_type": "execute_result"
    }
   ],
   "source": [
    "square (4)"
   ]
  },
  {
   "cell_type": "code",
   "execution_count": 21,
   "id": "e41648bf",
   "metadata": {},
   "outputs": [],
   "source": [
    "num_list = [2,5,6,3,4,5]"
   ]
  },
  {
   "cell_type": "code",
   "execution_count": 22,
   "id": "2ec87b5e",
   "metadata": {},
   "outputs": [
    {
     "data": {
      "text/plain": [
       "[4, 25, 36, 9, 16, 25]"
      ]
     },
     "execution_count": 22,
     "metadata": {},
     "output_type": "execute_result"
    }
   ],
   "source": [
    "list (map (lambda number: number ** 2 ,num_list ) )"
   ]
  },
  {
   "cell_type": "code",
   "execution_count": 23,
   "id": "1a03ccc9",
   "metadata": {},
   "outputs": [],
   "source": [
    "list_of_names = ['Asem','Moe' ,'Omar','Islam','Leo']"
   ]
  },
  {
   "cell_type": "code",
   "execution_count": 24,
   "id": "835fc34f",
   "metadata": {},
   "outputs": [
    {
     "data": {
      "text/plain": [
       "['A', 'M', 'O', 'I', 'L']"
      ]
     },
     "execution_count": 24,
     "metadata": {},
     "output_type": "execute_result"
    }
   ],
   "source": [
    "list (map (lambda my_string :my_string[0] , list_of_names))"
   ]
  },
  {
   "cell_type": "code",
   "execution_count": 25,
   "id": "05791f5a",
   "metadata": {},
   "outputs": [],
   "source": [
    "num_list1 = [2,8,5,21,15,85,58,64,21,23,22]"
   ]
  },
  {
   "cell_type": "code",
   "execution_count": 26,
   "id": "4188a290",
   "metadata": {},
   "outputs": [
    {
     "data": {
      "text/plain": [
       "[2, 8, 58, 64, 22]"
      ]
     },
     "execution_count": 26,
     "metadata": {},
     "output_type": "execute_result"
    }
   ],
   "source": [
    "list (filter (lambda num : num%2==0 ,num_list1))"
   ]
  },
  {
   "cell_type": "code",
   "execution_count": null,
   "id": "cc6dde44",
   "metadata": {},
   "outputs": [],
   "source": []
  }
 ],
 "metadata": {
  "kernelspec": {
   "display_name": "Python 3 (ipykernel)",
   "language": "python",
   "name": "python3"
  },
  "language_info": {
   "codemirror_mode": {
    "name": "ipython",
    "version": 3
   },
   "file_extension": ".py",
   "mimetype": "text/x-python",
   "name": "python",
   "nbconvert_exporter": "python",
   "pygments_lexer": "ipython3",
   "version": "3.9.7"
  }
 },
 "nbformat": 4,
 "nbformat_minor": 5
}
