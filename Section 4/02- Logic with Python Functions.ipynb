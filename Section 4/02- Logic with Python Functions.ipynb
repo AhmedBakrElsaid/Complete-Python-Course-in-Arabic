{
 "cells": [
  {
   "cell_type": "markdown",
   "id": "e2998753",
   "metadata": {},
   "source": [
    "<a href='https://www.youtube.com/playlist?list=PLMDrOnfT8EAgCPrFfF8OgMQOTtMUk78AJ'><img src='../course_img.png'/></a>"
   ]
  },
  {
   "cell_type": "markdown",
   "id": "e9ce20bd",
   "metadata": {},
   "source": [
    "# Logic with Python Functions"
   ]
  },
  {
   "cell_type": "markdown",
   "id": "37558c0a",
   "metadata": {},
   "source": [
    "#### 1- Check if number is even"
   ]
  },
  {
   "cell_type": "code",
   "execution_count": 1,
   "id": "b06af930",
   "metadata": {},
   "outputs": [
    {
     "data": {
      "text/plain": [
       "1"
      ]
     },
     "execution_count": 1,
     "metadata": {},
     "output_type": "execute_result"
    }
   ],
   "source": [
    "15 % 2 "
   ]
  },
  {
   "cell_type": "code",
   "execution_count": 2,
   "id": "fb4e136e",
   "metadata": {},
   "outputs": [],
   "source": [
    "def even_check (num):\n",
    "    result = num % 2 == 0\n",
    "    return result"
   ]
  },
  {
   "cell_type": "code",
   "execution_count": 3,
   "id": "186c9f93",
   "metadata": {},
   "outputs": [
    {
     "data": {
      "text/plain": [
       "False"
      ]
     },
     "execution_count": 3,
     "metadata": {},
     "output_type": "execute_result"
    }
   ],
   "source": [
    "even_check (25)"
   ]
  },
  {
   "cell_type": "code",
   "execution_count": 4,
   "id": "2c94d478",
   "metadata": {},
   "outputs": [
    {
     "data": {
      "text/plain": [
       "True"
      ]
     },
     "execution_count": 4,
     "metadata": {},
     "output_type": "execute_result"
    }
   ],
   "source": [
    "even_check (12)"
   ]
  },
  {
   "cell_type": "markdown",
   "id": "385b5485",
   "metadata": {},
   "source": [
    "#### 2- check if list have even number"
   ]
  },
  {
   "cell_type": "code",
   "execution_count": 5,
   "id": "b55d35ed",
   "metadata": {},
   "outputs": [],
   "source": [
    "def check_even_in_list (list_of_numbers):\n",
    "    for number in list_of_numbers:\n",
    "        if number % 2 == 0:\n",
    "            return True\n",
    "        else:\n",
    "            pass"
   ]
  },
  {
   "cell_type": "code",
   "execution_count": 6,
   "id": "d918eaa7",
   "metadata": {},
   "outputs": [],
   "source": [
    "check_even_in_list ([5,7,3,9,51])"
   ]
  },
  {
   "cell_type": "code",
   "execution_count": 7,
   "id": "4363e6cf",
   "metadata": {},
   "outputs": [
    {
     "data": {
      "text/plain": [
       "True"
      ]
     },
     "execution_count": 7,
     "metadata": {},
     "output_type": "execute_result"
    }
   ],
   "source": [
    "check_even_in_list ([5,7,3,12,9,51])"
   ]
  },
  {
   "cell_type": "code",
   "execution_count": 8,
   "id": "7c5dd479",
   "metadata": {},
   "outputs": [],
   "source": [
    "def check_even_in_list1 (list_of_numbers):\n",
    "    for number in list_of_numbers:\n",
    "        print (number)\n",
    "        if number % 2 == 0:\n",
    "            return True\n",
    "        else:\n",
    "            pass\n",
    "    print ('-----------')\n",
    "    return False"
   ]
  },
  {
   "cell_type": "code",
   "execution_count": 9,
   "id": "fc399dae",
   "metadata": {},
   "outputs": [
    {
     "name": "stdout",
     "output_type": "stream",
     "text": [
      "5\n",
      "7\n",
      "3\n",
      "9\n",
      "51\n",
      "-----------\n"
     ]
    },
    {
     "data": {
      "text/plain": [
       "False"
      ]
     },
     "execution_count": 9,
     "metadata": {},
     "output_type": "execute_result"
    }
   ],
   "source": [
    "check_even_in_list1 ([5,7,3,9,51])"
   ]
  },
  {
   "cell_type": "code",
   "execution_count": 10,
   "id": "7fa89540",
   "metadata": {},
   "outputs": [
    {
     "name": "stdout",
     "output_type": "stream",
     "text": [
      "5\n",
      "7\n",
      "3\n",
      "12\n"
     ]
    },
    {
     "data": {
      "text/plain": [
       "True"
      ]
     },
     "execution_count": 10,
     "metadata": {},
     "output_type": "execute_result"
    }
   ],
   "source": [
    "check_even_in_list1 ([5,7,3,12,9,51])"
   ]
  },
  {
   "cell_type": "markdown",
   "id": "6b8132c5",
   "metadata": {},
   "source": [
    "#### 3-Return all even number in a list"
   ]
  },
  {
   "cell_type": "code",
   "execution_count": 11,
   "id": "250cf7ee",
   "metadata": {},
   "outputs": [],
   "source": [
    "def check_even_in_list2 (list_of_numbers):\n",
    "    even_list = []\n",
    "    for number in list_of_numbers:\n",
    "        if number % 2 == 0:\n",
    "            even_list.append (number)\n",
    "        else:\n",
    "            pass\n",
    "    \n",
    "    return even_list"
   ]
  },
  {
   "cell_type": "code",
   "execution_count": 12,
   "id": "edd68c1a",
   "metadata": {},
   "outputs": [
    {
     "data": {
      "text/plain": [
       "[]"
      ]
     },
     "execution_count": 12,
     "metadata": {},
     "output_type": "execute_result"
    }
   ],
   "source": [
    "check_even_in_list2 ([5,7,3,9,51])"
   ]
  },
  {
   "cell_type": "code",
   "execution_count": 13,
   "id": "c091daa8",
   "metadata": {},
   "outputs": [
    {
     "data": {
      "text/plain": [
       "[2, 78, 12, 28]"
      ]
     },
     "execution_count": 13,
     "metadata": {},
     "output_type": "execute_result"
    }
   ],
   "source": [
    "check_even_in_list2 ([5,2,7,78,12,3,9,28,51])"
   ]
  },
  {
   "cell_type": "markdown",
   "id": "d89cbbde",
   "metadata": {},
   "source": [
    "#### 4- Return all even number in a list with list comprehensions"
   ]
  },
  {
   "cell_type": "code",
   "execution_count": 14,
   "id": "d161efa9",
   "metadata": {},
   "outputs": [],
   "source": [
    "def check_even_in_list3 (list_of_numbers):\n",
    "    even_list = [number for number in list_of_numbers if number % 2 == 0]\n",
    "    return even_list"
   ]
  },
  {
   "cell_type": "code",
   "execution_count": 15,
   "id": "a5d83273",
   "metadata": {},
   "outputs": [
    {
     "data": {
      "text/plain": [
       "[]"
      ]
     },
     "execution_count": 15,
     "metadata": {},
     "output_type": "execute_result"
    }
   ],
   "source": [
    "check_even_in_list3 ([5,7,3,9,51])"
   ]
  },
  {
   "cell_type": "code",
   "execution_count": 16,
   "id": "a7ed3cf1",
   "metadata": {},
   "outputs": [
    {
     "data": {
      "text/plain": [
       "[2, 78, 12, 28]"
      ]
     },
     "execution_count": 16,
     "metadata": {},
     "output_type": "execute_result"
    }
   ],
   "source": [
    "check_even_in_list3 ([5,2,7,78,12,3,9,28,51])"
   ]
  }
 ],
 "metadata": {
  "kernelspec": {
   "display_name": "Python 3 (ipykernel)",
   "language": "python",
   "name": "python3"
  },
  "language_info": {
   "codemirror_mode": {
    "name": "ipython",
    "version": 3
   },
   "file_extension": ".py",
   "mimetype": "text/x-python",
   "name": "python",
   "nbconvert_exporter": "python",
   "pygments_lexer": "ipython3",
   "version": "3.9.7"
  }
 },
 "nbformat": 4,
 "nbformat_minor": 5
}
