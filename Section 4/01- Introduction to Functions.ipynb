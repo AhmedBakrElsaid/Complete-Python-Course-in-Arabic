{
 "cells": [
  {
   "cell_type": "markdown",
   "id": "a66d30a8",
   "metadata": {},
   "source": [
    "<a href='https://www.youtube.com/playlist?list=PLMDrOnfT8EAgCPrFfF8OgMQOTtMUk78AJ'><img src='../course_img.png'/></a>"
   ]
  },
  {
   "cell_type": "markdown",
   "id": "3e8b04ad",
   "metadata": {},
   "source": [
    "# Introduction to Functions"
   ]
  },
  {
   "cell_type": "markdown",
   "id": "fa278ae4",
   "metadata": {},
   "source": [
    "#### 1- Basic building block of function"
   ]
  },
  {
   "cell_type": "code",
   "execution_count": 1,
   "id": "5b128c03",
   "metadata": {},
   "outputs": [],
   "source": [
    "# def keyword\n",
    "# name of function\n",
    "# () => parameters or arguments\n",
    "def name_of_function (arg1,arg2):\n",
    "    #docstring to tell what the function do and how?\n",
    "    '''\n",
    "    docstring : basic example of functions\n",
    "    '''\n",
    "    # code you want to excute \n",
    "    pass\n",
    "\n"
   ]
  },
  {
   "cell_type": "code",
   "execution_count": 2,
   "id": "6a8f1171",
   "metadata": {},
   "outputs": [],
   "source": [
    "def print_hello ():\n",
    "    print ('Hello Asem')"
   ]
  },
  {
   "cell_type": "code",
   "execution_count": 3,
   "id": "81912603",
   "metadata": {},
   "outputs": [
    {
     "data": {
      "text/plain": [
       "<function __main__.print_hello()>"
      ]
     },
     "execution_count": 3,
     "metadata": {},
     "output_type": "execute_result"
    }
   ],
   "source": [
    "print_hello"
   ]
  },
  {
   "cell_type": "code",
   "execution_count": 4,
   "id": "aed6c135",
   "metadata": {},
   "outputs": [
    {
     "name": "stdout",
     "output_type": "stream",
     "text": [
      "Hello Asem\n"
     ]
    }
   ],
   "source": [
    "print_hello ()"
   ]
  },
  {
   "cell_type": "code",
   "execution_count": 5,
   "id": "cb38b7f3",
   "metadata": {},
   "outputs": [],
   "source": [
    "def print_hello_name (name):\n",
    "    print (f'Hello {name}')"
   ]
  },
  {
   "cell_type": "code",
   "execution_count": 6,
   "id": "007a0872",
   "metadata": {},
   "outputs": [],
   "source": [
    "# print_hello_name()"
   ]
  },
  {
   "cell_type": "code",
   "execution_count": 7,
   "id": "4ad1c1e8",
   "metadata": {},
   "outputs": [
    {
     "name": "stdout",
     "output_type": "stream",
     "text": [
      "Hello Omar\n"
     ]
    }
   ],
   "source": [
    "print_hello_name ('Omar')"
   ]
  },
  {
   "cell_type": "code",
   "execution_count": 8,
   "id": "fbe622f3",
   "metadata": {},
   "outputs": [],
   "source": [
    "def print_hello_name1 (name = 'Ahmed'):\n",
    "    print (f'Hello {name}')"
   ]
  },
  {
   "cell_type": "code",
   "execution_count": 9,
   "id": "757442a7",
   "metadata": {},
   "outputs": [
    {
     "name": "stdout",
     "output_type": "stream",
     "text": [
      "Hello Ahmed\n"
     ]
    }
   ],
   "source": [
    "print_hello_name1 ()"
   ]
  },
  {
   "cell_type": "code",
   "execution_count": 10,
   "id": "ee76cd8d",
   "metadata": {},
   "outputs": [
    {
     "name": "stdout",
     "output_type": "stream",
     "text": [
      "Hello Asem\n"
     ]
    }
   ],
   "source": [
    "print_hello_name1('Asem')"
   ]
  },
  {
   "cell_type": "markdown",
   "id": "6e46a7cb",
   "metadata": {},
   "source": [
    "#### 2- Using return keyword"
   ]
  },
  {
   "cell_type": "code",
   "execution_count": 11,
   "id": "e165090a",
   "metadata": {},
   "outputs": [],
   "source": [
    "def sum_two_numbers1 (num1 , num2):\n",
    "    print (num1 + num2)"
   ]
  },
  {
   "cell_type": "code",
   "execution_count": 12,
   "id": "b89caa47",
   "metadata": {},
   "outputs": [
    {
     "name": "stdout",
     "output_type": "stream",
     "text": [
      "10\n"
     ]
    }
   ],
   "source": [
    "sum_two_numbers1(2,8)"
   ]
  },
  {
   "cell_type": "code",
   "execution_count": 13,
   "id": "1b783dd5",
   "metadata": {},
   "outputs": [],
   "source": [
    "def sum_two_numbers2 (num1 , num2):\n",
    "    return num1 + num2"
   ]
  },
  {
   "cell_type": "code",
   "execution_count": 14,
   "id": "226453ea",
   "metadata": {},
   "outputs": [
    {
     "data": {
      "text/plain": [
       "10"
      ]
     },
     "execution_count": 14,
     "metadata": {},
     "output_type": "execute_result"
    }
   ],
   "source": [
    "sum_two_numbers2 (2,8)"
   ]
  },
  {
   "cell_type": "code",
   "execution_count": 15,
   "id": "4d7c515f",
   "metadata": {},
   "outputs": [
    {
     "name": "stdout",
     "output_type": "stream",
     "text": [
      "13\n"
     ]
    }
   ],
   "source": [
    "result = sum_two_numbers1(5,8)"
   ]
  },
  {
   "cell_type": "code",
   "execution_count": 16,
   "id": "7619defe",
   "metadata": {},
   "outputs": [],
   "source": [
    "result"
   ]
  },
  {
   "cell_type": "code",
   "execution_count": 17,
   "id": "cd0bd06e",
   "metadata": {},
   "outputs": [
    {
     "data": {
      "text/plain": [
       "NoneType"
      ]
     },
     "execution_count": 17,
     "metadata": {},
     "output_type": "execute_result"
    }
   ],
   "source": [
    "type (result)"
   ]
  },
  {
   "cell_type": "code",
   "execution_count": 18,
   "id": "0fe5af58",
   "metadata": {},
   "outputs": [],
   "source": [
    "result1 = sum_two_numbers2 (2,9)"
   ]
  },
  {
   "cell_type": "code",
   "execution_count": 19,
   "id": "4aaf8adc",
   "metadata": {},
   "outputs": [
    {
     "data": {
      "text/plain": [
       "11"
      ]
     },
     "execution_count": 19,
     "metadata": {},
     "output_type": "execute_result"
    }
   ],
   "source": [
    "result1"
   ]
  },
  {
   "cell_type": "code",
   "execution_count": 20,
   "id": "ba79461e",
   "metadata": {},
   "outputs": [
    {
     "data": {
      "text/plain": [
       "int"
      ]
     },
     "execution_count": 20,
     "metadata": {},
     "output_type": "execute_result"
    }
   ],
   "source": [
    "type (result1)"
   ]
  },
  {
   "cell_type": "code",
   "execution_count": 21,
   "id": "e10fe8bd",
   "metadata": {},
   "outputs": [],
   "source": [
    "def sum_two_numbers2 (num1 , num2):\n",
    "    print (num1 + num2)\n",
    "    return num1 + num2\n",
    "    "
   ]
  },
  {
   "cell_type": "code",
   "execution_count": 22,
   "id": "a727edfc",
   "metadata": {},
   "outputs": [
    {
     "name": "stdout",
     "output_type": "stream",
     "text": [
      "13\n"
     ]
    },
    {
     "data": {
      "text/plain": [
       "13"
      ]
     },
     "execution_count": 22,
     "metadata": {},
     "output_type": "execute_result"
    }
   ],
   "source": [
    "sum_two_numbers2 (5,8)"
   ]
  },
  {
   "cell_type": "code",
   "execution_count": 23,
   "id": "5ccf8a2b",
   "metadata": {},
   "outputs": [],
   "source": [
    "# use only one return for path "
   ]
  },
  {
   "cell_type": "code",
   "execution_count": 24,
   "id": "3dbc5fa9",
   "metadata": {},
   "outputs": [],
   "source": [
    "def sum_two_numbers3 (num1 , num2):\n",
    "    print (num1 + num2)\n",
    "    return num1 + num2"
   ]
  },
  {
   "cell_type": "code",
   "execution_count": 25,
   "id": "18cffe7a",
   "metadata": {},
   "outputs": [
    {
     "name": "stdout",
     "output_type": "stream",
     "text": [
      "AhMed\n"
     ]
    },
    {
     "data": {
      "text/plain": [
       "'AhMed'"
      ]
     },
     "execution_count": 25,
     "metadata": {},
     "output_type": "execute_result"
    }
   ],
   "source": [
    "sum_two_numbers3 ('Ah' , 'Med')"
   ]
  },
  {
   "cell_type": "code",
   "execution_count": null,
   "id": "61aa38c4",
   "metadata": {},
   "outputs": [],
   "source": []
  }
 ],
 "metadata": {
  "kernelspec": {
   "display_name": "Python 3 (ipykernel)",
   "language": "python",
   "name": "python3"
  },
  "language_info": {
   "codemirror_mode": {
    "name": "ipython",
    "version": 3
   },
   "file_extension": ".py",
   "mimetype": "text/x-python",
   "name": "python",
   "nbconvert_exporter": "python",
   "pygments_lexer": "ipython3",
   "version": "3.9.7"
  }
 },
 "nbformat": 4,
 "nbformat_minor": 5
}
