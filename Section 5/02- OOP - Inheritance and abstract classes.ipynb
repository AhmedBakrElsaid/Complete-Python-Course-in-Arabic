{
 "cells": [
  {
   "cell_type": "markdown",
   "id": "1d2aff50",
   "metadata": {},
   "source": [
    "<a href='https://www.youtube.com/playlist?list=PLMDrOnfT8EAgCPrFfF8OgMQOTtMUk78AJ'><img src='../course_img.png'/></a>"
   ]
  },
  {
   "cell_type": "markdown",
   "id": "83c819be",
   "metadata": {},
   "source": [
    "# (OOP) - Inheritance and abstract classes"
   ]
  },
  {
   "cell_type": "markdown",
   "id": "26af9ae1",
   "metadata": {},
   "source": [
    "### Inheritance"
   ]
  },
  {
   "cell_type": "code",
   "execution_count": 1,
   "id": "64c3529f",
   "metadata": {},
   "outputs": [],
   "source": [
    "class Human:\n",
    "    def __init__ (self):\n",
    "        print ('Human Object Created')\n",
    "    \n",
    "    def who_am_i (self):\n",
    "        print ('I am Human')\n",
    "        \n",
    "    def eat (self): \n",
    "        print ('I am Eating Now')"
   ]
  },
  {
   "cell_type": "code",
   "execution_count": 2,
   "id": "e921e598",
   "metadata": {},
   "outputs": [],
   "source": [
    "class Teacher (Human) :\n",
    "    def __init__ (self):\n",
    "        Human.__init__(self)\n",
    "        print ('Teacher Object Created')\n",
    "    def who_am_i (self):\n",
    "        print ('I am Teacher')\n",
    "    def teach (self):\n",
    "        print('I am Teaching Now')"
   ]
  },
  {
   "cell_type": "code",
   "execution_count": 3,
   "id": "5ecd1854",
   "metadata": {},
   "outputs": [
    {
     "name": "stdout",
     "output_type": "stream",
     "text": [
      "Human Object Created\n",
      "Teacher Object Created\n"
     ]
    }
   ],
   "source": [
    "teacher1 = Teacher()"
   ]
  },
  {
   "cell_type": "code",
   "execution_count": 4,
   "id": "372cd4a6",
   "metadata": {},
   "outputs": [
    {
     "name": "stdout",
     "output_type": "stream",
     "text": [
      "I am Teacher\n"
     ]
    }
   ],
   "source": [
    "teacher1.who_am_i()"
   ]
  },
  {
   "cell_type": "code",
   "execution_count": 5,
   "id": "5916693e",
   "metadata": {},
   "outputs": [
    {
     "name": "stdout",
     "output_type": "stream",
     "text": [
      "I am Teaching Now\n"
     ]
    }
   ],
   "source": [
    "teacher1.teach()"
   ]
  },
  {
   "cell_type": "code",
   "execution_count": 6,
   "id": "68f2e7cb",
   "metadata": {},
   "outputs": [
    {
     "name": "stdout",
     "output_type": "stream",
     "text": [
      "Human Object Created\n"
     ]
    }
   ],
   "source": [
    "human1 = Human()"
   ]
  },
  {
   "cell_type": "code",
   "execution_count": 7,
   "id": "db7c3553",
   "metadata": {},
   "outputs": [
    {
     "name": "stdout",
     "output_type": "stream",
     "text": [
      "I am Human\n"
     ]
    }
   ],
   "source": [
    "human1.who_am_i()"
   ]
  },
  {
   "cell_type": "markdown",
   "id": "c6a9b10c",
   "metadata": {},
   "source": [
    "### abstract classes"
   ]
  },
  {
   "cell_type": "code",
   "execution_count": 8,
   "id": "88ca4621",
   "metadata": {},
   "outputs": [],
   "source": [
    "class Human:\n",
    "    def __init__ (self):\n",
    "        print ('Human Object Created')\n",
    "    \n",
    "    def who_am_i (self):\n",
    "        raise NotImplementedError ('Subclass must override me')\n",
    "        \n",
    "    def eat (self): \n",
    "        print ('I am Eating Now')"
   ]
  },
  {
   "cell_type": "code",
   "execution_count": 9,
   "id": "a627892e",
   "metadata": {},
   "outputs": [
    {
     "name": "stdout",
     "output_type": "stream",
     "text": [
      "Human Object Created\n"
     ]
    }
   ],
   "source": [
    "human2 = Human ()"
   ]
  },
  {
   "cell_type": "code",
   "execution_count": 10,
   "id": "b0ee5c86",
   "metadata": {},
   "outputs": [
    {
     "name": "stdout",
     "output_type": "stream",
     "text": [
      "I am Eating Now\n"
     ]
    }
   ],
   "source": [
    "human2.eat()"
   ]
  },
  {
   "cell_type": "code",
   "execution_count": 11,
   "id": "80e5a7a6",
   "metadata": {},
   "outputs": [],
   "source": [
    "# human2.who_am_i()"
   ]
  },
  {
   "cell_type": "code",
   "execution_count": 12,
   "id": "4862cf62",
   "metadata": {},
   "outputs": [],
   "source": [
    "class Teacher (Human) :\n",
    "    def __init__ (self):\n",
    "        Human.__init__(self)\n",
    "        print ('Teacher Object Created')\n",
    "    def who_am_i (self):\n",
    "        print ('I am Teacher')\n",
    "    def teach (self):\n",
    "        print('I am Teaching Now')"
   ]
  },
  {
   "cell_type": "code",
   "execution_count": 13,
   "id": "a0798b51",
   "metadata": {},
   "outputs": [
    {
     "name": "stdout",
     "output_type": "stream",
     "text": [
      "Human Object Created\n",
      "Teacher Object Created\n"
     ]
    }
   ],
   "source": [
    "teacher2 = Teacher()"
   ]
  },
  {
   "cell_type": "code",
   "execution_count": 14,
   "id": "23e7b50f",
   "metadata": {},
   "outputs": [
    {
     "name": "stdout",
     "output_type": "stream",
     "text": [
      "I am Teacher\n"
     ]
    }
   ],
   "source": [
    "teacher2.who_am_i()"
   ]
  },
  {
   "cell_type": "code",
   "execution_count": null,
   "id": "ee9006a7",
   "metadata": {},
   "outputs": [],
   "source": []
  }
 ],
 "metadata": {
  "kernelspec": {
   "display_name": "Python 3 (ipykernel)",
   "language": "python",
   "name": "python3"
  },
  "language_info": {
   "codemirror_mode": {
    "name": "ipython",
    "version": 3
   },
   "file_extension": ".py",
   "mimetype": "text/x-python",
   "name": "python",
   "nbconvert_exporter": "python",
   "pygments_lexer": "ipython3",
   "version": "3.9.7"
  }
 },
 "nbformat": 4,
 "nbformat_minor": 5
}
