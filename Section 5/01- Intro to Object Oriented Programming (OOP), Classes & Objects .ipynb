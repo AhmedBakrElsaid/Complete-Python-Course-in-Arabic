{
 "cells": [
  {
   "cell_type": "markdown",
   "id": "3b97b8de",
   "metadata": {},
   "source": [
    "<a href='https://www.youtube.com/playlist?list=PLMDrOnfT8EAgCPrFfF8OgMQOTtMUk78AJ'><img src='../course_img.png'/></a>"
   ]
  },
  {
   "cell_type": "markdown",
   "id": "139f0c84",
   "metadata": {},
   "source": [
    "# Intro to Object Oriented Programming (OOP), Classes & Objects "
   ]
  },
  {
   "cell_type": "code",
   "execution_count": 1,
   "id": "10944b51",
   "metadata": {},
   "outputs": [],
   "source": [
    "list1 = [1,2,38,8]"
   ]
  },
  {
   "cell_type": "code",
   "execution_count": 2,
   "id": "482916a1",
   "metadata": {},
   "outputs": [
    {
     "data": {
      "text/plain": [
       "list"
      ]
     },
     "execution_count": 2,
     "metadata": {},
     "output_type": "execute_result"
    }
   ],
   "source": [
    "type (list1)"
   ]
  },
  {
   "cell_type": "code",
   "execution_count": 3,
   "id": "0c35c996",
   "metadata": {},
   "outputs": [
    {
     "name": "stdout",
     "output_type": "stream",
     "text": [
      "<class 'list'>\n"
     ]
    }
   ],
   "source": [
    "print (type (list1))"
   ]
  },
  {
   "cell_type": "code",
   "execution_count": 4,
   "id": "bd532d87",
   "metadata": {},
   "outputs": [
    {
     "name": "stdout",
     "output_type": "stream",
     "text": [
      "<class 'dict'>\n"
     ]
    }
   ],
   "source": [
    "print (type ({}))"
   ]
  },
  {
   "cell_type": "markdown",
   "id": "b1717c87",
   "metadata": {},
   "source": [
    "### Class"
   ]
  },
  {
   "cell_type": "code",
   "execution_count": 5,
   "id": "281a88bc",
   "metadata": {},
   "outputs": [],
   "source": [
    "class Car:\n",
    "    pass"
   ]
  },
  {
   "cell_type": "code",
   "execution_count": 6,
   "id": "c710c110",
   "metadata": {},
   "outputs": [],
   "source": [
    "car1 = Car ()"
   ]
  },
  {
   "cell_type": "code",
   "execution_count": 7,
   "id": "1c949b9e",
   "metadata": {},
   "outputs": [
    {
     "name": "stdout",
     "output_type": "stream",
     "text": [
      "<class '__main__.Car'>\n"
     ]
    }
   ],
   "source": [
    "print (type (car1))"
   ]
  },
  {
   "cell_type": "markdown",
   "id": "50a58edf",
   "metadata": {},
   "source": [
    "### Attributes "
   ]
  },
  {
   "cell_type": "code",
   "execution_count": 8,
   "id": "2470d680",
   "metadata": {},
   "outputs": [],
   "source": [
    "class Car:\n",
    "    def __init__ (self,brand,year,color):\n",
    "        self.brand = brand\n",
    "        self.year = year\n",
    "        self.color = color"
   ]
  },
  {
   "cell_type": "code",
   "execution_count": 9,
   "id": "32f966bd",
   "metadata": {},
   "outputs": [],
   "source": [
    "car2 = Car (brand = 'Merceds',year = 2010,color ='Red')"
   ]
  },
  {
   "cell_type": "code",
   "execution_count": 10,
   "id": "fbd05160",
   "metadata": {},
   "outputs": [
    {
     "data": {
      "text/plain": [
       "'Merceds'"
      ]
     },
     "execution_count": 10,
     "metadata": {},
     "output_type": "execute_result"
    }
   ],
   "source": [
    "car2.brand"
   ]
  },
  {
   "cell_type": "code",
   "execution_count": 11,
   "id": "fb397f74",
   "metadata": {},
   "outputs": [
    {
     "data": {
      "text/plain": [
       "'Red'"
      ]
     },
     "execution_count": 11,
     "metadata": {},
     "output_type": "execute_result"
    }
   ],
   "source": [
    "car2.color"
   ]
  },
  {
   "cell_type": "code",
   "execution_count": 12,
   "id": "2a22421b",
   "metadata": {},
   "outputs": [
    {
     "data": {
      "text/plain": [
       "2010"
      ]
     },
     "execution_count": 12,
     "metadata": {},
     "output_type": "execute_result"
    }
   ],
   "source": [
    "car2.year"
   ]
  },
  {
   "cell_type": "code",
   "execution_count": 13,
   "id": "c23f86cd",
   "metadata": {},
   "outputs": [],
   "source": [
    "car3 = Car (brand = 'Toyota',year = 2020,color ='Blue')"
   ]
  },
  {
   "cell_type": "code",
   "execution_count": 14,
   "id": "c01890b5",
   "metadata": {},
   "outputs": [
    {
     "name": "stdout",
     "output_type": "stream",
     "text": [
      "Toyota\n",
      "2020\n",
      "Blue\n"
     ]
    }
   ],
   "source": [
    "print (car3.brand)\n",
    "print (car3.year)\n",
    "print (car3.color)"
   ]
  },
  {
   "cell_type": "code",
   "execution_count": 15,
   "id": "252b1230",
   "metadata": {},
   "outputs": [],
   "source": [
    "class MercedsCar:\n",
    "    brand = 'Merceds'\n",
    "    def __init__ (self,year,color):\n",
    "        self.year = year\n",
    "        self.color = color"
   ]
  },
  {
   "cell_type": "code",
   "execution_count": 16,
   "id": "ea86a897",
   "metadata": {},
   "outputs": [],
   "source": [
    "m_car1 = MercedsCar(2025, 'Green')"
   ]
  },
  {
   "cell_type": "code",
   "execution_count": 17,
   "id": "c8ea9337",
   "metadata": {},
   "outputs": [
    {
     "data": {
      "text/plain": [
       "'Merceds'"
      ]
     },
     "execution_count": 17,
     "metadata": {},
     "output_type": "execute_result"
    }
   ],
   "source": [
    "m_car1.brand"
   ]
  },
  {
   "cell_type": "code",
   "execution_count": 18,
   "id": "322e7fae",
   "metadata": {},
   "outputs": [
    {
     "data": {
      "text/plain": [
       "'Green'"
      ]
     },
     "execution_count": 18,
     "metadata": {},
     "output_type": "execute_result"
    }
   ],
   "source": [
    "m_car1.color"
   ]
  },
  {
   "cell_type": "code",
   "execution_count": 19,
   "id": "7ce3a970",
   "metadata": {},
   "outputs": [],
   "source": [
    "m_car1.brand = 'Toyota'"
   ]
  },
  {
   "cell_type": "code",
   "execution_count": 20,
   "id": "23a48ad8",
   "metadata": {},
   "outputs": [
    {
     "data": {
      "text/plain": [
       "'Toyota'"
      ]
     },
     "execution_count": 20,
     "metadata": {},
     "output_type": "execute_result"
    }
   ],
   "source": [
    "m_car1.brand"
   ]
  },
  {
   "cell_type": "markdown",
   "id": "c04eaebb",
   "metadata": {},
   "source": [
    "### Methods "
   ]
  },
  {
   "cell_type": "code",
   "execution_count": 21,
   "id": "ee31839c",
   "metadata": {},
   "outputs": [],
   "source": [
    "class Car:\n",
    "    def __init__ (self,brand,year,color):\n",
    "        self.brand = brand\n",
    "        self.year = year\n",
    "        self.color = color\n",
    "    \n",
    "    def move (self,speed):\n",
    "        self.speed = speed\n",
    "        print (f'{self.brand} Car is moving now at {self.speed} km/h')\n",
    "        \n",
    "    def stop (self):\n",
    "        print (f'{self.brand} Car is Stopped')"
   ]
  },
  {
   "cell_type": "code",
   "execution_count": 22,
   "id": "550cf6f4",
   "metadata": {},
   "outputs": [],
   "source": [
    "my_car = Car ('Merceds', 2025, 'Red')"
   ]
  },
  {
   "cell_type": "code",
   "execution_count": 23,
   "id": "3d113f49",
   "metadata": {
    "scrolled": true
   },
   "outputs": [
    {
     "data": {
      "text/plain": [
       "'Merceds'"
      ]
     },
     "execution_count": 23,
     "metadata": {},
     "output_type": "execute_result"
    }
   ],
   "source": [
    "my_car.brand"
   ]
  },
  {
   "cell_type": "code",
   "execution_count": 24,
   "id": "0634d735",
   "metadata": {},
   "outputs": [
    {
     "name": "stdout",
     "output_type": "stream",
     "text": [
      "Merceds Car is moving now at 250 km/h\n"
     ]
    }
   ],
   "source": [
    "my_car.move(250)"
   ]
  },
  {
   "cell_type": "code",
   "execution_count": 25,
   "id": "edde53c7",
   "metadata": {},
   "outputs": [
    {
     "name": "stdout",
     "output_type": "stream",
     "text": [
      "Merceds Car is Stopped\n"
     ]
    }
   ],
   "source": [
    "my_car.stop()"
   ]
  },
  {
   "cell_type": "code",
   "execution_count": 26,
   "id": "1d83fa5b",
   "metadata": {},
   "outputs": [
    {
     "data": {
      "text/plain": [
       "250"
      ]
     },
     "execution_count": 26,
     "metadata": {},
     "output_type": "execute_result"
    }
   ],
   "source": [
    "my_car.speed"
   ]
  }
 ],
 "metadata": {
  "kernelspec": {
   "display_name": "Python 3 (ipykernel)",
   "language": "python",
   "name": "python3"
  },
  "language_info": {
   "codemirror_mode": {
    "name": "ipython",
    "version": 3
   },
   "file_extension": ".py",
   "mimetype": "text/x-python",
   "name": "python",
   "nbconvert_exporter": "python",
   "pygments_lexer": "ipython3",
   "version": "3.9.7"
  }
 },
 "nbformat": 4,
 "nbformat_minor": 5
}
