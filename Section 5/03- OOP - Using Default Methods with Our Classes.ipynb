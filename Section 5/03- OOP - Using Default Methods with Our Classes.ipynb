{
 "cells": [
  {
   "cell_type": "markdown",
   "id": "e629c8b8",
   "metadata": {},
   "source": [
    "<a href='https://www.youtube.com/playlist?list=PLMDrOnfT8EAgCPrFfF8OgMQOTtMUk78AJ'><img src='../course_img.png'/></a>"
   ]
  },
  {
   "cell_type": "markdown",
   "id": "7d19da53",
   "metadata": {},
   "source": [
    "# (OOP) - Using Default Methods with Our Classes"
   ]
  },
  {
   "cell_type": "markdown",
   "id": "18c6f269",
   "metadata": {},
   "source": [
    "#### Lists as Example"
   ]
  },
  {
   "cell_type": "code",
   "execution_count": 1,
   "id": "97fa3e9c",
   "metadata": {},
   "outputs": [],
   "source": [
    "list1 = [1,2,3,8,5,7]"
   ]
  },
  {
   "cell_type": "code",
   "execution_count": 2,
   "id": "73000ee9",
   "metadata": {},
   "outputs": [
    {
     "name": "stdout",
     "output_type": "stream",
     "text": [
      "[1, 2, 3, 8, 5, 7]\n"
     ]
    }
   ],
   "source": [
    "print (list1)"
   ]
  },
  {
   "cell_type": "code",
   "execution_count": 3,
   "id": "f124e5bb",
   "metadata": {},
   "outputs": [
    {
     "data": {
      "text/plain": [
       "6"
      ]
     },
     "execution_count": 3,
     "metadata": {},
     "output_type": "execute_result"
    }
   ],
   "source": [
    "len (list1)"
   ]
  },
  {
   "cell_type": "code",
   "execution_count": 4,
   "id": "808dfd03",
   "metadata": {},
   "outputs": [
    {
     "name": "stdout",
     "output_type": "stream",
     "text": [
      "<class 'list'>\n"
     ]
    }
   ],
   "source": [
    "print (type (list1))"
   ]
  },
  {
   "cell_type": "markdown",
   "id": "d8649f99",
   "metadata": {},
   "source": [
    "### Creating a new class"
   ]
  },
  {
   "cell_type": "code",
   "execution_count": 5,
   "id": "f31f9af3",
   "metadata": {},
   "outputs": [],
   "source": [
    "class Car:\n",
    "    def __init__ (self,brand,year,color,length):\n",
    "        self.brand = brand\n",
    "        self.year = year\n",
    "        self.color = color\n",
    "        self.length = length\n",
    "        \n",
    "    def __str__ (self):\n",
    "        return f\"A {self.color} {self.brand} created in {self.year}\"\n",
    "    \n",
    "    def __len__ (self):\n",
    "        return self.length \n",
    "    \n",
    "    def __del__ (self):\n",
    "        print (f'A {self.color} {self.brand} is removed from database')\n",
    "    "
   ]
  },
  {
   "cell_type": "code",
   "execution_count": 6,
   "id": "dcbe55a7",
   "metadata": {},
   "outputs": [],
   "source": [
    "car1 = Car('Merceds', 2022, 'Red',4)"
   ]
  },
  {
   "cell_type": "code",
   "execution_count": 7,
   "id": "a980e962",
   "metadata": {},
   "outputs": [
    {
     "data": {
      "text/plain": [
       "'Merceds'"
      ]
     },
     "execution_count": 7,
     "metadata": {},
     "output_type": "execute_result"
    }
   ],
   "source": [
    "car1.brand"
   ]
  },
  {
   "cell_type": "code",
   "execution_count": 8,
   "id": "90903248",
   "metadata": {},
   "outputs": [
    {
     "name": "stdout",
     "output_type": "stream",
     "text": [
      "A Red Merceds created in 2022\n"
     ]
    }
   ],
   "source": [
    "print (car1)"
   ]
  },
  {
   "cell_type": "code",
   "execution_count": 9,
   "id": "7cc7d9e6",
   "metadata": {},
   "outputs": [],
   "source": [
    "#len (car1)"
   ]
  },
  {
   "cell_type": "code",
   "execution_count": 10,
   "id": "589a8f47",
   "metadata": {},
   "outputs": [
    {
     "data": {
      "text/plain": [
       "'A Red Merceds created in 2022'"
      ]
     },
     "execution_count": 10,
     "metadata": {},
     "output_type": "execute_result"
    }
   ],
   "source": [
    "str (car1)"
   ]
  },
  {
   "cell_type": "code",
   "execution_count": 11,
   "id": "62e36d5f",
   "metadata": {},
   "outputs": [
    {
     "data": {
      "text/plain": [
       "4"
      ]
     },
     "execution_count": 11,
     "metadata": {},
     "output_type": "execute_result"
    }
   ],
   "source": [
    "len (car1)"
   ]
  },
  {
   "cell_type": "code",
   "execution_count": 12,
   "id": "4c5143de",
   "metadata": {},
   "outputs": [
    {
     "name": "stdout",
     "output_type": "stream",
     "text": [
      "A Red Merceds is removed from database\n"
     ]
    }
   ],
   "source": [
    "del car1"
   ]
  },
  {
   "cell_type": "code",
   "execution_count": 13,
   "id": "0e20b863",
   "metadata": {
    "scrolled": true
   },
   "outputs": [],
   "source": [
    "# car1"
   ]
  },
  {
   "cell_type": "code",
   "execution_count": null,
   "id": "c6234e46",
   "metadata": {},
   "outputs": [],
   "source": []
  }
 ],
 "metadata": {
  "kernelspec": {
   "display_name": "Python 3 (ipykernel)",
   "language": "python",
   "name": "python3"
  },
  "language_info": {
   "codemirror_mode": {
    "name": "ipython",
    "version": 3
   },
   "file_extension": ".py",
   "mimetype": "text/x-python",
   "name": "python",
   "nbconvert_exporter": "python",
   "pygments_lexer": "ipython3",
   "version": "3.9.7"
  }
 },
 "nbformat": 4,
 "nbformat_minor": 5
}
